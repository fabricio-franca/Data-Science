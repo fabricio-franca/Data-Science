{
  "nbformat": 4,
  "nbformat_minor": 0,
  "metadata": {
    "colab": {
      "provenance": [],
      "gpuType": "T4",
      "include_colab_link": true
    },
    "kernelspec": {
      "name": "python3",
      "display_name": "Python 3"
    },
    "language_info": {
      "name": "python"
    },
    "accelerator": "GPU"
  },
  "cells": [
    {
      "cell_type": "markdown",
      "metadata": {
        "id": "view-in-github",
        "colab_type": "text"
      },
      "source": [
        "<a href=\"https://colab.research.google.com/github/fabricio-franca/Data-Science/blob/main/LSTM_Previs%C3%A3o_de_A%C3%A7%C3%B5es.ipynb\" target=\"_parent\"><img src=\"https://colab.research.google.com/assets/colab-badge.svg\" alt=\"Open In Colab\"/></a>"
      ]
    },
    {
      "cell_type": "markdown",
      "source": [
        "# LSTM - Previsão de *Ações*"
      ],
      "metadata": {
        "id": "abomDk5EwsG2"
      }
    },
    {
      "cell_type": "markdown",
      "source": [
        "Este script tem como objetivo prever o preço futuro de ações utilizando uma Rede Neural Recorrente LSTM (Long Short-Term Memory).\n",
        "\n",
        "As LSTMs são particularmente adequadas para séries temporais, como dados de preços de ações,devido à sua capacidade de lembrar informações de longo prazo. O modelo será treinado em dados históricos de preços\n",
        "e utilizado para fazer previsões futuras.  \n",
        "\n",
        "O desempenho do modelo será avaliado utilizando métricas apropriadas\n",
        "como o erro médio quadrático (RMSE) e a precisão da previsão.  A implementação inclui etapas de pré-processamento de dados,\n",
        "como normalização, divisão em conjuntos de treino e teste, e a construção e treinamento do modelo LSTM.\n",
        "\n",
        "O script também pode incluir a visualização dos resultados da previsão, comparando-os com os valores reais.\n"
      ],
      "metadata": {
        "id": "1cd1Waz5ssw9"
      }
    },
    {
      "cell_type": "code",
      "source": [],
      "metadata": {
        "id": "3Qxw9MX9sgwd"
      },
      "execution_count": null,
      "outputs": []
    },
    {
      "cell_type": "code",
      "execution_count": 1,
      "metadata": {
        "id": "6ibSlhNswmQv"
      },
      "outputs": [],
      "source": [
        "import numpy as np\n",
        "import pandas as pd\n",
        "import matplotlib\n",
        "import tensorflow as tf\n",
        "import sklearn"
      ]
    },
    {
      "cell_type": "code",
      "source": [
        "np.__version__, pd.__version__, matplotlib.__version__, tf.__version__, sklearn.__version__"
      ],
      "metadata": {
        "colab": {
          "base_uri": "https://localhost:8080/"
        },
        "id": "qMYE7oxbw0GG",
        "outputId": "8376abfc-962c-4561-fab0-45ae7e0951ca"
      },
      "execution_count": 2,
      "outputs": [
        {
          "output_type": "execute_result",
          "data": {
            "text/plain": [
              "('2.0.2', '2.2.2', '3.10.0', '2.18.0', '1.6.1')"
            ]
          },
          "metadata": {},
          "execution_count": 2
        }
      ]
    },
    {
      "cell_type": "code",
      "source": [
        "from tensorflow.keras.models import Sequential\n",
        "from tensorflow.keras.layers import Dense, Dropout, LSTM\n",
        "from sklearn.preprocessing import MinMaxScaler\n",
        "import matplotlib.pyplot as plt"
      ],
      "metadata": {
        "id": "B6INdT-_w2dX"
      },
      "execution_count": 3,
      "outputs": []
    },
    {
      "cell_type": "code",
      "source": [
        "base = pd.read_csv('petr4_treinamento.csv')\n",
        "base"
      ],
      "metadata": {
        "colab": {
          "base_uri": "https://localhost:8080/",
          "height": 424
        },
        "id": "mb7Ie2JH1KS3",
        "outputId": "7f87cd4d-c193-4eef-d617-f661973a00b6"
      },
      "execution_count": 4,
      "outputs": [
        {
          "output_type": "execute_result",
          "data": {
            "text/plain": [
              "            Date       Open       High        Low      Close  Adj Close  \\\n",
              "0     2013-01-02  19.990000  20.209999  19.690001  19.690001  18.086271   \n",
              "1     2013-01-03  19.809999  20.400000  19.700001  20.400000  18.738441   \n",
              "2     2013-01-04  20.330000  20.620001  20.170000  20.430000  18.766001   \n",
              "3     2013-01-07  20.480000  20.670000  19.950001  20.080000  18.444506   \n",
              "4     2013-01-08  20.110001  20.230000  19.459999  19.500000  17.911745   \n",
              "...          ...        ...        ...        ...        ...        ...   \n",
              "1240  2017-12-25  15.750000  15.750000  15.750000  15.750000  15.718563   \n",
              "1241  2017-12-26  15.750000  15.990000  15.690000  15.970000  15.938125   \n",
              "1242  2017-12-27  15.990000  16.139999  15.980000  16.049999  16.017963   \n",
              "1243  2017-12-28  16.100000  16.129999  16.000000  16.100000  16.067865   \n",
              "1244  2017-12-29  16.100000  16.100000  16.100000  16.100000  16.067865   \n",
              "\n",
              "          Volume  \n",
              "0     30182600.0  \n",
              "1     30552600.0  \n",
              "2     36141000.0  \n",
              "3     28069600.0  \n",
              "4     29091300.0  \n",
              "...          ...  \n",
              "1240         0.0  \n",
              "1241  22173100.0  \n",
              "1242  23552200.0  \n",
              "1243  19011500.0  \n",
              "1244         0.0  \n",
              "\n",
              "[1245 rows x 7 columns]"
            ],
            "text/html": [
              "\n",
              "  <div id=\"df-9c2b9f35-09a1-49e3-b0c9-0729d5d1e510\" class=\"colab-df-container\">\n",
              "    <div>\n",
              "<style scoped>\n",
              "    .dataframe tbody tr th:only-of-type {\n",
              "        vertical-align: middle;\n",
              "    }\n",
              "\n",
              "    .dataframe tbody tr th {\n",
              "        vertical-align: top;\n",
              "    }\n",
              "\n",
              "    .dataframe thead th {\n",
              "        text-align: right;\n",
              "    }\n",
              "</style>\n",
              "<table border=\"1\" class=\"dataframe\">\n",
              "  <thead>\n",
              "    <tr style=\"text-align: right;\">\n",
              "      <th></th>\n",
              "      <th>Date</th>\n",
              "      <th>Open</th>\n",
              "      <th>High</th>\n",
              "      <th>Low</th>\n",
              "      <th>Close</th>\n",
              "      <th>Adj Close</th>\n",
              "      <th>Volume</th>\n",
              "    </tr>\n",
              "  </thead>\n",
              "  <tbody>\n",
              "    <tr>\n",
              "      <th>0</th>\n",
              "      <td>2013-01-02</td>\n",
              "      <td>19.990000</td>\n",
              "      <td>20.209999</td>\n",
              "      <td>19.690001</td>\n",
              "      <td>19.690001</td>\n",
              "      <td>18.086271</td>\n",
              "      <td>30182600.0</td>\n",
              "    </tr>\n",
              "    <tr>\n",
              "      <th>1</th>\n",
              "      <td>2013-01-03</td>\n",
              "      <td>19.809999</td>\n",
              "      <td>20.400000</td>\n",
              "      <td>19.700001</td>\n",
              "      <td>20.400000</td>\n",
              "      <td>18.738441</td>\n",
              "      <td>30552600.0</td>\n",
              "    </tr>\n",
              "    <tr>\n",
              "      <th>2</th>\n",
              "      <td>2013-01-04</td>\n",
              "      <td>20.330000</td>\n",
              "      <td>20.620001</td>\n",
              "      <td>20.170000</td>\n",
              "      <td>20.430000</td>\n",
              "      <td>18.766001</td>\n",
              "      <td>36141000.0</td>\n",
              "    </tr>\n",
              "    <tr>\n",
              "      <th>3</th>\n",
              "      <td>2013-01-07</td>\n",
              "      <td>20.480000</td>\n",
              "      <td>20.670000</td>\n",
              "      <td>19.950001</td>\n",
              "      <td>20.080000</td>\n",
              "      <td>18.444506</td>\n",
              "      <td>28069600.0</td>\n",
              "    </tr>\n",
              "    <tr>\n",
              "      <th>4</th>\n",
              "      <td>2013-01-08</td>\n",
              "      <td>20.110001</td>\n",
              "      <td>20.230000</td>\n",
              "      <td>19.459999</td>\n",
              "      <td>19.500000</td>\n",
              "      <td>17.911745</td>\n",
              "      <td>29091300.0</td>\n",
              "    </tr>\n",
              "    <tr>\n",
              "      <th>...</th>\n",
              "      <td>...</td>\n",
              "      <td>...</td>\n",
              "      <td>...</td>\n",
              "      <td>...</td>\n",
              "      <td>...</td>\n",
              "      <td>...</td>\n",
              "      <td>...</td>\n",
              "    </tr>\n",
              "    <tr>\n",
              "      <th>1240</th>\n",
              "      <td>2017-12-25</td>\n",
              "      <td>15.750000</td>\n",
              "      <td>15.750000</td>\n",
              "      <td>15.750000</td>\n",
              "      <td>15.750000</td>\n",
              "      <td>15.718563</td>\n",
              "      <td>0.0</td>\n",
              "    </tr>\n",
              "    <tr>\n",
              "      <th>1241</th>\n",
              "      <td>2017-12-26</td>\n",
              "      <td>15.750000</td>\n",
              "      <td>15.990000</td>\n",
              "      <td>15.690000</td>\n",
              "      <td>15.970000</td>\n",
              "      <td>15.938125</td>\n",
              "      <td>22173100.0</td>\n",
              "    </tr>\n",
              "    <tr>\n",
              "      <th>1242</th>\n",
              "      <td>2017-12-27</td>\n",
              "      <td>15.990000</td>\n",
              "      <td>16.139999</td>\n",
              "      <td>15.980000</td>\n",
              "      <td>16.049999</td>\n",
              "      <td>16.017963</td>\n",
              "      <td>23552200.0</td>\n",
              "    </tr>\n",
              "    <tr>\n",
              "      <th>1243</th>\n",
              "      <td>2017-12-28</td>\n",
              "      <td>16.100000</td>\n",
              "      <td>16.129999</td>\n",
              "      <td>16.000000</td>\n",
              "      <td>16.100000</td>\n",
              "      <td>16.067865</td>\n",
              "      <td>19011500.0</td>\n",
              "    </tr>\n",
              "    <tr>\n",
              "      <th>1244</th>\n",
              "      <td>2017-12-29</td>\n",
              "      <td>16.100000</td>\n",
              "      <td>16.100000</td>\n",
              "      <td>16.100000</td>\n",
              "      <td>16.100000</td>\n",
              "      <td>16.067865</td>\n",
              "      <td>0.0</td>\n",
              "    </tr>\n",
              "  </tbody>\n",
              "</table>\n",
              "<p>1245 rows × 7 columns</p>\n",
              "</div>\n",
              "    <div class=\"colab-df-buttons\">\n",
              "\n",
              "  <div class=\"colab-df-container\">\n",
              "    <button class=\"colab-df-convert\" onclick=\"convertToInteractive('df-9c2b9f35-09a1-49e3-b0c9-0729d5d1e510')\"\n",
              "            title=\"Convert this dataframe to an interactive table.\"\n",
              "            style=\"display:none;\">\n",
              "\n",
              "  <svg xmlns=\"http://www.w3.org/2000/svg\" height=\"24px\" viewBox=\"0 -960 960 960\">\n",
              "    <path d=\"M120-120v-720h720v720H120Zm60-500h600v-160H180v160Zm220 220h160v-160H400v160Zm0 220h160v-160H400v160ZM180-400h160v-160H180v160Zm440 0h160v-160H620v160ZM180-180h160v-160H180v160Zm440 0h160v-160H620v160Z\"/>\n",
              "  </svg>\n",
              "    </button>\n",
              "\n",
              "  <style>\n",
              "    .colab-df-container {\n",
              "      display:flex;\n",
              "      gap: 12px;\n",
              "    }\n",
              "\n",
              "    .colab-df-convert {\n",
              "      background-color: #E8F0FE;\n",
              "      border: none;\n",
              "      border-radius: 50%;\n",
              "      cursor: pointer;\n",
              "      display: none;\n",
              "      fill: #1967D2;\n",
              "      height: 32px;\n",
              "      padding: 0 0 0 0;\n",
              "      width: 32px;\n",
              "    }\n",
              "\n",
              "    .colab-df-convert:hover {\n",
              "      background-color: #E2EBFA;\n",
              "      box-shadow: 0px 1px 2px rgba(60, 64, 67, 0.3), 0px 1px 3px 1px rgba(60, 64, 67, 0.15);\n",
              "      fill: #174EA6;\n",
              "    }\n",
              "\n",
              "    .colab-df-buttons div {\n",
              "      margin-bottom: 4px;\n",
              "    }\n",
              "\n",
              "    [theme=dark] .colab-df-convert {\n",
              "      background-color: #3B4455;\n",
              "      fill: #D2E3FC;\n",
              "    }\n",
              "\n",
              "    [theme=dark] .colab-df-convert:hover {\n",
              "      background-color: #434B5C;\n",
              "      box-shadow: 0px 1px 3px 1px rgba(0, 0, 0, 0.15);\n",
              "      filter: drop-shadow(0px 1px 2px rgba(0, 0, 0, 0.3));\n",
              "      fill: #FFFFFF;\n",
              "    }\n",
              "  </style>\n",
              "\n",
              "    <script>\n",
              "      const buttonEl =\n",
              "        document.querySelector('#df-9c2b9f35-09a1-49e3-b0c9-0729d5d1e510 button.colab-df-convert');\n",
              "      buttonEl.style.display =\n",
              "        google.colab.kernel.accessAllowed ? 'block' : 'none';\n",
              "\n",
              "      async function convertToInteractive(key) {\n",
              "        const element = document.querySelector('#df-9c2b9f35-09a1-49e3-b0c9-0729d5d1e510');\n",
              "        const dataTable =\n",
              "          await google.colab.kernel.invokeFunction('convertToInteractive',\n",
              "                                                    [key], {});\n",
              "        if (!dataTable) return;\n",
              "\n",
              "        const docLinkHtml = 'Like what you see? Visit the ' +\n",
              "          '<a target=\"_blank\" href=https://colab.research.google.com/notebooks/data_table.ipynb>data table notebook</a>'\n",
              "          + ' to learn more about interactive tables.';\n",
              "        element.innerHTML = '';\n",
              "        dataTable['output_type'] = 'display_data';\n",
              "        await google.colab.output.renderOutput(dataTable, element);\n",
              "        const docLink = document.createElement('div');\n",
              "        docLink.innerHTML = docLinkHtml;\n",
              "        element.appendChild(docLink);\n",
              "      }\n",
              "    </script>\n",
              "  </div>\n",
              "\n",
              "\n",
              "<div id=\"df-4bcbdb65-4f3e-4cc2-bac9-2ae75378f632\">\n",
              "  <button class=\"colab-df-quickchart\" onclick=\"quickchart('df-4bcbdb65-4f3e-4cc2-bac9-2ae75378f632')\"\n",
              "            title=\"Suggest charts\"\n",
              "            style=\"display:none;\">\n",
              "\n",
              "<svg xmlns=\"http://www.w3.org/2000/svg\" height=\"24px\"viewBox=\"0 0 24 24\"\n",
              "     width=\"24px\">\n",
              "    <g>\n",
              "        <path d=\"M19 3H5c-1.1 0-2 .9-2 2v14c0 1.1.9 2 2 2h14c1.1 0 2-.9 2-2V5c0-1.1-.9-2-2-2zM9 17H7v-7h2v7zm4 0h-2V7h2v10zm4 0h-2v-4h2v4z\"/>\n",
              "    </g>\n",
              "</svg>\n",
              "  </button>\n",
              "\n",
              "<style>\n",
              "  .colab-df-quickchart {\n",
              "      --bg-color: #E8F0FE;\n",
              "      --fill-color: #1967D2;\n",
              "      --hover-bg-color: #E2EBFA;\n",
              "      --hover-fill-color: #174EA6;\n",
              "      --disabled-fill-color: #AAA;\n",
              "      --disabled-bg-color: #DDD;\n",
              "  }\n",
              "\n",
              "  [theme=dark] .colab-df-quickchart {\n",
              "      --bg-color: #3B4455;\n",
              "      --fill-color: #D2E3FC;\n",
              "      --hover-bg-color: #434B5C;\n",
              "      --hover-fill-color: #FFFFFF;\n",
              "      --disabled-bg-color: #3B4455;\n",
              "      --disabled-fill-color: #666;\n",
              "  }\n",
              "\n",
              "  .colab-df-quickchart {\n",
              "    background-color: var(--bg-color);\n",
              "    border: none;\n",
              "    border-radius: 50%;\n",
              "    cursor: pointer;\n",
              "    display: none;\n",
              "    fill: var(--fill-color);\n",
              "    height: 32px;\n",
              "    padding: 0;\n",
              "    width: 32px;\n",
              "  }\n",
              "\n",
              "  .colab-df-quickchart:hover {\n",
              "    background-color: var(--hover-bg-color);\n",
              "    box-shadow: 0 1px 2px rgba(60, 64, 67, 0.3), 0 1px 3px 1px rgba(60, 64, 67, 0.15);\n",
              "    fill: var(--button-hover-fill-color);\n",
              "  }\n",
              "\n",
              "  .colab-df-quickchart-complete:disabled,\n",
              "  .colab-df-quickchart-complete:disabled:hover {\n",
              "    background-color: var(--disabled-bg-color);\n",
              "    fill: var(--disabled-fill-color);\n",
              "    box-shadow: none;\n",
              "  }\n",
              "\n",
              "  .colab-df-spinner {\n",
              "    border: 2px solid var(--fill-color);\n",
              "    border-color: transparent;\n",
              "    border-bottom-color: var(--fill-color);\n",
              "    animation:\n",
              "      spin 1s steps(1) infinite;\n",
              "  }\n",
              "\n",
              "  @keyframes spin {\n",
              "    0% {\n",
              "      border-color: transparent;\n",
              "      border-bottom-color: var(--fill-color);\n",
              "      border-left-color: var(--fill-color);\n",
              "    }\n",
              "    20% {\n",
              "      border-color: transparent;\n",
              "      border-left-color: var(--fill-color);\n",
              "      border-top-color: var(--fill-color);\n",
              "    }\n",
              "    30% {\n",
              "      border-color: transparent;\n",
              "      border-left-color: var(--fill-color);\n",
              "      border-top-color: var(--fill-color);\n",
              "      border-right-color: var(--fill-color);\n",
              "    }\n",
              "    40% {\n",
              "      border-color: transparent;\n",
              "      border-right-color: var(--fill-color);\n",
              "      border-top-color: var(--fill-color);\n",
              "    }\n",
              "    60% {\n",
              "      border-color: transparent;\n",
              "      border-right-color: var(--fill-color);\n",
              "    }\n",
              "    80% {\n",
              "      border-color: transparent;\n",
              "      border-right-color: var(--fill-color);\n",
              "      border-bottom-color: var(--fill-color);\n",
              "    }\n",
              "    90% {\n",
              "      border-color: transparent;\n",
              "      border-bottom-color: var(--fill-color);\n",
              "    }\n",
              "  }\n",
              "</style>\n",
              "\n",
              "  <script>\n",
              "    async function quickchart(key) {\n",
              "      const quickchartButtonEl =\n",
              "        document.querySelector('#' + key + ' button');\n",
              "      quickchartButtonEl.disabled = true;  // To prevent multiple clicks.\n",
              "      quickchartButtonEl.classList.add('colab-df-spinner');\n",
              "      try {\n",
              "        const charts = await google.colab.kernel.invokeFunction(\n",
              "            'suggestCharts', [key], {});\n",
              "      } catch (error) {\n",
              "        console.error('Error during call to suggestCharts:', error);\n",
              "      }\n",
              "      quickchartButtonEl.classList.remove('colab-df-spinner');\n",
              "      quickchartButtonEl.classList.add('colab-df-quickchart-complete');\n",
              "    }\n",
              "    (() => {\n",
              "      let quickchartButtonEl =\n",
              "        document.querySelector('#df-4bcbdb65-4f3e-4cc2-bac9-2ae75378f632 button');\n",
              "      quickchartButtonEl.style.display =\n",
              "        google.colab.kernel.accessAllowed ? 'block' : 'none';\n",
              "    })();\n",
              "  </script>\n",
              "</div>\n",
              "\n",
              "  <div id=\"id_7ac89cb2-f84d-46b3-b1a6-c05035e6b019\">\n",
              "    <style>\n",
              "      .colab-df-generate {\n",
              "        background-color: #E8F0FE;\n",
              "        border: none;\n",
              "        border-radius: 50%;\n",
              "        cursor: pointer;\n",
              "        display: none;\n",
              "        fill: #1967D2;\n",
              "        height: 32px;\n",
              "        padding: 0 0 0 0;\n",
              "        width: 32px;\n",
              "      }\n",
              "\n",
              "      .colab-df-generate:hover {\n",
              "        background-color: #E2EBFA;\n",
              "        box-shadow: 0px 1px 2px rgba(60, 64, 67, 0.3), 0px 1px 3px 1px rgba(60, 64, 67, 0.15);\n",
              "        fill: #174EA6;\n",
              "      }\n",
              "\n",
              "      [theme=dark] .colab-df-generate {\n",
              "        background-color: #3B4455;\n",
              "        fill: #D2E3FC;\n",
              "      }\n",
              "\n",
              "      [theme=dark] .colab-df-generate:hover {\n",
              "        background-color: #434B5C;\n",
              "        box-shadow: 0px 1px 3px 1px rgba(0, 0, 0, 0.15);\n",
              "        filter: drop-shadow(0px 1px 2px rgba(0, 0, 0, 0.3));\n",
              "        fill: #FFFFFF;\n",
              "      }\n",
              "    </style>\n",
              "    <button class=\"colab-df-generate\" onclick=\"generateWithVariable('base')\"\n",
              "            title=\"Generate code using this dataframe.\"\n",
              "            style=\"display:none;\">\n",
              "\n",
              "  <svg xmlns=\"http://www.w3.org/2000/svg\" height=\"24px\"viewBox=\"0 0 24 24\"\n",
              "       width=\"24px\">\n",
              "    <path d=\"M7,19H8.4L18.45,9,17,7.55,7,17.6ZM5,21V16.75L18.45,3.32a2,2,0,0,1,2.83,0l1.4,1.43a1.91,1.91,0,0,1,.58,1.4,1.91,1.91,0,0,1-.58,1.4L9.25,21ZM18.45,9,17,7.55Zm-12,3A5.31,5.31,0,0,0,4.9,8.1,5.31,5.31,0,0,0,1,6.5,5.31,5.31,0,0,0,4.9,4.9,5.31,5.31,0,0,0,6.5,1,5.31,5.31,0,0,0,8.1,4.9,5.31,5.31,0,0,0,12,6.5,5.46,5.46,0,0,0,6.5,12Z\"/>\n",
              "  </svg>\n",
              "    </button>\n",
              "    <script>\n",
              "      (() => {\n",
              "      const buttonEl =\n",
              "        document.querySelector('#id_7ac89cb2-f84d-46b3-b1a6-c05035e6b019 button.colab-df-generate');\n",
              "      buttonEl.style.display =\n",
              "        google.colab.kernel.accessAllowed ? 'block' : 'none';\n",
              "\n",
              "      buttonEl.onclick = () => {\n",
              "        google.colab.notebook.generateWithVariable('base');\n",
              "      }\n",
              "      })();\n",
              "    </script>\n",
              "  </div>\n",
              "\n",
              "    </div>\n",
              "  </div>\n"
            ],
            "application/vnd.google.colaboratory.intrinsic+json": {
              "type": "dataframe",
              "variable_name": "base",
              "summary": "{\n  \"name\": \"base\",\n  \"rows\": 1245,\n  \"fields\": [\n    {\n      \"column\": \"Date\",\n      \"properties\": {\n        \"dtype\": \"object\",\n        \"num_unique_values\": 1245,\n        \"samples\": [\n          \"2015-12-18\",\n          \"2014-10-13\",\n          \"2017-07-05\"\n        ],\n        \"semantic_type\": \"\",\n        \"description\": \"\"\n      }\n    },\n    {\n      \"column\": \"Open\",\n      \"properties\": {\n        \"dtype\": \"number\",\n        \"std\": 4.1483114963869925,\n        \"min\": 4.2,\n        \"max\": 24.84,\n        \"num_unique_values\": 797,\n        \"samples\": [\n          15.55,\n          13.34,\n          17.440001\n        ],\n        \"semantic_type\": \"\",\n        \"description\": \"\"\n      }\n    },\n    {\n      \"column\": \"High\",\n      \"properties\": {\n        \"dtype\": \"number\",\n        \"std\": 4.186652378816131,\n        \"min\": 4.27,\n        \"max\": 24.9,\n        \"num_unique_values\": 835,\n        \"samples\": [\n          8.27,\n          16.120001,\n          20.870001\n        ],\n        \"semantic_type\": \"\",\n        \"description\": \"\"\n      }\n    },\n    {\n      \"column\": \"Low\",\n      \"properties\": {\n        \"dtype\": \"number\",\n        \"std\": 4.108178159249577,\n        \"min\": 4.12,\n        \"max\": 23.66,\n        \"num_unique_values\": 799,\n        \"samples\": [\n          14.29,\n          12.71,\n          19.889999\n        ],\n        \"semantic_type\": \"\",\n        \"description\": \"\"\n      }\n    },\n    {\n      \"column\": \"Close\",\n      \"properties\": {\n        \"dtype\": \"number\",\n        \"std\": 4.146244167493831,\n        \"min\": 4.2,\n        \"max\": 24.559999,\n        \"num_unique_values\": 813,\n        \"samples\": [\n          13.99,\n          4.46,\n          14.43\n        ],\n        \"semantic_type\": \"\",\n        \"description\": \"\"\n      }\n    },\n    {\n      \"column\": \"Adj Close\",\n      \"properties\": {\n        \"dtype\": \"number\",\n        \"std\": 3.8997352537639998,\n        \"min\": 4.191617,\n        \"max\": 24.510979,\n        \"num_unique_values\": 925,\n        \"samples\": [\n          17.465071,\n          12.914171,\n          16.18487\n        ],\n        \"semantic_type\": \"\",\n        \"description\": \"\"\n      }\n    },\n    {\n      \"column\": \"Volume\",\n      \"properties\": {\n        \"dtype\": \"number\",\n        \"std\": 32356307.1863529,\n        \"min\": 0.0,\n        \"max\": 698950612.0,\n        \"num_unique_values\": 1233,\n        \"samples\": [\n          28004000.0,\n          42857200.0,\n          457400.0\n        ],\n        \"semantic_type\": \"\",\n        \"description\": \"\"\n      }\n    }\n  ]\n}"
            }
          },
          "metadata": {},
          "execution_count": 4
        }
      ]
    },
    {
      "cell_type": "code",
      "source": [
        "base.isnull().sum()"
      ],
      "metadata": {
        "colab": {
          "base_uri": "https://localhost:8080/",
          "height": 304
        },
        "id": "zqo41u6z1y18",
        "outputId": "d2ee9985-2ee9-4c81-e6ba-802f3af971b6"
      },
      "execution_count": 5,
      "outputs": [
        {
          "output_type": "execute_result",
          "data": {
            "text/plain": [
              "Date         0\n",
              "Open         3\n",
              "High         3\n",
              "Low          3\n",
              "Close        3\n",
              "Adj Close    3\n",
              "Volume       3\n",
              "dtype: int64"
            ],
            "text/html": [
              "<div>\n",
              "<style scoped>\n",
              "    .dataframe tbody tr th:only-of-type {\n",
              "        vertical-align: middle;\n",
              "    }\n",
              "\n",
              "    .dataframe tbody tr th {\n",
              "        vertical-align: top;\n",
              "    }\n",
              "\n",
              "    .dataframe thead th {\n",
              "        text-align: right;\n",
              "    }\n",
              "</style>\n",
              "<table border=\"1\" class=\"dataframe\">\n",
              "  <thead>\n",
              "    <tr style=\"text-align: right;\">\n",
              "      <th></th>\n",
              "      <th>0</th>\n",
              "    </tr>\n",
              "  </thead>\n",
              "  <tbody>\n",
              "    <tr>\n",
              "      <th>Date</th>\n",
              "      <td>0</td>\n",
              "    </tr>\n",
              "    <tr>\n",
              "      <th>Open</th>\n",
              "      <td>3</td>\n",
              "    </tr>\n",
              "    <tr>\n",
              "      <th>High</th>\n",
              "      <td>3</td>\n",
              "    </tr>\n",
              "    <tr>\n",
              "      <th>Low</th>\n",
              "      <td>3</td>\n",
              "    </tr>\n",
              "    <tr>\n",
              "      <th>Close</th>\n",
              "      <td>3</td>\n",
              "    </tr>\n",
              "    <tr>\n",
              "      <th>Adj Close</th>\n",
              "      <td>3</td>\n",
              "    </tr>\n",
              "    <tr>\n",
              "      <th>Volume</th>\n",
              "      <td>3</td>\n",
              "    </tr>\n",
              "  </tbody>\n",
              "</table>\n",
              "</div><br><label><b>dtype:</b> int64</label>"
            ]
          },
          "metadata": {},
          "execution_count": 5
        }
      ]
    },
    {
      "cell_type": "code",
      "source": [
        "base.shape"
      ],
      "metadata": {
        "colab": {
          "base_uri": "https://localhost:8080/"
        },
        "id": "89RbNtVr7IAj",
        "outputId": "2baf1724-351c-4d5f-a818-06d4d525eaf8"
      },
      "execution_count": 6,
      "outputs": [
        {
          "output_type": "execute_result",
          "data": {
            "text/plain": [
              "(1245, 7)"
            ]
          },
          "metadata": {},
          "execution_count": 6
        }
      ]
    },
    {
      "cell_type": "code",
      "source": [
        "base = base.dropna()"
      ],
      "metadata": {
        "id": "oogp-nC517Dt"
      },
      "execution_count": 7,
      "outputs": []
    },
    {
      "cell_type": "code",
      "source": [
        "base.shape"
      ],
      "metadata": {
        "colab": {
          "base_uri": "https://localhost:8080/"
        },
        "id": "VXRrkyEp19ge",
        "outputId": "c8d392d0-4baa-402c-985b-835d6d165dcd"
      },
      "execution_count": 8,
      "outputs": [
        {
          "output_type": "execute_result",
          "data": {
            "text/plain": [
              "(1242, 7)"
            ]
          },
          "metadata": {},
          "execution_count": 8
        }
      ]
    },
    {
      "cell_type": "code",
      "source": [
        "base_treinamento = base.iloc[:, 1:2].values"
      ],
      "metadata": {
        "id": "c16tOTx72Mpy"
      },
      "execution_count": 9,
      "outputs": []
    },
    {
      "cell_type": "code",
      "source": [
        "base_treinamento"
      ],
      "metadata": {
        "colab": {
          "base_uri": "https://localhost:8080/"
        },
        "id": "jWwHh6422Zl7",
        "outputId": "70fbd1aa-625b-43f3-8242-4228e2c2dbc8"
      },
      "execution_count": 10,
      "outputs": [
        {
          "output_type": "execute_result",
          "data": {
            "text/plain": [
              "array([[19.99    ],\n",
              "       [19.809999],\n",
              "       [20.33    ],\n",
              "       ...,\n",
              "       [15.99    ],\n",
              "       [16.1     ],\n",
              "       [16.1     ]])"
            ]
          },
          "metadata": {},
          "execution_count": 10
        }
      ]
    },
    {
      "cell_type": "code",
      "source": [
        "normalizador = MinMaxScaler(feature_range=(0, 1))\n",
        "base_treinamento_normalizada = normalizador.fit_transform(base_treinamento)\n",
        "base_treinamento_normalizada"
      ],
      "metadata": {
        "colab": {
          "base_uri": "https://localhost:8080/"
        },
        "id": "9XGHGqeJ2hyb",
        "outputId": "3e6447c9-4d31-4fbc-9608-053506fb5d98"
      },
      "execution_count": 11,
      "outputs": [
        {
          "output_type": "execute_result",
          "data": {
            "text/plain": [
              "array([[0.76501938],\n",
              "       [0.7562984 ],\n",
              "       [0.78149225],\n",
              "       ...,\n",
              "       [0.57122093],\n",
              "       [0.57655039],\n",
              "       [0.57655039]])"
            ]
          },
          "metadata": {},
          "execution_count": 11
        }
      ]
    },
    {
      "cell_type": "code",
      "source": [
        "base_treinamento_normalizada.shape"
      ],
      "metadata": {
        "colab": {
          "base_uri": "https://localhost:8080/"
        },
        "id": "TzsQkFaO8GIn",
        "outputId": "c8e3e1ef-28c2-4bd0-f70b-919e67c765ae"
      },
      "execution_count": 12,
      "outputs": [
        {
          "output_type": "execute_result",
          "data": {
            "text/plain": [
              "(1242, 1)"
            ]
          },
          "metadata": {},
          "execution_count": 12
        }
      ]
    },
    {
      "cell_type": "code",
      "source": [
        "X = [] # previsores\n",
        "y = [] # preço real\n",
        "for i in range(90, 1242): # 90 preços anteriores\n",
        "  X.append(base_treinamento_normalizada[i - 90:i, 0])\n",
        "  y.append(base_treinamento_normalizada[i, 0])\n",
        "  #print(i, i - 90)\n",
        "X, y = np.array(X), np.array(y)"
      ],
      "metadata": {
        "id": "rYyydmR575tC"
      },
      "execution_count": 13,
      "outputs": []
    },
    {
      "cell_type": "code",
      "source": [
        "X.shape"
      ],
      "metadata": {
        "colab": {
          "base_uri": "https://localhost:8080/"
        },
        "id": "1spATQOO95Uj",
        "outputId": "fd5d8908-4bb1-4f7b-a6f4-ebe978c69141"
      },
      "execution_count": 14,
      "outputs": [
        {
          "output_type": "execute_result",
          "data": {
            "text/plain": [
              "(1152, 90)"
            ]
          },
          "metadata": {},
          "execution_count": 14
        }
      ]
    },
    {
      "cell_type": "code",
      "source": [
        "y.shape"
      ],
      "metadata": {
        "colab": {
          "base_uri": "https://localhost:8080/"
        },
        "id": "HnOj1dT6-A1B",
        "outputId": "7aee979f-e9c0-4cae-982a-53d475797a24"
      },
      "execution_count": 15,
      "outputs": [
        {
          "output_type": "execute_result",
          "data": {
            "text/plain": [
              "(1152,)"
            ]
          },
          "metadata": {},
          "execution_count": 15
        }
      ]
    },
    {
      "cell_type": "code",
      "source": [
        "X[0], y[0]"
      ],
      "metadata": {
        "colab": {
          "base_uri": "https://localhost:8080/"
        },
        "id": "WK55Fltj-LB5",
        "outputId": "ec8f50e1-a8c4-4e78-97d7-00c734e57dd2"
      },
      "execution_count": 16,
      "outputs": [
        {
          "output_type": "execute_result",
          "data": {
            "text/plain": [
              "(array([0.76501938, 0.7562984 , 0.78149225, 0.78875969, 0.77083338,\n",
              "        0.74806197, 0.75436047, 0.75823643, 0.76598837, 0.76598837,\n",
              "        0.76017437, 0.75872098, 0.75581391, 0.74467054, 0.7374031 ,\n",
              "        0.7374031 , 0.73498067, 0.75242248, 0.73401163, 0.71656977,\n",
              "        0.68120155, 0.67538755, 0.67635659, 0.63372098, 0.66521318,\n",
              "        0.65649225, 0.64680228, 0.66618222, 0.65843028, 0.64970935,\n",
              "        0.65116274, 0.66424419, 0.67344961, 0.64292631, 0.64486434,\n",
              "        0.62257747, 0.60949617, 0.60998067, 0.60852713, 0.59593023,\n",
              "        0.61143411, 0.60222863, 0.64922481, 0.68362398, 0.70687989,\n",
              "        0.68265509, 0.70978682, 0.70784879, 0.71608527, 0.73643411,\n",
              "        0.7122093 , 0.7122093 , 0.7194767 , 0.70348832, 0.69525189,\n",
              "        0.70397287, 0.70397287, 0.69767442, 0.68168605, 0.68168605,\n",
              "        0.65310078, 0.66618222, 0.64825581, 0.66182175, 0.64341085,\n",
              "        0.67877902, 0.69137592, 0.66569772, 0.65406982, 0.64292631,\n",
              "        0.64147292, 0.63565891, 0.67587209, 0.68653106, 0.70300383,\n",
              "        0.71996119, 0.73982553, 0.76550388, 0.74854651, 0.75823643,\n",
              "        0.78924419, 0.76598837, 0.78488372, 0.80184109, 0.77761628,\n",
              "        0.77325581, 0.7562984 , 0.74273261, 0.74127907, 0.74224806]),\n",
              " np.float64(0.7611434108527131))"
            ]
          },
          "metadata": {},
          "execution_count": 16
        }
      ]
    },
    {
      "cell_type": "code",
      "source": [
        "base[0:90]"
      ],
      "metadata": {
        "colab": {
          "base_uri": "https://localhost:8080/",
          "height": 424
        },
        "id": "KiUOQ0fp_HCx",
        "outputId": "fb98a257-2ec0-447c-c571-796ba6e453e0"
      },
      "execution_count": 17,
      "outputs": [
        {
          "output_type": "execute_result",
          "data": {
            "text/plain": [
              "          Date       Open       High        Low      Close  Adj Close  \\\n",
              "0   2013-01-02  19.990000  20.209999  19.690001  19.690001  18.086271   \n",
              "1   2013-01-03  19.809999  20.400000  19.700001  20.400000  18.738441   \n",
              "2   2013-01-04  20.330000  20.620001  20.170000  20.430000  18.766001   \n",
              "3   2013-01-07  20.480000  20.670000  19.950001  20.080000  18.444506   \n",
              "4   2013-01-08  20.110001  20.230000  19.459999  19.500000  17.911745   \n",
              "..         ...        ...        ...        ...        ...        ...   \n",
              "87  2013-05-10  20.160000  20.389999  19.709999  19.959999  18.681934   \n",
              "88  2013-05-13  19.809999  19.850000  19.379999  19.490000  18.242029   \n",
              "89  2013-05-14  19.530001  19.680000  19.250000  19.549999  18.298189   \n",
              "90  2013-05-15  19.500000  19.639999  19.330000  19.570000  18.316908   \n",
              "91  2013-05-16  19.520000  20.080000  19.459999  19.750000  18.485382   \n",
              "\n",
              "        Volume  \n",
              "0   30182600.0  \n",
              "1   30552600.0  \n",
              "2   36141000.0  \n",
              "3   28069600.0  \n",
              "4   29091300.0  \n",
              "..         ...  \n",
              "87  22031200.0  \n",
              "88  21577600.0  \n",
              "89  30643700.0  \n",
              "90  21869300.0  \n",
              "91  25067200.0  \n",
              "\n",
              "[90 rows x 7 columns]"
            ],
            "text/html": [
              "\n",
              "  <div id=\"df-c09b6b0b-e74e-44c9-9703-1ca12bf04869\" class=\"colab-df-container\">\n",
              "    <div>\n",
              "<style scoped>\n",
              "    .dataframe tbody tr th:only-of-type {\n",
              "        vertical-align: middle;\n",
              "    }\n",
              "\n",
              "    .dataframe tbody tr th {\n",
              "        vertical-align: top;\n",
              "    }\n",
              "\n",
              "    .dataframe thead th {\n",
              "        text-align: right;\n",
              "    }\n",
              "</style>\n",
              "<table border=\"1\" class=\"dataframe\">\n",
              "  <thead>\n",
              "    <tr style=\"text-align: right;\">\n",
              "      <th></th>\n",
              "      <th>Date</th>\n",
              "      <th>Open</th>\n",
              "      <th>High</th>\n",
              "      <th>Low</th>\n",
              "      <th>Close</th>\n",
              "      <th>Adj Close</th>\n",
              "      <th>Volume</th>\n",
              "    </tr>\n",
              "  </thead>\n",
              "  <tbody>\n",
              "    <tr>\n",
              "      <th>0</th>\n",
              "      <td>2013-01-02</td>\n",
              "      <td>19.990000</td>\n",
              "      <td>20.209999</td>\n",
              "      <td>19.690001</td>\n",
              "      <td>19.690001</td>\n",
              "      <td>18.086271</td>\n",
              "      <td>30182600.0</td>\n",
              "    </tr>\n",
              "    <tr>\n",
              "      <th>1</th>\n",
              "      <td>2013-01-03</td>\n",
              "      <td>19.809999</td>\n",
              "      <td>20.400000</td>\n",
              "      <td>19.700001</td>\n",
              "      <td>20.400000</td>\n",
              "      <td>18.738441</td>\n",
              "      <td>30552600.0</td>\n",
              "    </tr>\n",
              "    <tr>\n",
              "      <th>2</th>\n",
              "      <td>2013-01-04</td>\n",
              "      <td>20.330000</td>\n",
              "      <td>20.620001</td>\n",
              "      <td>20.170000</td>\n",
              "      <td>20.430000</td>\n",
              "      <td>18.766001</td>\n",
              "      <td>36141000.0</td>\n",
              "    </tr>\n",
              "    <tr>\n",
              "      <th>3</th>\n",
              "      <td>2013-01-07</td>\n",
              "      <td>20.480000</td>\n",
              "      <td>20.670000</td>\n",
              "      <td>19.950001</td>\n",
              "      <td>20.080000</td>\n",
              "      <td>18.444506</td>\n",
              "      <td>28069600.0</td>\n",
              "    </tr>\n",
              "    <tr>\n",
              "      <th>4</th>\n",
              "      <td>2013-01-08</td>\n",
              "      <td>20.110001</td>\n",
              "      <td>20.230000</td>\n",
              "      <td>19.459999</td>\n",
              "      <td>19.500000</td>\n",
              "      <td>17.911745</td>\n",
              "      <td>29091300.0</td>\n",
              "    </tr>\n",
              "    <tr>\n",
              "      <th>...</th>\n",
              "      <td>...</td>\n",
              "      <td>...</td>\n",
              "      <td>...</td>\n",
              "      <td>...</td>\n",
              "      <td>...</td>\n",
              "      <td>...</td>\n",
              "      <td>...</td>\n",
              "    </tr>\n",
              "    <tr>\n",
              "      <th>87</th>\n",
              "      <td>2013-05-10</td>\n",
              "      <td>20.160000</td>\n",
              "      <td>20.389999</td>\n",
              "      <td>19.709999</td>\n",
              "      <td>19.959999</td>\n",
              "      <td>18.681934</td>\n",
              "      <td>22031200.0</td>\n",
              "    </tr>\n",
              "    <tr>\n",
              "      <th>88</th>\n",
              "      <td>2013-05-13</td>\n",
              "      <td>19.809999</td>\n",
              "      <td>19.850000</td>\n",
              "      <td>19.379999</td>\n",
              "      <td>19.490000</td>\n",
              "      <td>18.242029</td>\n",
              "      <td>21577600.0</td>\n",
              "    </tr>\n",
              "    <tr>\n",
              "      <th>89</th>\n",
              "      <td>2013-05-14</td>\n",
              "      <td>19.530001</td>\n",
              "      <td>19.680000</td>\n",
              "      <td>19.250000</td>\n",
              "      <td>19.549999</td>\n",
              "      <td>18.298189</td>\n",
              "      <td>30643700.0</td>\n",
              "    </tr>\n",
              "    <tr>\n",
              "      <th>90</th>\n",
              "      <td>2013-05-15</td>\n",
              "      <td>19.500000</td>\n",
              "      <td>19.639999</td>\n",
              "      <td>19.330000</td>\n",
              "      <td>19.570000</td>\n",
              "      <td>18.316908</td>\n",
              "      <td>21869300.0</td>\n",
              "    </tr>\n",
              "    <tr>\n",
              "      <th>91</th>\n",
              "      <td>2013-05-16</td>\n",
              "      <td>19.520000</td>\n",
              "      <td>20.080000</td>\n",
              "      <td>19.459999</td>\n",
              "      <td>19.750000</td>\n",
              "      <td>18.485382</td>\n",
              "      <td>25067200.0</td>\n",
              "    </tr>\n",
              "  </tbody>\n",
              "</table>\n",
              "<p>90 rows × 7 columns</p>\n",
              "</div>\n",
              "    <div class=\"colab-df-buttons\">\n",
              "\n",
              "  <div class=\"colab-df-container\">\n",
              "    <button class=\"colab-df-convert\" onclick=\"convertToInteractive('df-c09b6b0b-e74e-44c9-9703-1ca12bf04869')\"\n",
              "            title=\"Convert this dataframe to an interactive table.\"\n",
              "            style=\"display:none;\">\n",
              "\n",
              "  <svg xmlns=\"http://www.w3.org/2000/svg\" height=\"24px\" viewBox=\"0 -960 960 960\">\n",
              "    <path d=\"M120-120v-720h720v720H120Zm60-500h600v-160H180v160Zm220 220h160v-160H400v160Zm0 220h160v-160H400v160ZM180-400h160v-160H180v160Zm440 0h160v-160H620v160ZM180-180h160v-160H180v160Zm440 0h160v-160H620v160Z\"/>\n",
              "  </svg>\n",
              "    </button>\n",
              "\n",
              "  <style>\n",
              "    .colab-df-container {\n",
              "      display:flex;\n",
              "      gap: 12px;\n",
              "    }\n",
              "\n",
              "    .colab-df-convert {\n",
              "      background-color: #E8F0FE;\n",
              "      border: none;\n",
              "      border-radius: 50%;\n",
              "      cursor: pointer;\n",
              "      display: none;\n",
              "      fill: #1967D2;\n",
              "      height: 32px;\n",
              "      padding: 0 0 0 0;\n",
              "      width: 32px;\n",
              "    }\n",
              "\n",
              "    .colab-df-convert:hover {\n",
              "      background-color: #E2EBFA;\n",
              "      box-shadow: 0px 1px 2px rgba(60, 64, 67, 0.3), 0px 1px 3px 1px rgba(60, 64, 67, 0.15);\n",
              "      fill: #174EA6;\n",
              "    }\n",
              "\n",
              "    .colab-df-buttons div {\n",
              "      margin-bottom: 4px;\n",
              "    }\n",
              "\n",
              "    [theme=dark] .colab-df-convert {\n",
              "      background-color: #3B4455;\n",
              "      fill: #D2E3FC;\n",
              "    }\n",
              "\n",
              "    [theme=dark] .colab-df-convert:hover {\n",
              "      background-color: #434B5C;\n",
              "      box-shadow: 0px 1px 3px 1px rgba(0, 0, 0, 0.15);\n",
              "      filter: drop-shadow(0px 1px 2px rgba(0, 0, 0, 0.3));\n",
              "      fill: #FFFFFF;\n",
              "    }\n",
              "  </style>\n",
              "\n",
              "    <script>\n",
              "      const buttonEl =\n",
              "        document.querySelector('#df-c09b6b0b-e74e-44c9-9703-1ca12bf04869 button.colab-df-convert');\n",
              "      buttonEl.style.display =\n",
              "        google.colab.kernel.accessAllowed ? 'block' : 'none';\n",
              "\n",
              "      async function convertToInteractive(key) {\n",
              "        const element = document.querySelector('#df-c09b6b0b-e74e-44c9-9703-1ca12bf04869');\n",
              "        const dataTable =\n",
              "          await google.colab.kernel.invokeFunction('convertToInteractive',\n",
              "                                                    [key], {});\n",
              "        if (!dataTable) return;\n",
              "\n",
              "        const docLinkHtml = 'Like what you see? Visit the ' +\n",
              "          '<a target=\"_blank\" href=https://colab.research.google.com/notebooks/data_table.ipynb>data table notebook</a>'\n",
              "          + ' to learn more about interactive tables.';\n",
              "        element.innerHTML = '';\n",
              "        dataTable['output_type'] = 'display_data';\n",
              "        await google.colab.output.renderOutput(dataTable, element);\n",
              "        const docLink = document.createElement('div');\n",
              "        docLink.innerHTML = docLinkHtml;\n",
              "        element.appendChild(docLink);\n",
              "      }\n",
              "    </script>\n",
              "  </div>\n",
              "\n",
              "\n",
              "<div id=\"df-9268b3b7-e718-497b-ab8c-4c81f220e4ea\">\n",
              "  <button class=\"colab-df-quickchart\" onclick=\"quickchart('df-9268b3b7-e718-497b-ab8c-4c81f220e4ea')\"\n",
              "            title=\"Suggest charts\"\n",
              "            style=\"display:none;\">\n",
              "\n",
              "<svg xmlns=\"http://www.w3.org/2000/svg\" height=\"24px\"viewBox=\"0 0 24 24\"\n",
              "     width=\"24px\">\n",
              "    <g>\n",
              "        <path d=\"M19 3H5c-1.1 0-2 .9-2 2v14c0 1.1.9 2 2 2h14c1.1 0 2-.9 2-2V5c0-1.1-.9-2-2-2zM9 17H7v-7h2v7zm4 0h-2V7h2v10zm4 0h-2v-4h2v4z\"/>\n",
              "    </g>\n",
              "</svg>\n",
              "  </button>\n",
              "\n",
              "<style>\n",
              "  .colab-df-quickchart {\n",
              "      --bg-color: #E8F0FE;\n",
              "      --fill-color: #1967D2;\n",
              "      --hover-bg-color: #E2EBFA;\n",
              "      --hover-fill-color: #174EA6;\n",
              "      --disabled-fill-color: #AAA;\n",
              "      --disabled-bg-color: #DDD;\n",
              "  }\n",
              "\n",
              "  [theme=dark] .colab-df-quickchart {\n",
              "      --bg-color: #3B4455;\n",
              "      --fill-color: #D2E3FC;\n",
              "      --hover-bg-color: #434B5C;\n",
              "      --hover-fill-color: #FFFFFF;\n",
              "      --disabled-bg-color: #3B4455;\n",
              "      --disabled-fill-color: #666;\n",
              "  }\n",
              "\n",
              "  .colab-df-quickchart {\n",
              "    background-color: var(--bg-color);\n",
              "    border: none;\n",
              "    border-radius: 50%;\n",
              "    cursor: pointer;\n",
              "    display: none;\n",
              "    fill: var(--fill-color);\n",
              "    height: 32px;\n",
              "    padding: 0;\n",
              "    width: 32px;\n",
              "  }\n",
              "\n",
              "  .colab-df-quickchart:hover {\n",
              "    background-color: var(--hover-bg-color);\n",
              "    box-shadow: 0 1px 2px rgba(60, 64, 67, 0.3), 0 1px 3px 1px rgba(60, 64, 67, 0.15);\n",
              "    fill: var(--button-hover-fill-color);\n",
              "  }\n",
              "\n",
              "  .colab-df-quickchart-complete:disabled,\n",
              "  .colab-df-quickchart-complete:disabled:hover {\n",
              "    background-color: var(--disabled-bg-color);\n",
              "    fill: var(--disabled-fill-color);\n",
              "    box-shadow: none;\n",
              "  }\n",
              "\n",
              "  .colab-df-spinner {\n",
              "    border: 2px solid var(--fill-color);\n",
              "    border-color: transparent;\n",
              "    border-bottom-color: var(--fill-color);\n",
              "    animation:\n",
              "      spin 1s steps(1) infinite;\n",
              "  }\n",
              "\n",
              "  @keyframes spin {\n",
              "    0% {\n",
              "      border-color: transparent;\n",
              "      border-bottom-color: var(--fill-color);\n",
              "      border-left-color: var(--fill-color);\n",
              "    }\n",
              "    20% {\n",
              "      border-color: transparent;\n",
              "      border-left-color: var(--fill-color);\n",
              "      border-top-color: var(--fill-color);\n",
              "    }\n",
              "    30% {\n",
              "      border-color: transparent;\n",
              "      border-left-color: var(--fill-color);\n",
              "      border-top-color: var(--fill-color);\n",
              "      border-right-color: var(--fill-color);\n",
              "    }\n",
              "    40% {\n",
              "      border-color: transparent;\n",
              "      border-right-color: var(--fill-color);\n",
              "      border-top-color: var(--fill-color);\n",
              "    }\n",
              "    60% {\n",
              "      border-color: transparent;\n",
              "      border-right-color: var(--fill-color);\n",
              "    }\n",
              "    80% {\n",
              "      border-color: transparent;\n",
              "      border-right-color: var(--fill-color);\n",
              "      border-bottom-color: var(--fill-color);\n",
              "    }\n",
              "    90% {\n",
              "      border-color: transparent;\n",
              "      border-bottom-color: var(--fill-color);\n",
              "    }\n",
              "  }\n",
              "</style>\n",
              "\n",
              "  <script>\n",
              "    async function quickchart(key) {\n",
              "      const quickchartButtonEl =\n",
              "        document.querySelector('#' + key + ' button');\n",
              "      quickchartButtonEl.disabled = true;  // To prevent multiple clicks.\n",
              "      quickchartButtonEl.classList.add('colab-df-spinner');\n",
              "      try {\n",
              "        const charts = await google.colab.kernel.invokeFunction(\n",
              "            'suggestCharts', [key], {});\n",
              "      } catch (error) {\n",
              "        console.error('Error during call to suggestCharts:', error);\n",
              "      }\n",
              "      quickchartButtonEl.classList.remove('colab-df-spinner');\n",
              "      quickchartButtonEl.classList.add('colab-df-quickchart-complete');\n",
              "    }\n",
              "    (() => {\n",
              "      let quickchartButtonEl =\n",
              "        document.querySelector('#df-9268b3b7-e718-497b-ab8c-4c81f220e4ea button');\n",
              "      quickchartButtonEl.style.display =\n",
              "        google.colab.kernel.accessAllowed ? 'block' : 'none';\n",
              "    })();\n",
              "  </script>\n",
              "</div>\n",
              "\n",
              "    </div>\n",
              "  </div>\n"
            ],
            "application/vnd.google.colaboratory.intrinsic+json": {
              "type": "dataframe",
              "summary": "{\n  \"name\": \"base[0:90]\",\n  \"rows\": 90,\n  \"fields\": [\n    {\n      \"column\": \"Date\",\n      \"properties\": {\n        \"dtype\": \"object\",\n        \"num_unique_values\": 90,\n        \"samples\": [\n          \"2013-03-04\",\n          \"2013-02-04\",\n          \"2013-03-25\"\n        ],\n        \"semantic_type\": \"\",\n        \"description\": \"\"\n      }\n    },\n    {\n      \"column\": \"Open\",\n      \"properties\": {\n        \"dtype\": \"number\",\n        \"std\": 1.0835957507284262,\n        \"min\": 16.5,\n        \"max\": 20.75,\n        \"num_unique_values\": 80,\n        \"samples\": [\n          18.1,\n          19.99,\n          17.93\n        ],\n        \"semantic_type\": \"\",\n        \"description\": \"\"\n      }\n    },\n    {\n      \"column\": \"High\",\n      \"properties\": {\n        \"dtype\": \"number\",\n        \"std\": 1.0942557927652947,\n        \"min\": 16.76,\n        \"max\": 20.82,\n        \"num_unique_values\": 82,\n        \"samples\": [\n          17.57,\n          20.209999,\n          18.0\n        ],\n        \"semantic_type\": \"\",\n        \"description\": \"\"\n      }\n    },\n    {\n      \"column\": \"Low\",\n      \"properties\": {\n        \"dtype\": \"number\",\n        \"std\": 1.069912588827152,\n        \"min\": 16.4,\n        \"max\": 20.280001,\n        \"num_unique_values\": 72,\n        \"samples\": [\n          19.459999,\n          19.85,\n          17.379999\n        ],\n        \"semantic_type\": \"\",\n        \"description\": \"\"\n      }\n    },\n    {\n      \"column\": \"Close\",\n      \"properties\": {\n        \"dtype\": \"number\",\n        \"std\": 1.0864354597743728,\n        \"min\": 16.5,\n        \"max\": 20.620001,\n        \"num_unique_values\": 82,\n        \"samples\": [\n          17.620001,\n          19.690001,\n          17.6\n        ],\n        \"semantic_type\": \"\",\n        \"description\": \"\"\n      }\n    },\n    {\n      \"column\": \"Adj Close\",\n      \"properties\": {\n        \"dtype\": \"number\",\n        \"std\": 1.0609950526360081,\n        \"min\": 15.156093,\n        \"max\": 19.299677,\n        \"num_unique_values\": 83,\n        \"samples\": [\n          16.18487,\n          18.086271,\n          16.1665\n        ],\n        \"semantic_type\": \"\",\n        \"description\": \"\"\n      }\n    },\n    {\n      \"column\": \"Volume\",\n      \"properties\": {\n        \"dtype\": \"number\",\n        \"std\": 12109158.768023832,\n        \"min\": 13305100.0,\n        \"max\": 77332900.0,\n        \"num_unique_values\": 90,\n        \"samples\": [\n          35543300.0,\n          32294300.0,\n          24340200.0\n        ],\n        \"semantic_type\": \"\",\n        \"description\": \"\"\n      }\n    }\n  ]\n}"
            }
          },
          "metadata": {},
          "execution_count": 17
        }
      ]
    },
    {
      "cell_type": "code",
      "source": [
        "X.shape, X.shape[1]"
      ],
      "metadata": {
        "colab": {
          "base_uri": "https://localhost:8080/"
        },
        "id": "O6qHHGt7s_iv",
        "outputId": "a9fd102e-b62c-4102-967e-e92a24975c5c"
      },
      "execution_count": 18,
      "outputs": [
        {
          "output_type": "execute_result",
          "data": {
            "text/plain": [
              "((1152, 90), 90)"
            ]
          },
          "metadata": {},
          "execution_count": 18
        }
      ]
    },
    {
      "cell_type": "code",
      "source": [
        "regressor = Sequential()\n",
        "\n",
        "regressor.add(LSTM(units = 100, return_sequences=True, input_shape = (X.shape[1], 1)))\n",
        "regressor.add(Dropout(0.3))\n",
        "\n",
        "regressor.add(LSTM(units = 50, return_sequences=True))\n",
        "regressor.add(Dropout(0.3))\n",
        "\n",
        "regressor.add(LSTM(units = 50, return_sequences=True))\n",
        "regressor.add(Dropout(0.3))\n",
        "\n",
        "regressor.add(LSTM(units = 50))\n",
        "regressor.add(Dropout(0.3))\n",
        "\n",
        "regressor.add(Dense(units = 1, activation = 'linear'))\n",
        "\n",
        "regressor.summary()"
      ],
      "metadata": {
        "colab": {
          "base_uri": "https://localhost:8080/",
          "height": 497
        },
        "id": "--LPq2AksKSE",
        "outputId": "9715e424-88ef-4cbd-93e1-e3c486e22269"
      },
      "execution_count": 19,
      "outputs": [
        {
          "output_type": "stream",
          "name": "stderr",
          "text": [
            "/usr/local/lib/python3.11/dist-packages/keras/src/layers/rnn/rnn.py:200: UserWarning: Do not pass an `input_shape`/`input_dim` argument to a layer. When using Sequential models, prefer using an `Input(shape)` object as the first layer in the model instead.\n",
            "  super().__init__(**kwargs)\n"
          ]
        },
        {
          "output_type": "display_data",
          "data": {
            "text/plain": [
              "\u001b[1mModel: \"sequential\"\u001b[0m\n"
            ],
            "text/html": [
              "<pre style=\"white-space:pre;overflow-x:auto;line-height:normal;font-family:Menlo,'DejaVu Sans Mono',consolas,'Courier New',monospace\"><span style=\"font-weight: bold\">Model: \"sequential\"</span>\n",
              "</pre>\n"
            ]
          },
          "metadata": {}
        },
        {
          "output_type": "display_data",
          "data": {
            "text/plain": [
              "┏━━━━━━━━━━━━━━━━━━━━━━━━━━━━━━━━━━━━━━┳━━━━━━━━━━━━━━━━━━━━━━━━━━━━━┳━━━━━━━━━━━━━━━━━┓\n",
              "┃\u001b[1m \u001b[0m\u001b[1mLayer (type)                        \u001b[0m\u001b[1m \u001b[0m┃\u001b[1m \u001b[0m\u001b[1mOutput Shape               \u001b[0m\u001b[1m \u001b[0m┃\u001b[1m \u001b[0m\u001b[1m        Param #\u001b[0m\u001b[1m \u001b[0m┃\n",
              "┡━━━━━━━━━━━━━━━━━━━━━━━━━━━━━━━━━━━━━━╇━━━━━━━━━━━━━━━━━━━━━━━━━━━━━╇━━━━━━━━━━━━━━━━━┩\n",
              "│ lstm (\u001b[38;5;33mLSTM\u001b[0m)                          │ (\u001b[38;5;45mNone\u001b[0m, \u001b[38;5;34m90\u001b[0m, \u001b[38;5;34m100\u001b[0m)             │          \u001b[38;5;34m40,800\u001b[0m │\n",
              "├──────────────────────────────────────┼─────────────────────────────┼─────────────────┤\n",
              "│ dropout (\u001b[38;5;33mDropout\u001b[0m)                    │ (\u001b[38;5;45mNone\u001b[0m, \u001b[38;5;34m90\u001b[0m, \u001b[38;5;34m100\u001b[0m)             │               \u001b[38;5;34m0\u001b[0m │\n",
              "├──────────────────────────────────────┼─────────────────────────────┼─────────────────┤\n",
              "│ lstm_1 (\u001b[38;5;33mLSTM\u001b[0m)                        │ (\u001b[38;5;45mNone\u001b[0m, \u001b[38;5;34m90\u001b[0m, \u001b[38;5;34m50\u001b[0m)              │          \u001b[38;5;34m30,200\u001b[0m │\n",
              "├──────────────────────────────────────┼─────────────────────────────┼─────────────────┤\n",
              "│ dropout_1 (\u001b[38;5;33mDropout\u001b[0m)                  │ (\u001b[38;5;45mNone\u001b[0m, \u001b[38;5;34m90\u001b[0m, \u001b[38;5;34m50\u001b[0m)              │               \u001b[38;5;34m0\u001b[0m │\n",
              "├──────────────────────────────────────┼─────────────────────────────┼─────────────────┤\n",
              "│ lstm_2 (\u001b[38;5;33mLSTM\u001b[0m)                        │ (\u001b[38;5;45mNone\u001b[0m, \u001b[38;5;34m90\u001b[0m, \u001b[38;5;34m50\u001b[0m)              │          \u001b[38;5;34m20,200\u001b[0m │\n",
              "├──────────────────────────────────────┼─────────────────────────────┼─────────────────┤\n",
              "│ dropout_2 (\u001b[38;5;33mDropout\u001b[0m)                  │ (\u001b[38;5;45mNone\u001b[0m, \u001b[38;5;34m90\u001b[0m, \u001b[38;5;34m50\u001b[0m)              │               \u001b[38;5;34m0\u001b[0m │\n",
              "├──────────────────────────────────────┼─────────────────────────────┼─────────────────┤\n",
              "│ lstm_3 (\u001b[38;5;33mLSTM\u001b[0m)                        │ (\u001b[38;5;45mNone\u001b[0m, \u001b[38;5;34m50\u001b[0m)                  │          \u001b[38;5;34m20,200\u001b[0m │\n",
              "├──────────────────────────────────────┼─────────────────────────────┼─────────────────┤\n",
              "│ dropout_3 (\u001b[38;5;33mDropout\u001b[0m)                  │ (\u001b[38;5;45mNone\u001b[0m, \u001b[38;5;34m50\u001b[0m)                  │               \u001b[38;5;34m0\u001b[0m │\n",
              "├──────────────────────────────────────┼─────────────────────────────┼─────────────────┤\n",
              "│ dense (\u001b[38;5;33mDense\u001b[0m)                        │ (\u001b[38;5;45mNone\u001b[0m, \u001b[38;5;34m1\u001b[0m)                   │              \u001b[38;5;34m51\u001b[0m │\n",
              "└──────────────────────────────────────┴─────────────────────────────┴─────────────────┘\n"
            ],
            "text/html": [
              "<pre style=\"white-space:pre;overflow-x:auto;line-height:normal;font-family:Menlo,'DejaVu Sans Mono',consolas,'Courier New',monospace\">┏━━━━━━━━━━━━━━━━━━━━━━━━━━━━━━━━━━━━━━┳━━━━━━━━━━━━━━━━━━━━━━━━━━━━━┳━━━━━━━━━━━━━━━━━┓\n",
              "┃<span style=\"font-weight: bold\"> Layer (type)                         </span>┃<span style=\"font-weight: bold\"> Output Shape                </span>┃<span style=\"font-weight: bold\">         Param # </span>┃\n",
              "┡━━━━━━━━━━━━━━━━━━━━━━━━━━━━━━━━━━━━━━╇━━━━━━━━━━━━━━━━━━━━━━━━━━━━━╇━━━━━━━━━━━━━━━━━┩\n",
              "│ lstm (<span style=\"color: #0087ff; text-decoration-color: #0087ff\">LSTM</span>)                          │ (<span style=\"color: #00d7ff; text-decoration-color: #00d7ff\">None</span>, <span style=\"color: #00af00; text-decoration-color: #00af00\">90</span>, <span style=\"color: #00af00; text-decoration-color: #00af00\">100</span>)             │          <span style=\"color: #00af00; text-decoration-color: #00af00\">40,800</span> │\n",
              "├──────────────────────────────────────┼─────────────────────────────┼─────────────────┤\n",
              "│ dropout (<span style=\"color: #0087ff; text-decoration-color: #0087ff\">Dropout</span>)                    │ (<span style=\"color: #00d7ff; text-decoration-color: #00d7ff\">None</span>, <span style=\"color: #00af00; text-decoration-color: #00af00\">90</span>, <span style=\"color: #00af00; text-decoration-color: #00af00\">100</span>)             │               <span style=\"color: #00af00; text-decoration-color: #00af00\">0</span> │\n",
              "├──────────────────────────────────────┼─────────────────────────────┼─────────────────┤\n",
              "│ lstm_1 (<span style=\"color: #0087ff; text-decoration-color: #0087ff\">LSTM</span>)                        │ (<span style=\"color: #00d7ff; text-decoration-color: #00d7ff\">None</span>, <span style=\"color: #00af00; text-decoration-color: #00af00\">90</span>, <span style=\"color: #00af00; text-decoration-color: #00af00\">50</span>)              │          <span style=\"color: #00af00; text-decoration-color: #00af00\">30,200</span> │\n",
              "├──────────────────────────────────────┼─────────────────────────────┼─────────────────┤\n",
              "│ dropout_1 (<span style=\"color: #0087ff; text-decoration-color: #0087ff\">Dropout</span>)                  │ (<span style=\"color: #00d7ff; text-decoration-color: #00d7ff\">None</span>, <span style=\"color: #00af00; text-decoration-color: #00af00\">90</span>, <span style=\"color: #00af00; text-decoration-color: #00af00\">50</span>)              │               <span style=\"color: #00af00; text-decoration-color: #00af00\">0</span> │\n",
              "├──────────────────────────────────────┼─────────────────────────────┼─────────────────┤\n",
              "│ lstm_2 (<span style=\"color: #0087ff; text-decoration-color: #0087ff\">LSTM</span>)                        │ (<span style=\"color: #00d7ff; text-decoration-color: #00d7ff\">None</span>, <span style=\"color: #00af00; text-decoration-color: #00af00\">90</span>, <span style=\"color: #00af00; text-decoration-color: #00af00\">50</span>)              │          <span style=\"color: #00af00; text-decoration-color: #00af00\">20,200</span> │\n",
              "├──────────────────────────────────────┼─────────────────────────────┼─────────────────┤\n",
              "│ dropout_2 (<span style=\"color: #0087ff; text-decoration-color: #0087ff\">Dropout</span>)                  │ (<span style=\"color: #00d7ff; text-decoration-color: #00d7ff\">None</span>, <span style=\"color: #00af00; text-decoration-color: #00af00\">90</span>, <span style=\"color: #00af00; text-decoration-color: #00af00\">50</span>)              │               <span style=\"color: #00af00; text-decoration-color: #00af00\">0</span> │\n",
              "├──────────────────────────────────────┼─────────────────────────────┼─────────────────┤\n",
              "│ lstm_3 (<span style=\"color: #0087ff; text-decoration-color: #0087ff\">LSTM</span>)                        │ (<span style=\"color: #00d7ff; text-decoration-color: #00d7ff\">None</span>, <span style=\"color: #00af00; text-decoration-color: #00af00\">50</span>)                  │          <span style=\"color: #00af00; text-decoration-color: #00af00\">20,200</span> │\n",
              "├──────────────────────────────────────┼─────────────────────────────┼─────────────────┤\n",
              "│ dropout_3 (<span style=\"color: #0087ff; text-decoration-color: #0087ff\">Dropout</span>)                  │ (<span style=\"color: #00d7ff; text-decoration-color: #00d7ff\">None</span>, <span style=\"color: #00af00; text-decoration-color: #00af00\">50</span>)                  │               <span style=\"color: #00af00; text-decoration-color: #00af00\">0</span> │\n",
              "├──────────────────────────────────────┼─────────────────────────────┼─────────────────┤\n",
              "│ dense (<span style=\"color: #0087ff; text-decoration-color: #0087ff\">Dense</span>)                        │ (<span style=\"color: #00d7ff; text-decoration-color: #00d7ff\">None</span>, <span style=\"color: #00af00; text-decoration-color: #00af00\">1</span>)                   │              <span style=\"color: #00af00; text-decoration-color: #00af00\">51</span> │\n",
              "└──────────────────────────────────────┴─────────────────────────────┴─────────────────┘\n",
              "</pre>\n"
            ]
          },
          "metadata": {}
        },
        {
          "output_type": "display_data",
          "data": {
            "text/plain": [
              "\u001b[1m Total params: \u001b[0m\u001b[38;5;34m111,451\u001b[0m (435.36 KB)\n"
            ],
            "text/html": [
              "<pre style=\"white-space:pre;overflow-x:auto;line-height:normal;font-family:Menlo,'DejaVu Sans Mono',consolas,'Courier New',monospace\"><span style=\"font-weight: bold\"> Total params: </span><span style=\"color: #00af00; text-decoration-color: #00af00\">111,451</span> (435.36 KB)\n",
              "</pre>\n"
            ]
          },
          "metadata": {}
        },
        {
          "output_type": "display_data",
          "data": {
            "text/plain": [
              "\u001b[1m Trainable params: \u001b[0m\u001b[38;5;34m111,451\u001b[0m (435.36 KB)\n"
            ],
            "text/html": [
              "<pre style=\"white-space:pre;overflow-x:auto;line-height:normal;font-family:Menlo,'DejaVu Sans Mono',consolas,'Courier New',monospace\"><span style=\"font-weight: bold\"> Trainable params: </span><span style=\"color: #00af00; text-decoration-color: #00af00\">111,451</span> (435.36 KB)\n",
              "</pre>\n"
            ]
          },
          "metadata": {}
        },
        {
          "output_type": "display_data",
          "data": {
            "text/plain": [
              "\u001b[1m Non-trainable params: \u001b[0m\u001b[38;5;34m0\u001b[0m (0.00 B)\n"
            ],
            "text/html": [
              "<pre style=\"white-space:pre;overflow-x:auto;line-height:normal;font-family:Menlo,'DejaVu Sans Mono',consolas,'Courier New',monospace\"><span style=\"font-weight: bold\"> Non-trainable params: </span><span style=\"color: #00af00; text-decoration-color: #00af00\">0</span> (0.00 B)\n",
              "</pre>\n"
            ]
          },
          "metadata": {}
        }
      ]
    },
    {
      "cell_type": "code",
      "source": [
        "regressor.compile(optimizer = 'adam', loss = 'mean_squared_error', metrics = ['mean_absolute_error'])"
      ],
      "metadata": {
        "id": "zBKZsXN9uIeh"
      },
      "execution_count": 20,
      "outputs": []
    },
    {
      "cell_type": "code",
      "source": [
        "regressor.fit(X, y, epochs = 100, batch_size = 64)"
      ],
      "metadata": {
        "colab": {
          "base_uri": "https://localhost:8080/"
        },
        "id": "UBglcR5vuadC",
        "outputId": "4986acf1-c313-4f9d-e0fa-bc508f88aa6f"
      },
      "execution_count": 54,
      "outputs": [
        {
          "output_type": "stream",
          "name": "stdout",
          "text": [
            "Epoch 1/100\n",
            "\u001b[1m18/18\u001b[0m \u001b[32m━━━━━━━━━━━━━━━━━━━━\u001b[0m\u001b[37m\u001b[0m \u001b[1m2s\u001b[0m 25ms/step - loss: 0.0013 - mean_absolute_error: 0.0264\n",
            "Epoch 2/100\n",
            "\u001b[1m18/18\u001b[0m \u001b[32m━━━━━━━━━━━━━━━━━━━━\u001b[0m\u001b[37m\u001b[0m \u001b[1m0s\u001b[0m 19ms/step - loss: 0.0014 - mean_absolute_error: 0.0279\n",
            "Epoch 3/100\n",
            "\u001b[1m18/18\u001b[0m \u001b[32m━━━━━━━━━━━━━━━━━━━━\u001b[0m\u001b[37m\u001b[0m \u001b[1m1s\u001b[0m 18ms/step - loss: 0.0013 - mean_absolute_error: 0.0264\n",
            "Epoch 4/100\n",
            "\u001b[1m18/18\u001b[0m \u001b[32m━━━━━━━━━━━━━━━━━━━━\u001b[0m\u001b[37m\u001b[0m \u001b[1m0s\u001b[0m 19ms/step - loss: 0.0013 - mean_absolute_error: 0.0269\n",
            "Epoch 5/100\n",
            "\u001b[1m18/18\u001b[0m \u001b[32m━━━━━━━━━━━━━━━━━━━━\u001b[0m\u001b[37m\u001b[0m \u001b[1m1s\u001b[0m 19ms/step - loss: 0.0012 - mean_absolute_error: 0.0258\n",
            "Epoch 6/100\n",
            "\u001b[1m18/18\u001b[0m \u001b[32m━━━━━━━━━━━━━━━━━━━━\u001b[0m\u001b[37m\u001b[0m \u001b[1m1s\u001b[0m 25ms/step - loss: 0.0012 - mean_absolute_error: 0.0254\n",
            "Epoch 7/100\n",
            "\u001b[1m18/18\u001b[0m \u001b[32m━━━━━━━━━━━━━━━━━━━━\u001b[0m\u001b[37m\u001b[0m \u001b[1m0s\u001b[0m 26ms/step - loss: 0.0014 - mean_absolute_error: 0.0283\n",
            "Epoch 8/100\n",
            "\u001b[1m18/18\u001b[0m \u001b[32m━━━━━━━━━━━━━━━━━━━━\u001b[0m\u001b[37m\u001b[0m \u001b[1m1s\u001b[0m 28ms/step - loss: 0.0015 - mean_absolute_error: 0.0280\n",
            "Epoch 9/100\n",
            "\u001b[1m18/18\u001b[0m \u001b[32m━━━━━━━━━━━━━━━━━━━━\u001b[0m\u001b[37m\u001b[0m \u001b[1m0s\u001b[0m 19ms/step - loss: 0.0014 - mean_absolute_error: 0.0273\n",
            "Epoch 10/100\n",
            "\u001b[1m18/18\u001b[0m \u001b[32m━━━━━━━━━━━━━━━━━━━━\u001b[0m\u001b[37m\u001b[0m \u001b[1m1s\u001b[0m 17ms/step - loss: 0.0015 - mean_absolute_error: 0.0296\n",
            "Epoch 11/100\n",
            "\u001b[1m18/18\u001b[0m \u001b[32m━━━━━━━━━━━━━━━━━━━━\u001b[0m\u001b[37m\u001b[0m \u001b[1m1s\u001b[0m 18ms/step - loss: 0.0014 - mean_absolute_error: 0.0280\n",
            "Epoch 12/100\n",
            "\u001b[1m18/18\u001b[0m \u001b[32m━━━━━━━━━━━━━━━━━━━━\u001b[0m\u001b[37m\u001b[0m \u001b[1m0s\u001b[0m 19ms/step - loss: 0.0016 - mean_absolute_error: 0.0288\n",
            "Epoch 13/100\n",
            "\u001b[1m18/18\u001b[0m \u001b[32m━━━━━━━━━━━━━━━━━━━━\u001b[0m\u001b[37m\u001b[0m \u001b[1m0s\u001b[0m 18ms/step - loss: 0.0012 - mean_absolute_error: 0.0266\n",
            "Epoch 14/100\n",
            "\u001b[1m18/18\u001b[0m \u001b[32m━━━━━━━━━━━━━━━━━━━━\u001b[0m\u001b[37m\u001b[0m \u001b[1m0s\u001b[0m 18ms/step - loss: 0.0015 - mean_absolute_error: 0.0278\n",
            "Epoch 15/100\n",
            "\u001b[1m18/18\u001b[0m \u001b[32m━━━━━━━━━━━━━━━━━━━━\u001b[0m\u001b[37m\u001b[0m \u001b[1m1s\u001b[0m 18ms/step - loss: 0.0015 - mean_absolute_error: 0.0281\n",
            "Epoch 16/100\n",
            "\u001b[1m18/18\u001b[0m \u001b[32m━━━━━━━━━━━━━━━━━━━━\u001b[0m\u001b[37m\u001b[0m \u001b[1m1s\u001b[0m 18ms/step - loss: 0.0012 - mean_absolute_error: 0.0255\n",
            "Epoch 17/100\n",
            "\u001b[1m18/18\u001b[0m \u001b[32m━━━━━━━━━━━━━━━━━━━━\u001b[0m\u001b[37m\u001b[0m \u001b[1m0s\u001b[0m 18ms/step - loss: 0.0014 - mean_absolute_error: 0.0277\n",
            "Epoch 18/100\n",
            "\u001b[1m18/18\u001b[0m \u001b[32m━━━━━━━━━━━━━━━━━━━━\u001b[0m\u001b[37m\u001b[0m \u001b[1m1s\u001b[0m 19ms/step - loss: 0.0012 - mean_absolute_error: 0.0264\n",
            "Epoch 19/100\n",
            "\u001b[1m18/18\u001b[0m \u001b[32m━━━━━━━━━━━━━━━━━━━━\u001b[0m\u001b[37m\u001b[0m \u001b[1m0s\u001b[0m 19ms/step - loss: 0.0015 - mean_absolute_error: 0.0278\n",
            "Epoch 20/100\n",
            "\u001b[1m18/18\u001b[0m \u001b[32m━━━━━━━━━━━━━━━━━━━━\u001b[0m\u001b[37m\u001b[0m \u001b[1m0s\u001b[0m 19ms/step - loss: 0.0014 - mean_absolute_error: 0.0260\n",
            "Epoch 21/100\n",
            "\u001b[1m18/18\u001b[0m \u001b[32m━━━━━━━━━━━━━━━━━━━━\u001b[0m\u001b[37m\u001b[0m \u001b[1m0s\u001b[0m 18ms/step - loss: 0.0012 - mean_absolute_error: 0.0257\n",
            "Epoch 22/100\n",
            "\u001b[1m18/18\u001b[0m \u001b[32m━━━━━━━━━━━━━━━━━━━━\u001b[0m\u001b[37m\u001b[0m \u001b[1m0s\u001b[0m 19ms/step - loss: 0.0013 - mean_absolute_error: 0.0269\n",
            "Epoch 23/100\n",
            "\u001b[1m18/18\u001b[0m \u001b[32m━━━━━━━━━━━━━━━━━━━━\u001b[0m\u001b[37m\u001b[0m \u001b[1m1s\u001b[0m 17ms/step - loss: 0.0012 - mean_absolute_error: 0.0261\n",
            "Epoch 24/100\n",
            "\u001b[1m18/18\u001b[0m \u001b[32m━━━━━━━━━━━━━━━━━━━━\u001b[0m\u001b[37m\u001b[0m \u001b[1m1s\u001b[0m 19ms/step - loss: 0.0013 - mean_absolute_error: 0.0265\n",
            "Epoch 25/100\n",
            "\u001b[1m18/18\u001b[0m \u001b[32m━━━━━━━━━━━━━━━━━━━━\u001b[0m\u001b[37m\u001b[0m \u001b[1m1s\u001b[0m 19ms/step - loss: 0.0011 - mean_absolute_error: 0.0252\n",
            "Epoch 26/100\n",
            "\u001b[1m18/18\u001b[0m \u001b[32m━━━━━━━━━━━━━━━━━━━━\u001b[0m\u001b[37m\u001b[0m \u001b[1m0s\u001b[0m 19ms/step - loss: 0.0013 - mean_absolute_error: 0.0262\n",
            "Epoch 27/100\n",
            "\u001b[1m18/18\u001b[0m \u001b[32m━━━━━━━━━━━━━━━━━━━━\u001b[0m\u001b[37m\u001b[0m \u001b[1m1s\u001b[0m 18ms/step - loss: 0.0012 - mean_absolute_error: 0.0263\n",
            "Epoch 28/100\n",
            "\u001b[1m18/18\u001b[0m \u001b[32m━━━━━━━━━━━━━━━━━━━━\u001b[0m\u001b[37m\u001b[0m \u001b[1m0s\u001b[0m 19ms/step - loss: 0.0012 - mean_absolute_error: 0.0253\n",
            "Epoch 29/100\n",
            "\u001b[1m18/18\u001b[0m \u001b[32m━━━━━━━━━━━━━━━━━━━━\u001b[0m\u001b[37m\u001b[0m \u001b[1m1s\u001b[0m 24ms/step - loss: 0.0013 - mean_absolute_error: 0.0264\n",
            "Epoch 30/100\n",
            "\u001b[1m18/18\u001b[0m \u001b[32m━━━━━━━━━━━━━━━━━━━━\u001b[0m\u001b[37m\u001b[0m \u001b[1m1s\u001b[0m 26ms/step - loss: 0.0014 - mean_absolute_error: 0.0266\n",
            "Epoch 31/100\n",
            "\u001b[1m18/18\u001b[0m \u001b[32m━━━━━━━━━━━━━━━━━━━━\u001b[0m\u001b[37m\u001b[0m \u001b[1m0s\u001b[0m 26ms/step - loss: 0.0013 - mean_absolute_error: 0.0269\n",
            "Epoch 32/100\n",
            "\u001b[1m18/18\u001b[0m \u001b[32m━━━━━━━━━━━━━━━━━━━━\u001b[0m\u001b[37m\u001b[0m \u001b[1m1s\u001b[0m 27ms/step - loss: 0.0011 - mean_absolute_error: 0.0250\n",
            "Epoch 33/100\n",
            "\u001b[1m18/18\u001b[0m \u001b[32m━━━━━━━━━━━━━━━━━━━━\u001b[0m\u001b[37m\u001b[0m \u001b[1m0s\u001b[0m 19ms/step - loss: 0.0012 - mean_absolute_error: 0.0261\n",
            "Epoch 34/100\n",
            "\u001b[1m18/18\u001b[0m \u001b[32m━━━━━━━━━━━━━━━━━━━━\u001b[0m\u001b[37m\u001b[0m \u001b[1m1s\u001b[0m 19ms/step - loss: 0.0014 - mean_absolute_error: 0.0282\n",
            "Epoch 35/100\n",
            "\u001b[1m18/18\u001b[0m \u001b[32m━━━━━━━━━━━━━━━━━━━━\u001b[0m\u001b[37m\u001b[0m \u001b[1m0s\u001b[0m 18ms/step - loss: 0.0012 - mean_absolute_error: 0.0259\n",
            "Epoch 36/100\n",
            "\u001b[1m18/18\u001b[0m \u001b[32m━━━━━━━━━━━━━━━━━━━━\u001b[0m\u001b[37m\u001b[0m \u001b[1m1s\u001b[0m 18ms/step - loss: 0.0013 - mean_absolute_error: 0.0275\n",
            "Epoch 37/100\n",
            "\u001b[1m18/18\u001b[0m \u001b[32m━━━━━━━━━━━━━━━━━━━━\u001b[0m\u001b[37m\u001b[0m \u001b[1m1s\u001b[0m 18ms/step - loss: 0.0012 - mean_absolute_error: 0.0263\n",
            "Epoch 38/100\n",
            "\u001b[1m18/18\u001b[0m \u001b[32m━━━━━━━━━━━━━━━━━━━━\u001b[0m\u001b[37m\u001b[0m \u001b[1m1s\u001b[0m 19ms/step - loss: 0.0012 - mean_absolute_error: 0.0252\n",
            "Epoch 39/100\n",
            "\u001b[1m18/18\u001b[0m \u001b[32m━━━━━━━━━━━━━━━━━━━━\u001b[0m\u001b[37m\u001b[0m \u001b[1m1s\u001b[0m 19ms/step - loss: 0.0012 - mean_absolute_error: 0.0256\n",
            "Epoch 40/100\n",
            "\u001b[1m18/18\u001b[0m \u001b[32m━━━━━━━━━━━━━━━━━━━━\u001b[0m\u001b[37m\u001b[0m \u001b[1m0s\u001b[0m 18ms/step - loss: 0.0014 - mean_absolute_error: 0.0275\n",
            "Epoch 41/100\n",
            "\u001b[1m18/18\u001b[0m \u001b[32m━━━━━━━━━━━━━━━━━━━━\u001b[0m\u001b[37m\u001b[0m \u001b[1m0s\u001b[0m 20ms/step - loss: 0.0012 - mean_absolute_error: 0.0257\n",
            "Epoch 42/100\n",
            "\u001b[1m18/18\u001b[0m \u001b[32m━━━━━━━━━━━━━━━━━━━━\u001b[0m\u001b[37m\u001b[0m \u001b[1m1s\u001b[0m 18ms/step - loss: 0.0014 - mean_absolute_error: 0.0276\n",
            "Epoch 43/100\n",
            "\u001b[1m18/18\u001b[0m \u001b[32m━━━━━━━━━━━━━━━━━━━━\u001b[0m\u001b[37m\u001b[0m \u001b[1m0s\u001b[0m 18ms/step - loss: 0.0014 - mean_absolute_error: 0.0281\n",
            "Epoch 44/100\n",
            "\u001b[1m18/18\u001b[0m \u001b[32m━━━━━━━━━━━━━━━━━━━━\u001b[0m\u001b[37m\u001b[0m \u001b[1m0s\u001b[0m 19ms/step - loss: 0.0012 - mean_absolute_error: 0.0260\n",
            "Epoch 45/100\n",
            "\u001b[1m18/18\u001b[0m \u001b[32m━━━━━━━━━━━━━━━━━━━━\u001b[0m\u001b[37m\u001b[0m \u001b[1m0s\u001b[0m 19ms/step - loss: 0.0012 - mean_absolute_error: 0.0255\n",
            "Epoch 46/100\n",
            "\u001b[1m18/18\u001b[0m \u001b[32m━━━━━━━━━━━━━━━━━━━━\u001b[0m\u001b[37m\u001b[0m \u001b[1m1s\u001b[0m 18ms/step - loss: 0.0011 - mean_absolute_error: 0.0248\n",
            "Epoch 47/100\n",
            "\u001b[1m18/18\u001b[0m \u001b[32m━━━━━━━━━━━━━━━━━━━━\u001b[0m\u001b[37m\u001b[0m \u001b[1m1s\u001b[0m 19ms/step - loss: 0.0012 - mean_absolute_error: 0.0260\n",
            "Epoch 48/100\n",
            "\u001b[1m18/18\u001b[0m \u001b[32m━━━━━━━━━━━━━━━━━━━━\u001b[0m\u001b[37m\u001b[0m \u001b[1m0s\u001b[0m 19ms/step - loss: 0.0013 - mean_absolute_error: 0.0264\n",
            "Epoch 49/100\n",
            "\u001b[1m18/18\u001b[0m \u001b[32m━━━━━━━━━━━━━━━━━━━━\u001b[0m\u001b[37m\u001b[0m \u001b[1m1s\u001b[0m 18ms/step - loss: 0.0011 - mean_absolute_error: 0.0249\n",
            "Epoch 50/100\n",
            "\u001b[1m18/18\u001b[0m \u001b[32m━━━━━━━━━━━━━━━━━━━━\u001b[0m\u001b[37m\u001b[0m \u001b[1m0s\u001b[0m 18ms/step - loss: 0.0012 - mean_absolute_error: 0.0265\n",
            "Epoch 51/100\n",
            "\u001b[1m18/18\u001b[0m \u001b[32m━━━━━━━━━━━━━━━━━━━━\u001b[0m\u001b[37m\u001b[0m \u001b[1m0s\u001b[0m 19ms/step - loss: 0.0012 - mean_absolute_error: 0.0254\n",
            "Epoch 52/100\n",
            "\u001b[1m18/18\u001b[0m \u001b[32m━━━━━━━━━━━━━━━━━━━━\u001b[0m\u001b[37m\u001b[0m \u001b[1m0s\u001b[0m 18ms/step - loss: 0.0013 - mean_absolute_error: 0.0271\n",
            "Epoch 53/100\n",
            "\u001b[1m18/18\u001b[0m \u001b[32m━━━━━━━━━━━━━━━━━━━━\u001b[0m\u001b[37m\u001b[0m \u001b[1m0s\u001b[0m 18ms/step - loss: 0.0016 - mean_absolute_error: 0.0287\n",
            "Epoch 54/100\n",
            "\u001b[1m18/18\u001b[0m \u001b[32m━━━━━━━━━━━━━━━━━━━━\u001b[0m\u001b[37m\u001b[0m \u001b[1m1s\u001b[0m 28ms/step - loss: 0.0011 - mean_absolute_error: 0.0248\n",
            "Epoch 55/100\n",
            "\u001b[1m18/18\u001b[0m \u001b[32m━━━━━━━━━━━━━━━━━━━━\u001b[0m\u001b[37m\u001b[0m \u001b[1m1s\u001b[0m 26ms/step - loss: 0.0013 - mean_absolute_error: 0.0266\n",
            "Epoch 56/100\n",
            "\u001b[1m18/18\u001b[0m \u001b[32m━━━━━━━━━━━━━━━━━━━━\u001b[0m\u001b[37m\u001b[0m \u001b[1m1s\u001b[0m 27ms/step - loss: 0.0012 - mean_absolute_error: 0.0261\n",
            "Epoch 57/100\n",
            "\u001b[1m18/18\u001b[0m \u001b[32m━━━━━━━━━━━━━━━━━━━━\u001b[0m\u001b[37m\u001b[0m \u001b[1m0s\u001b[0m 19ms/step - loss: 0.0015 - mean_absolute_error: 0.0276\n",
            "Epoch 58/100\n",
            "\u001b[1m18/18\u001b[0m \u001b[32m━━━━━━━━━━━━━━━━━━━━\u001b[0m\u001b[37m\u001b[0m \u001b[1m0s\u001b[0m 18ms/step - loss: 0.0012 - mean_absolute_error: 0.0250\n",
            "Epoch 59/100\n",
            "\u001b[1m18/18\u001b[0m \u001b[32m━━━━━━━━━━━━━━━━━━━━\u001b[0m\u001b[37m\u001b[0m \u001b[1m1s\u001b[0m 19ms/step - loss: 0.0014 - mean_absolute_error: 0.0272\n",
            "Epoch 60/100\n",
            "\u001b[1m18/18\u001b[0m \u001b[32m━━━━━━━━━━━━━━━━━━━━\u001b[0m\u001b[37m\u001b[0m \u001b[1m0s\u001b[0m 18ms/step - loss: 0.0012 - mean_absolute_error: 0.0253\n",
            "Epoch 61/100\n",
            "\u001b[1m18/18\u001b[0m \u001b[32m━━━━━━━━━━━━━━━━━━━━\u001b[0m\u001b[37m\u001b[0m \u001b[1m0s\u001b[0m 18ms/step - loss: 0.0012 - mean_absolute_error: 0.0260\n",
            "Epoch 62/100\n",
            "\u001b[1m18/18\u001b[0m \u001b[32m━━━━━━━━━━━━━━━━━━━━\u001b[0m\u001b[37m\u001b[0m \u001b[1m1s\u001b[0m 19ms/step - loss: 0.0011 - mean_absolute_error: 0.0246\n",
            "Epoch 63/100\n",
            "\u001b[1m18/18\u001b[0m \u001b[32m━━━━━━━━━━━━━━━━━━━━\u001b[0m\u001b[37m\u001b[0m \u001b[1m1s\u001b[0m 19ms/step - loss: 0.0012 - mean_absolute_error: 0.0255\n",
            "Epoch 64/100\n",
            "\u001b[1m18/18\u001b[0m \u001b[32m━━━━━━━━━━━━━━━━━━━━\u001b[0m\u001b[37m\u001b[0m \u001b[1m1s\u001b[0m 19ms/step - loss: 0.0011 - mean_absolute_error: 0.0252\n",
            "Epoch 65/100\n",
            "\u001b[1m18/18\u001b[0m \u001b[32m━━━━━━━━━━━━━━━━━━━━\u001b[0m\u001b[37m\u001b[0m \u001b[1m1s\u001b[0m 18ms/step - loss: 0.0012 - mean_absolute_error: 0.0261\n",
            "Epoch 66/100\n",
            "\u001b[1m18/18\u001b[0m \u001b[32m━━━━━━━━━━━━━━━━━━━━\u001b[0m\u001b[37m\u001b[0m \u001b[1m0s\u001b[0m 18ms/step - loss: 0.0012 - mean_absolute_error: 0.0257\n",
            "Epoch 67/100\n",
            "\u001b[1m18/18\u001b[0m \u001b[32m━━━━━━━━━━━━━━━━━━━━\u001b[0m\u001b[37m\u001b[0m \u001b[1m0s\u001b[0m 18ms/step - loss: 0.0012 - mean_absolute_error: 0.0256\n",
            "Epoch 68/100\n",
            "\u001b[1m18/18\u001b[0m \u001b[32m━━━━━━━━━━━━━━━━━━━━\u001b[0m\u001b[37m\u001b[0m \u001b[1m0s\u001b[0m 17ms/step - loss: 0.0011 - mean_absolute_error: 0.0250\n",
            "Epoch 69/100\n",
            "\u001b[1m18/18\u001b[0m \u001b[32m━━━━━━━━━━━━━━━━━━━━\u001b[0m\u001b[37m\u001b[0m \u001b[1m1s\u001b[0m 20ms/step - loss: 0.0012 - mean_absolute_error: 0.0263\n",
            "Epoch 70/100\n",
            "\u001b[1m18/18\u001b[0m \u001b[32m━━━━━━━━━━━━━━━━━━━━\u001b[0m\u001b[37m\u001b[0m \u001b[1m0s\u001b[0m 17ms/step - loss: 0.0012 - mean_absolute_error: 0.0244\n",
            "Epoch 71/100\n",
            "\u001b[1m18/18\u001b[0m \u001b[32m━━━━━━━━━━━━━━━━━━━━\u001b[0m\u001b[37m\u001b[0m \u001b[1m0s\u001b[0m 17ms/step - loss: 0.0012 - mean_absolute_error: 0.0254\n",
            "Epoch 72/100\n",
            "\u001b[1m18/18\u001b[0m \u001b[32m━━━━━━━━━━━━━━━━━━━━\u001b[0m\u001b[37m\u001b[0m \u001b[1m1s\u001b[0m 18ms/step - loss: 0.0012 - mean_absolute_error: 0.0256\n",
            "Epoch 73/100\n",
            "\u001b[1m18/18\u001b[0m \u001b[32m━━━━━━━━━━━━━━━━━━━━\u001b[0m\u001b[37m\u001b[0m \u001b[1m0s\u001b[0m 17ms/step - loss: 9.9539e-04 - mean_absolute_error: 0.0241\n",
            "Epoch 74/100\n",
            "\u001b[1m18/18\u001b[0m \u001b[32m━━━━━━━━━━━━━━━━━━━━\u001b[0m\u001b[37m\u001b[0m \u001b[1m0s\u001b[0m 19ms/step - loss: 0.0013 - mean_absolute_error: 0.0263\n",
            "Epoch 75/100\n",
            "\u001b[1m18/18\u001b[0m \u001b[32m━━━━━━━━━━━━━━━━━━━━\u001b[0m\u001b[37m\u001b[0m \u001b[1m1s\u001b[0m 17ms/step - loss: 0.0012 - mean_absolute_error: 0.0261\n",
            "Epoch 76/100\n",
            "\u001b[1m18/18\u001b[0m \u001b[32m━━━━━━━━━━━━━━━━━━━━\u001b[0m\u001b[37m\u001b[0m \u001b[1m1s\u001b[0m 20ms/step - loss: 0.0011 - mean_absolute_error: 0.0239\n",
            "Epoch 77/100\n",
            "\u001b[1m18/18\u001b[0m \u001b[32m━━━━━━━━━━━━━━━━━━━━\u001b[0m\u001b[37m\u001b[0m \u001b[1m0s\u001b[0m 18ms/step - loss: 0.0011 - mean_absolute_error: 0.0253\n",
            "Epoch 78/100\n",
            "\u001b[1m18/18\u001b[0m \u001b[32m━━━━━━━━━━━━━━━━━━━━\u001b[0m\u001b[37m\u001b[0m \u001b[1m0s\u001b[0m 23ms/step - loss: 0.0012 - mean_absolute_error: 0.0253\n",
            "Epoch 79/100\n",
            "\u001b[1m18/18\u001b[0m \u001b[32m━━━━━━━━━━━━━━━━━━━━\u001b[0m\u001b[37m\u001b[0m \u001b[1m1s\u001b[0m 27ms/step - loss: 0.0011 - mean_absolute_error: 0.0246\n",
            "Epoch 80/100\n",
            "\u001b[1m18/18\u001b[0m \u001b[32m━━━━━━━━━━━━━━━━━━━━\u001b[0m\u001b[37m\u001b[0m \u001b[1m1s\u001b[0m 28ms/step - loss: 0.0012 - mean_absolute_error: 0.0263\n",
            "Epoch 81/100\n",
            "\u001b[1m18/18\u001b[0m \u001b[32m━━━━━━━━━━━━━━━━━━━━\u001b[0m\u001b[37m\u001b[0m \u001b[1m1s\u001b[0m 27ms/step - loss: 0.0011 - mean_absolute_error: 0.0246\n",
            "Epoch 82/100\n",
            "\u001b[1m18/18\u001b[0m \u001b[32m━━━━━━━━━━━━━━━━━━━━\u001b[0m\u001b[37m\u001b[0m \u001b[1m1s\u001b[0m 20ms/step - loss: 0.0012 - mean_absolute_error: 0.0252\n",
            "Epoch 83/100\n",
            "\u001b[1m18/18\u001b[0m \u001b[32m━━━━━━━━━━━━━━━━━━━━\u001b[0m\u001b[37m\u001b[0m \u001b[1m0s\u001b[0m 18ms/step - loss: 0.0013 - mean_absolute_error: 0.0254\n",
            "Epoch 84/100\n",
            "\u001b[1m18/18\u001b[0m \u001b[32m━━━━━━━━━━━━━━━━━━━━\u001b[0m\u001b[37m\u001b[0m \u001b[1m1s\u001b[0m 19ms/step - loss: 0.0012 - mean_absolute_error: 0.0253\n",
            "Epoch 85/100\n",
            "\u001b[1m18/18\u001b[0m \u001b[32m━━━━━━━━━━━━━━━━━━━━\u001b[0m\u001b[37m\u001b[0m \u001b[1m0s\u001b[0m 18ms/step - loss: 0.0012 - mean_absolute_error: 0.0263\n",
            "Epoch 86/100\n",
            "\u001b[1m18/18\u001b[0m \u001b[32m━━━━━━━━━━━━━━━━━━━━\u001b[0m\u001b[37m\u001b[0m \u001b[1m1s\u001b[0m 19ms/step - loss: 0.0011 - mean_absolute_error: 0.0248\n",
            "Epoch 87/100\n",
            "\u001b[1m18/18\u001b[0m \u001b[32m━━━━━━━━━━━━━━━━━━━━\u001b[0m\u001b[37m\u001b[0m \u001b[1m1s\u001b[0m 17ms/step - loss: 9.9748e-04 - mean_absolute_error: 0.0226\n",
            "Epoch 88/100\n",
            "\u001b[1m18/18\u001b[0m \u001b[32m━━━━━━━━━━━━━━━━━━━━\u001b[0m\u001b[37m\u001b[0m \u001b[1m1s\u001b[0m 19ms/step - loss: 0.0012 - mean_absolute_error: 0.0257\n",
            "Epoch 89/100\n",
            "\u001b[1m18/18\u001b[0m \u001b[32m━━━━━━━━━━━━━━━━━━━━\u001b[0m\u001b[37m\u001b[0m \u001b[1m0s\u001b[0m 18ms/step - loss: 0.0011 - mean_absolute_error: 0.0238\n",
            "Epoch 90/100\n",
            "\u001b[1m18/18\u001b[0m \u001b[32m━━━━━━━━━━━━━━━━━━━━\u001b[0m\u001b[37m\u001b[0m \u001b[1m1s\u001b[0m 20ms/step - loss: 0.0011 - mean_absolute_error: 0.0244\n",
            "Epoch 91/100\n",
            "\u001b[1m18/18\u001b[0m \u001b[32m━━━━━━━━━━━━━━━━━━━━\u001b[0m\u001b[37m\u001b[0m \u001b[1m1s\u001b[0m 19ms/step - loss: 9.8849e-04 - mean_absolute_error: 0.0233\n",
            "Epoch 92/100\n",
            "\u001b[1m18/18\u001b[0m \u001b[32m━━━━━━━━━━━━━━━━━━━━\u001b[0m\u001b[37m\u001b[0m \u001b[1m1s\u001b[0m 18ms/step - loss: 0.0011 - mean_absolute_error: 0.0247\n",
            "Epoch 93/100\n",
            "\u001b[1m18/18\u001b[0m \u001b[32m━━━━━━━━━━━━━━━━━━━━\u001b[0m\u001b[37m\u001b[0m \u001b[1m0s\u001b[0m 18ms/step - loss: 0.0012 - mean_absolute_error: 0.0255\n",
            "Epoch 94/100\n",
            "\u001b[1m18/18\u001b[0m \u001b[32m━━━━━━━━━━━━━━━━━━━━\u001b[0m\u001b[37m\u001b[0m \u001b[1m1s\u001b[0m 18ms/step - loss: 0.0011 - mean_absolute_error: 0.0235\n",
            "Epoch 95/100\n",
            "\u001b[1m18/18\u001b[0m \u001b[32m━━━━━━━━━━━━━━━━━━━━\u001b[0m\u001b[37m\u001b[0m \u001b[1m0s\u001b[0m 20ms/step - loss: 0.0014 - mean_absolute_error: 0.0265\n",
            "Epoch 96/100\n",
            "\u001b[1m18/18\u001b[0m \u001b[32m━━━━━━━━━━━━━━━━━━━━\u001b[0m\u001b[37m\u001b[0m \u001b[1m0s\u001b[0m 20ms/step - loss: 0.0012 - mean_absolute_error: 0.0261\n",
            "Epoch 97/100\n",
            "\u001b[1m18/18\u001b[0m \u001b[32m━━━━━━━━━━━━━━━━━━━━\u001b[0m\u001b[37m\u001b[0m \u001b[1m1s\u001b[0m 18ms/step - loss: 0.0012 - mean_absolute_error: 0.0256\n",
            "Epoch 98/100\n",
            "\u001b[1m18/18\u001b[0m \u001b[32m━━━━━━━━━━━━━━━━━━━━\u001b[0m\u001b[37m\u001b[0m \u001b[1m1s\u001b[0m 19ms/step - loss: 0.0012 - mean_absolute_error: 0.0249\n",
            "Epoch 99/100\n",
            "\u001b[1m18/18\u001b[0m \u001b[32m━━━━━━━━━━━━━━━━━━━━\u001b[0m\u001b[37m\u001b[0m \u001b[1m1s\u001b[0m 19ms/step - loss: 0.0011 - mean_absolute_error: 0.0238\n",
            "Epoch 100/100\n",
            "\u001b[1m18/18\u001b[0m \u001b[32m━━━━━━━━━━━━━━━━━━━━\u001b[0m\u001b[37m\u001b[0m \u001b[1m0s\u001b[0m 19ms/step - loss: 0.0010 - mean_absolute_error: 0.0241\n"
          ]
        },
        {
          "output_type": "execute_result",
          "data": {
            "text/plain": [
              "<keras.src.callbacks.history.History at 0x79c9e554ab90>"
            ]
          },
          "metadata": {},
          "execution_count": 54
        }
      ]
    },
    {
      "cell_type": "code",
      "source": [
        "base_teste = pd.read_csv('petr4_teste.csv')\n",
        "base_teste"
      ],
      "metadata": {
        "colab": {
          "base_uri": "https://localhost:8080/",
          "height": 739
        },
        "id": "76l2ClCsxtsG",
        "outputId": "9d93fb4e-01bd-48fc-cb9e-956ba471798e"
      },
      "execution_count": 22,
      "outputs": [
        {
          "output_type": "execute_result",
          "data": {
            "text/plain": [
              "          Date       Open       High        Low      Close  Adj Close  \\\n",
              "0   2018-01-02  16.190001  16.549999  16.190001  16.549999  16.516966   \n",
              "1   2018-01-03  16.490000  16.719999  16.370001  16.700001  16.666668   \n",
              "2   2018-01-04  16.780001  16.959999  16.620001  16.730000  16.696608   \n",
              "3   2018-01-05  16.700001  16.860001  16.570000  16.830000  16.796408   \n",
              "4   2018-01-08  16.740000  17.030001  16.709999  17.030001  16.996010   \n",
              "5   2018-01-09  17.030001  17.160000  16.959999  17.030001  16.996010   \n",
              "6   2018-01-10  16.920000  17.049999  16.770000  16.799999  16.766466   \n",
              "7   2018-01-11  16.879999  17.299999  16.840000  17.250000  17.215569   \n",
              "8   2018-01-12  17.040001  17.410000  17.020000  17.299999  17.265469   \n",
              "9   2018-01-15  17.320000  17.440001  17.150000  17.350000  17.315371   \n",
              "10  2018-01-16  17.350000  17.840000  17.299999  17.650000  17.614771   \n",
              "11  2018-01-17  17.920000  18.360001  17.809999  18.360001  18.323355   \n",
              "12  2018-01-18  18.350000  18.530001  17.930000  18.219999  18.183632   \n",
              "13  2018-01-19  18.309999  18.420000  18.030001  18.260000  18.223553   \n",
              "14  2018-01-22  18.260000  18.469999  18.090000  18.469999  18.433134   \n",
              "15  2018-01-23  18.400000  18.459999  18.000000  18.240000  18.203592   \n",
              "16  2018-01-24  18.420000  19.629999  18.420000  19.340000  19.301397   \n",
              "17  2018-01-25  19.340000  19.340000  19.340000  19.340000  19.301397   \n",
              "18  2018-01-26  19.620001  19.980000  19.100000  19.930000  19.890221   \n",
              "19  2018-01-29  19.670000  20.049999  19.570000  19.850000  19.810381   \n",
              "20  2018-01-30  19.770000  19.770000  19.360001  19.490000  19.451097   \n",
              "21  2018-01-31  19.740000  19.930000  19.680000  19.700001  19.660681   \n",
              "\n",
              "      Volume  \n",
              "0   33461800  \n",
              "1   55940900  \n",
              "2   37064900  \n",
              "3   26958200  \n",
              "4   28400000  \n",
              "5   35070900  \n",
              "6   28547700  \n",
              "7   37921500  \n",
              "8   45912100  \n",
              "9   28945400  \n",
              "10  58618300  \n",
              "11  58488900  \n",
              "12  48575800  \n",
              "13  33470200  \n",
              "14  33920000  \n",
              "15  35567700  \n",
              "16  89768200  \n",
              "17         0  \n",
              "18  81989500  \n",
              "19  55726200  \n",
              "20  46203000  \n",
              "21  41576600  "
            ],
            "text/html": [
              "\n",
              "  <div id=\"df-de0c6501-9ab2-46c2-ad2b-da72a5087730\" class=\"colab-df-container\">\n",
              "    <div>\n",
              "<style scoped>\n",
              "    .dataframe tbody tr th:only-of-type {\n",
              "        vertical-align: middle;\n",
              "    }\n",
              "\n",
              "    .dataframe tbody tr th {\n",
              "        vertical-align: top;\n",
              "    }\n",
              "\n",
              "    .dataframe thead th {\n",
              "        text-align: right;\n",
              "    }\n",
              "</style>\n",
              "<table border=\"1\" class=\"dataframe\">\n",
              "  <thead>\n",
              "    <tr style=\"text-align: right;\">\n",
              "      <th></th>\n",
              "      <th>Date</th>\n",
              "      <th>Open</th>\n",
              "      <th>High</th>\n",
              "      <th>Low</th>\n",
              "      <th>Close</th>\n",
              "      <th>Adj Close</th>\n",
              "      <th>Volume</th>\n",
              "    </tr>\n",
              "  </thead>\n",
              "  <tbody>\n",
              "    <tr>\n",
              "      <th>0</th>\n",
              "      <td>2018-01-02</td>\n",
              "      <td>16.190001</td>\n",
              "      <td>16.549999</td>\n",
              "      <td>16.190001</td>\n",
              "      <td>16.549999</td>\n",
              "      <td>16.516966</td>\n",
              "      <td>33461800</td>\n",
              "    </tr>\n",
              "    <tr>\n",
              "      <th>1</th>\n",
              "      <td>2018-01-03</td>\n",
              "      <td>16.490000</td>\n",
              "      <td>16.719999</td>\n",
              "      <td>16.370001</td>\n",
              "      <td>16.700001</td>\n",
              "      <td>16.666668</td>\n",
              "      <td>55940900</td>\n",
              "    </tr>\n",
              "    <tr>\n",
              "      <th>2</th>\n",
              "      <td>2018-01-04</td>\n",
              "      <td>16.780001</td>\n",
              "      <td>16.959999</td>\n",
              "      <td>16.620001</td>\n",
              "      <td>16.730000</td>\n",
              "      <td>16.696608</td>\n",
              "      <td>37064900</td>\n",
              "    </tr>\n",
              "    <tr>\n",
              "      <th>3</th>\n",
              "      <td>2018-01-05</td>\n",
              "      <td>16.700001</td>\n",
              "      <td>16.860001</td>\n",
              "      <td>16.570000</td>\n",
              "      <td>16.830000</td>\n",
              "      <td>16.796408</td>\n",
              "      <td>26958200</td>\n",
              "    </tr>\n",
              "    <tr>\n",
              "      <th>4</th>\n",
              "      <td>2018-01-08</td>\n",
              "      <td>16.740000</td>\n",
              "      <td>17.030001</td>\n",
              "      <td>16.709999</td>\n",
              "      <td>17.030001</td>\n",
              "      <td>16.996010</td>\n",
              "      <td>28400000</td>\n",
              "    </tr>\n",
              "    <tr>\n",
              "      <th>5</th>\n",
              "      <td>2018-01-09</td>\n",
              "      <td>17.030001</td>\n",
              "      <td>17.160000</td>\n",
              "      <td>16.959999</td>\n",
              "      <td>17.030001</td>\n",
              "      <td>16.996010</td>\n",
              "      <td>35070900</td>\n",
              "    </tr>\n",
              "    <tr>\n",
              "      <th>6</th>\n",
              "      <td>2018-01-10</td>\n",
              "      <td>16.920000</td>\n",
              "      <td>17.049999</td>\n",
              "      <td>16.770000</td>\n",
              "      <td>16.799999</td>\n",
              "      <td>16.766466</td>\n",
              "      <td>28547700</td>\n",
              "    </tr>\n",
              "    <tr>\n",
              "      <th>7</th>\n",
              "      <td>2018-01-11</td>\n",
              "      <td>16.879999</td>\n",
              "      <td>17.299999</td>\n",
              "      <td>16.840000</td>\n",
              "      <td>17.250000</td>\n",
              "      <td>17.215569</td>\n",
              "      <td>37921500</td>\n",
              "    </tr>\n",
              "    <tr>\n",
              "      <th>8</th>\n",
              "      <td>2018-01-12</td>\n",
              "      <td>17.040001</td>\n",
              "      <td>17.410000</td>\n",
              "      <td>17.020000</td>\n",
              "      <td>17.299999</td>\n",
              "      <td>17.265469</td>\n",
              "      <td>45912100</td>\n",
              "    </tr>\n",
              "    <tr>\n",
              "      <th>9</th>\n",
              "      <td>2018-01-15</td>\n",
              "      <td>17.320000</td>\n",
              "      <td>17.440001</td>\n",
              "      <td>17.150000</td>\n",
              "      <td>17.350000</td>\n",
              "      <td>17.315371</td>\n",
              "      <td>28945400</td>\n",
              "    </tr>\n",
              "    <tr>\n",
              "      <th>10</th>\n",
              "      <td>2018-01-16</td>\n",
              "      <td>17.350000</td>\n",
              "      <td>17.840000</td>\n",
              "      <td>17.299999</td>\n",
              "      <td>17.650000</td>\n",
              "      <td>17.614771</td>\n",
              "      <td>58618300</td>\n",
              "    </tr>\n",
              "    <tr>\n",
              "      <th>11</th>\n",
              "      <td>2018-01-17</td>\n",
              "      <td>17.920000</td>\n",
              "      <td>18.360001</td>\n",
              "      <td>17.809999</td>\n",
              "      <td>18.360001</td>\n",
              "      <td>18.323355</td>\n",
              "      <td>58488900</td>\n",
              "    </tr>\n",
              "    <tr>\n",
              "      <th>12</th>\n",
              "      <td>2018-01-18</td>\n",
              "      <td>18.350000</td>\n",
              "      <td>18.530001</td>\n",
              "      <td>17.930000</td>\n",
              "      <td>18.219999</td>\n",
              "      <td>18.183632</td>\n",
              "      <td>48575800</td>\n",
              "    </tr>\n",
              "    <tr>\n",
              "      <th>13</th>\n",
              "      <td>2018-01-19</td>\n",
              "      <td>18.309999</td>\n",
              "      <td>18.420000</td>\n",
              "      <td>18.030001</td>\n",
              "      <td>18.260000</td>\n",
              "      <td>18.223553</td>\n",
              "      <td>33470200</td>\n",
              "    </tr>\n",
              "    <tr>\n",
              "      <th>14</th>\n",
              "      <td>2018-01-22</td>\n",
              "      <td>18.260000</td>\n",
              "      <td>18.469999</td>\n",
              "      <td>18.090000</td>\n",
              "      <td>18.469999</td>\n",
              "      <td>18.433134</td>\n",
              "      <td>33920000</td>\n",
              "    </tr>\n",
              "    <tr>\n",
              "      <th>15</th>\n",
              "      <td>2018-01-23</td>\n",
              "      <td>18.400000</td>\n",
              "      <td>18.459999</td>\n",
              "      <td>18.000000</td>\n",
              "      <td>18.240000</td>\n",
              "      <td>18.203592</td>\n",
              "      <td>35567700</td>\n",
              "    </tr>\n",
              "    <tr>\n",
              "      <th>16</th>\n",
              "      <td>2018-01-24</td>\n",
              "      <td>18.420000</td>\n",
              "      <td>19.629999</td>\n",
              "      <td>18.420000</td>\n",
              "      <td>19.340000</td>\n",
              "      <td>19.301397</td>\n",
              "      <td>89768200</td>\n",
              "    </tr>\n",
              "    <tr>\n",
              "      <th>17</th>\n",
              "      <td>2018-01-25</td>\n",
              "      <td>19.340000</td>\n",
              "      <td>19.340000</td>\n",
              "      <td>19.340000</td>\n",
              "      <td>19.340000</td>\n",
              "      <td>19.301397</td>\n",
              "      <td>0</td>\n",
              "    </tr>\n",
              "    <tr>\n",
              "      <th>18</th>\n",
              "      <td>2018-01-26</td>\n",
              "      <td>19.620001</td>\n",
              "      <td>19.980000</td>\n",
              "      <td>19.100000</td>\n",
              "      <td>19.930000</td>\n",
              "      <td>19.890221</td>\n",
              "      <td>81989500</td>\n",
              "    </tr>\n",
              "    <tr>\n",
              "      <th>19</th>\n",
              "      <td>2018-01-29</td>\n",
              "      <td>19.670000</td>\n",
              "      <td>20.049999</td>\n",
              "      <td>19.570000</td>\n",
              "      <td>19.850000</td>\n",
              "      <td>19.810381</td>\n",
              "      <td>55726200</td>\n",
              "    </tr>\n",
              "    <tr>\n",
              "      <th>20</th>\n",
              "      <td>2018-01-30</td>\n",
              "      <td>19.770000</td>\n",
              "      <td>19.770000</td>\n",
              "      <td>19.360001</td>\n",
              "      <td>19.490000</td>\n",
              "      <td>19.451097</td>\n",
              "      <td>46203000</td>\n",
              "    </tr>\n",
              "    <tr>\n",
              "      <th>21</th>\n",
              "      <td>2018-01-31</td>\n",
              "      <td>19.740000</td>\n",
              "      <td>19.930000</td>\n",
              "      <td>19.680000</td>\n",
              "      <td>19.700001</td>\n",
              "      <td>19.660681</td>\n",
              "      <td>41576600</td>\n",
              "    </tr>\n",
              "  </tbody>\n",
              "</table>\n",
              "</div>\n",
              "    <div class=\"colab-df-buttons\">\n",
              "\n",
              "  <div class=\"colab-df-container\">\n",
              "    <button class=\"colab-df-convert\" onclick=\"convertToInteractive('df-de0c6501-9ab2-46c2-ad2b-da72a5087730')\"\n",
              "            title=\"Convert this dataframe to an interactive table.\"\n",
              "            style=\"display:none;\">\n",
              "\n",
              "  <svg xmlns=\"http://www.w3.org/2000/svg\" height=\"24px\" viewBox=\"0 -960 960 960\">\n",
              "    <path d=\"M120-120v-720h720v720H120Zm60-500h600v-160H180v160Zm220 220h160v-160H400v160Zm0 220h160v-160H400v160ZM180-400h160v-160H180v160Zm440 0h160v-160H620v160ZM180-180h160v-160H180v160Zm440 0h160v-160H620v160Z\"/>\n",
              "  </svg>\n",
              "    </button>\n",
              "\n",
              "  <style>\n",
              "    .colab-df-container {\n",
              "      display:flex;\n",
              "      gap: 12px;\n",
              "    }\n",
              "\n",
              "    .colab-df-convert {\n",
              "      background-color: #E8F0FE;\n",
              "      border: none;\n",
              "      border-radius: 50%;\n",
              "      cursor: pointer;\n",
              "      display: none;\n",
              "      fill: #1967D2;\n",
              "      height: 32px;\n",
              "      padding: 0 0 0 0;\n",
              "      width: 32px;\n",
              "    }\n",
              "\n",
              "    .colab-df-convert:hover {\n",
              "      background-color: #E2EBFA;\n",
              "      box-shadow: 0px 1px 2px rgba(60, 64, 67, 0.3), 0px 1px 3px 1px rgba(60, 64, 67, 0.15);\n",
              "      fill: #174EA6;\n",
              "    }\n",
              "\n",
              "    .colab-df-buttons div {\n",
              "      margin-bottom: 4px;\n",
              "    }\n",
              "\n",
              "    [theme=dark] .colab-df-convert {\n",
              "      background-color: #3B4455;\n",
              "      fill: #D2E3FC;\n",
              "    }\n",
              "\n",
              "    [theme=dark] .colab-df-convert:hover {\n",
              "      background-color: #434B5C;\n",
              "      box-shadow: 0px 1px 3px 1px rgba(0, 0, 0, 0.15);\n",
              "      filter: drop-shadow(0px 1px 2px rgba(0, 0, 0, 0.3));\n",
              "      fill: #FFFFFF;\n",
              "    }\n",
              "  </style>\n",
              "\n",
              "    <script>\n",
              "      const buttonEl =\n",
              "        document.querySelector('#df-de0c6501-9ab2-46c2-ad2b-da72a5087730 button.colab-df-convert');\n",
              "      buttonEl.style.display =\n",
              "        google.colab.kernel.accessAllowed ? 'block' : 'none';\n",
              "\n",
              "      async function convertToInteractive(key) {\n",
              "        const element = document.querySelector('#df-de0c6501-9ab2-46c2-ad2b-da72a5087730');\n",
              "        const dataTable =\n",
              "          await google.colab.kernel.invokeFunction('convertToInteractive',\n",
              "                                                    [key], {});\n",
              "        if (!dataTable) return;\n",
              "\n",
              "        const docLinkHtml = 'Like what you see? Visit the ' +\n",
              "          '<a target=\"_blank\" href=https://colab.research.google.com/notebooks/data_table.ipynb>data table notebook</a>'\n",
              "          + ' to learn more about interactive tables.';\n",
              "        element.innerHTML = '';\n",
              "        dataTable['output_type'] = 'display_data';\n",
              "        await google.colab.output.renderOutput(dataTable, element);\n",
              "        const docLink = document.createElement('div');\n",
              "        docLink.innerHTML = docLinkHtml;\n",
              "        element.appendChild(docLink);\n",
              "      }\n",
              "    </script>\n",
              "  </div>\n",
              "\n",
              "\n",
              "<div id=\"df-c462f13e-e2b9-4cad-b698-e426db3d1dbb\">\n",
              "  <button class=\"colab-df-quickchart\" onclick=\"quickchart('df-c462f13e-e2b9-4cad-b698-e426db3d1dbb')\"\n",
              "            title=\"Suggest charts\"\n",
              "            style=\"display:none;\">\n",
              "\n",
              "<svg xmlns=\"http://www.w3.org/2000/svg\" height=\"24px\"viewBox=\"0 0 24 24\"\n",
              "     width=\"24px\">\n",
              "    <g>\n",
              "        <path d=\"M19 3H5c-1.1 0-2 .9-2 2v14c0 1.1.9 2 2 2h14c1.1 0 2-.9 2-2V5c0-1.1-.9-2-2-2zM9 17H7v-7h2v7zm4 0h-2V7h2v10zm4 0h-2v-4h2v4z\"/>\n",
              "    </g>\n",
              "</svg>\n",
              "  </button>\n",
              "\n",
              "<style>\n",
              "  .colab-df-quickchart {\n",
              "      --bg-color: #E8F0FE;\n",
              "      --fill-color: #1967D2;\n",
              "      --hover-bg-color: #E2EBFA;\n",
              "      --hover-fill-color: #174EA6;\n",
              "      --disabled-fill-color: #AAA;\n",
              "      --disabled-bg-color: #DDD;\n",
              "  }\n",
              "\n",
              "  [theme=dark] .colab-df-quickchart {\n",
              "      --bg-color: #3B4455;\n",
              "      --fill-color: #D2E3FC;\n",
              "      --hover-bg-color: #434B5C;\n",
              "      --hover-fill-color: #FFFFFF;\n",
              "      --disabled-bg-color: #3B4455;\n",
              "      --disabled-fill-color: #666;\n",
              "  }\n",
              "\n",
              "  .colab-df-quickchart {\n",
              "    background-color: var(--bg-color);\n",
              "    border: none;\n",
              "    border-radius: 50%;\n",
              "    cursor: pointer;\n",
              "    display: none;\n",
              "    fill: var(--fill-color);\n",
              "    height: 32px;\n",
              "    padding: 0;\n",
              "    width: 32px;\n",
              "  }\n",
              "\n",
              "  .colab-df-quickchart:hover {\n",
              "    background-color: var(--hover-bg-color);\n",
              "    box-shadow: 0 1px 2px rgba(60, 64, 67, 0.3), 0 1px 3px 1px rgba(60, 64, 67, 0.15);\n",
              "    fill: var(--button-hover-fill-color);\n",
              "  }\n",
              "\n",
              "  .colab-df-quickchart-complete:disabled,\n",
              "  .colab-df-quickchart-complete:disabled:hover {\n",
              "    background-color: var(--disabled-bg-color);\n",
              "    fill: var(--disabled-fill-color);\n",
              "    box-shadow: none;\n",
              "  }\n",
              "\n",
              "  .colab-df-spinner {\n",
              "    border: 2px solid var(--fill-color);\n",
              "    border-color: transparent;\n",
              "    border-bottom-color: var(--fill-color);\n",
              "    animation:\n",
              "      spin 1s steps(1) infinite;\n",
              "  }\n",
              "\n",
              "  @keyframes spin {\n",
              "    0% {\n",
              "      border-color: transparent;\n",
              "      border-bottom-color: var(--fill-color);\n",
              "      border-left-color: var(--fill-color);\n",
              "    }\n",
              "    20% {\n",
              "      border-color: transparent;\n",
              "      border-left-color: var(--fill-color);\n",
              "      border-top-color: var(--fill-color);\n",
              "    }\n",
              "    30% {\n",
              "      border-color: transparent;\n",
              "      border-left-color: var(--fill-color);\n",
              "      border-top-color: var(--fill-color);\n",
              "      border-right-color: var(--fill-color);\n",
              "    }\n",
              "    40% {\n",
              "      border-color: transparent;\n",
              "      border-right-color: var(--fill-color);\n",
              "      border-top-color: var(--fill-color);\n",
              "    }\n",
              "    60% {\n",
              "      border-color: transparent;\n",
              "      border-right-color: var(--fill-color);\n",
              "    }\n",
              "    80% {\n",
              "      border-color: transparent;\n",
              "      border-right-color: var(--fill-color);\n",
              "      border-bottom-color: var(--fill-color);\n",
              "    }\n",
              "    90% {\n",
              "      border-color: transparent;\n",
              "      border-bottom-color: var(--fill-color);\n",
              "    }\n",
              "  }\n",
              "</style>\n",
              "\n",
              "  <script>\n",
              "    async function quickchart(key) {\n",
              "      const quickchartButtonEl =\n",
              "        document.querySelector('#' + key + ' button');\n",
              "      quickchartButtonEl.disabled = true;  // To prevent multiple clicks.\n",
              "      quickchartButtonEl.classList.add('colab-df-spinner');\n",
              "      try {\n",
              "        const charts = await google.colab.kernel.invokeFunction(\n",
              "            'suggestCharts', [key], {});\n",
              "      } catch (error) {\n",
              "        console.error('Error during call to suggestCharts:', error);\n",
              "      }\n",
              "      quickchartButtonEl.classList.remove('colab-df-spinner');\n",
              "      quickchartButtonEl.classList.add('colab-df-quickchart-complete');\n",
              "    }\n",
              "    (() => {\n",
              "      let quickchartButtonEl =\n",
              "        document.querySelector('#df-c462f13e-e2b9-4cad-b698-e426db3d1dbb button');\n",
              "      quickchartButtonEl.style.display =\n",
              "        google.colab.kernel.accessAllowed ? 'block' : 'none';\n",
              "    })();\n",
              "  </script>\n",
              "</div>\n",
              "\n",
              "  <div id=\"id_a971737d-c9aa-4981-a0ea-43196029c6e1\">\n",
              "    <style>\n",
              "      .colab-df-generate {\n",
              "        background-color: #E8F0FE;\n",
              "        border: none;\n",
              "        border-radius: 50%;\n",
              "        cursor: pointer;\n",
              "        display: none;\n",
              "        fill: #1967D2;\n",
              "        height: 32px;\n",
              "        padding: 0 0 0 0;\n",
              "        width: 32px;\n",
              "      }\n",
              "\n",
              "      .colab-df-generate:hover {\n",
              "        background-color: #E2EBFA;\n",
              "        box-shadow: 0px 1px 2px rgba(60, 64, 67, 0.3), 0px 1px 3px 1px rgba(60, 64, 67, 0.15);\n",
              "        fill: #174EA6;\n",
              "      }\n",
              "\n",
              "      [theme=dark] .colab-df-generate {\n",
              "        background-color: #3B4455;\n",
              "        fill: #D2E3FC;\n",
              "      }\n",
              "\n",
              "      [theme=dark] .colab-df-generate:hover {\n",
              "        background-color: #434B5C;\n",
              "        box-shadow: 0px 1px 3px 1px rgba(0, 0, 0, 0.15);\n",
              "        filter: drop-shadow(0px 1px 2px rgba(0, 0, 0, 0.3));\n",
              "        fill: #FFFFFF;\n",
              "      }\n",
              "    </style>\n",
              "    <button class=\"colab-df-generate\" onclick=\"generateWithVariable('base_teste')\"\n",
              "            title=\"Generate code using this dataframe.\"\n",
              "            style=\"display:none;\">\n",
              "\n",
              "  <svg xmlns=\"http://www.w3.org/2000/svg\" height=\"24px\"viewBox=\"0 0 24 24\"\n",
              "       width=\"24px\">\n",
              "    <path d=\"M7,19H8.4L18.45,9,17,7.55,7,17.6ZM5,21V16.75L18.45,3.32a2,2,0,0,1,2.83,0l1.4,1.43a1.91,1.91,0,0,1,.58,1.4,1.91,1.91,0,0,1-.58,1.4L9.25,21ZM18.45,9,17,7.55Zm-12,3A5.31,5.31,0,0,0,4.9,8.1,5.31,5.31,0,0,0,1,6.5,5.31,5.31,0,0,0,4.9,4.9,5.31,5.31,0,0,0,6.5,1,5.31,5.31,0,0,0,8.1,4.9,5.31,5.31,0,0,0,12,6.5,5.46,5.46,0,0,0,6.5,12Z\"/>\n",
              "  </svg>\n",
              "    </button>\n",
              "    <script>\n",
              "      (() => {\n",
              "      const buttonEl =\n",
              "        document.querySelector('#id_a971737d-c9aa-4981-a0ea-43196029c6e1 button.colab-df-generate');\n",
              "      buttonEl.style.display =\n",
              "        google.colab.kernel.accessAllowed ? 'block' : 'none';\n",
              "\n",
              "      buttonEl.onclick = () => {\n",
              "        google.colab.notebook.generateWithVariable('base_teste');\n",
              "      }\n",
              "      })();\n",
              "    </script>\n",
              "  </div>\n",
              "\n",
              "    </div>\n",
              "  </div>\n"
            ],
            "application/vnd.google.colaboratory.intrinsic+json": {
              "type": "dataframe",
              "variable_name": "base_teste",
              "summary": "{\n  \"name\": \"base_teste\",\n  \"rows\": 22,\n  \"fields\": [\n    {\n      \"column\": \"Date\",\n      \"properties\": {\n        \"dtype\": \"object\",\n        \"num_unique_values\": 22,\n        \"samples\": [\n          \"2018-01-02\",\n          \"2018-01-19\",\n          \"2018-01-12\"\n        ],\n        \"semantic_type\": \"\",\n        \"description\": \"\"\n      }\n    },\n    {\n      \"column\": \"Open\",\n      \"properties\": {\n        \"dtype\": \"number\",\n        \"std\": 1.1780237445700785,\n        \"min\": 16.190001,\n        \"max\": 19.77,\n        \"num_unique_values\": 22,\n        \"samples\": [\n          16.190001,\n          18.309999,\n          17.040001\n        ],\n        \"semantic_type\": \"\",\n        \"description\": \"\"\n      }\n    },\n    {\n      \"column\": \"High\",\n      \"properties\": {\n        \"dtype\": \"number\",\n        \"std\": 1.1915960988402048,\n        \"min\": 16.549999,\n        \"max\": 20.049999,\n        \"num_unique_values\": 22,\n        \"samples\": [\n          16.549999,\n          18.42,\n          17.41\n        ],\n        \"semantic_type\": \"\",\n        \"description\": \"\"\n      }\n    },\n    {\n      \"column\": \"Low\",\n      \"properties\": {\n        \"dtype\": \"number\",\n        \"std\": 1.1190535030288409,\n        \"min\": 16.190001,\n        \"max\": 19.68,\n        \"num_unique_values\": 22,\n        \"samples\": [\n          16.190001,\n          18.030001,\n          17.02\n        ],\n        \"semantic_type\": \"\",\n        \"description\": \"\"\n      }\n    },\n    {\n      \"column\": \"Close\",\n      \"properties\": {\n        \"dtype\": \"number\",\n        \"std\": 1.1559037852980143,\n        \"min\": 16.549999,\n        \"max\": 19.93,\n        \"num_unique_values\": 20,\n        \"samples\": [\n          16.549999,\n          19.85,\n          19.34\n        ],\n        \"semantic_type\": \"\",\n        \"description\": \"\"\n      }\n    },\n    {\n      \"column\": \"Adj Close\",\n      \"properties\": {\n        \"dtype\": \"number\",\n        \"std\": 1.1535965436817561,\n        \"min\": 16.516966,\n        \"max\": 19.890221,\n        \"num_unique_values\": 20,\n        \"samples\": [\n          16.516966,\n          19.810381,\n          19.301397\n        ],\n        \"semantic_type\": \"\",\n        \"description\": \"\"\n      }\n    },\n    {\n      \"column\": \"Volume\",\n      \"properties\": {\n        \"dtype\": \"number\",\n        \"std\": 19199636,\n        \"min\": 0,\n        \"max\": 89768200,\n        \"num_unique_values\": 22,\n        \"samples\": [\n          33461800,\n          33470200,\n          45912100\n        ],\n        \"semantic_type\": \"\",\n        \"description\": \"\"\n      }\n    }\n  ]\n}"
            }
          },
          "metadata": {},
          "execution_count": 22
        }
      ]
    },
    {
      "cell_type": "code",
      "source": [
        "base_teste.shape"
      ],
      "metadata": {
        "colab": {
          "base_uri": "https://localhost:8080/"
        },
        "id": "GFMO1nQTx1cw",
        "outputId": "ffd71c32-8948-4dad-cb3a-eaec65534d78"
      },
      "execution_count": 23,
      "outputs": [
        {
          "output_type": "execute_result",
          "data": {
            "text/plain": [
              "(22, 7)"
            ]
          },
          "metadata": {},
          "execution_count": 23
        }
      ]
    },
    {
      "cell_type": "code",
      "source": [
        "y_teste = base_teste.iloc[:, 1:2].values"
      ],
      "metadata": {
        "id": "SORJqePTyB78"
      },
      "execution_count": 24,
      "outputs": []
    },
    {
      "cell_type": "code",
      "source": [
        "y_teste"
      ],
      "metadata": {
        "colab": {
          "base_uri": "https://localhost:8080/"
        },
        "id": "gFpnoWsvyQme",
        "outputId": "3779b163-e67d-4fb7-dadc-3b69afa6c048"
      },
      "execution_count": 25,
      "outputs": [
        {
          "output_type": "execute_result",
          "data": {
            "text/plain": [
              "array([[16.190001],\n",
              "       [16.49    ],\n",
              "       [16.780001],\n",
              "       [16.700001],\n",
              "       [16.74    ],\n",
              "       [17.030001],\n",
              "       [16.92    ],\n",
              "       [16.879999],\n",
              "       [17.040001],\n",
              "       [17.32    ],\n",
              "       [17.35    ],\n",
              "       [17.92    ],\n",
              "       [18.35    ],\n",
              "       [18.309999],\n",
              "       [18.26    ],\n",
              "       [18.4     ],\n",
              "       [18.42    ],\n",
              "       [19.34    ],\n",
              "       [19.620001],\n",
              "       [19.67    ],\n",
              "       [19.77    ],\n",
              "       [19.74    ]])"
            ]
          },
          "metadata": {},
          "execution_count": 25
        }
      ]
    },
    {
      "cell_type": "code",
      "source": [
        "base.shape"
      ],
      "metadata": {
        "colab": {
          "base_uri": "https://localhost:8080/"
        },
        "id": "cpVGYPmfydim",
        "outputId": "f39af5d8-0549-49f4-82c3-d0d6dd8042b5"
      },
      "execution_count": 26,
      "outputs": [
        {
          "output_type": "execute_result",
          "data": {
            "text/plain": [
              "(1242, 7)"
            ]
          },
          "metadata": {},
          "execution_count": 26
        }
      ]
    },
    {
      "cell_type": "code",
      "source": [
        "base_completa = pd.concat((base['Open'], base_teste['Open']), axis = 0)"
      ],
      "metadata": {
        "id": "XcZMFRktyYJj"
      },
      "execution_count": 27,
      "outputs": []
    },
    {
      "cell_type": "code",
      "source": [
        "1242 + 22"
      ],
      "metadata": {
        "colab": {
          "base_uri": "https://localhost:8080/"
        },
        "id": "KvqIsZQSyp7j",
        "outputId": "61918ae0-abab-432a-d9e0-9ce7f45c67dc"
      },
      "execution_count": 28,
      "outputs": [
        {
          "output_type": "execute_result",
          "data": {
            "text/plain": [
              "1264"
            ]
          },
          "metadata": {},
          "execution_count": 28
        }
      ]
    },
    {
      "cell_type": "code",
      "source": [
        "base_completa.shape"
      ],
      "metadata": {
        "colab": {
          "base_uri": "https://localhost:8080/"
        },
        "id": "RAitQmF9ylXY",
        "outputId": "86aa8e56-a7f7-4bc2-cfd2-c5ea5c647e35"
      },
      "execution_count": 29,
      "outputs": [
        {
          "output_type": "execute_result",
          "data": {
            "text/plain": [
              "(1264,)"
            ]
          },
          "metadata": {},
          "execution_count": 29
        }
      ]
    },
    {
      "cell_type": "code",
      "source": [
        "base_completa"
      ],
      "metadata": {
        "colab": {
          "base_uri": "https://localhost:8080/",
          "height": 458
        },
        "id": "njCLV0eTyvcM",
        "outputId": "2a3a0002-0bba-4b44-d60f-26e82fa0579d"
      },
      "execution_count": 30,
      "outputs": [
        {
          "output_type": "execute_result",
          "data": {
            "text/plain": [
              "0     19.990000\n",
              "1     19.809999\n",
              "2     20.330000\n",
              "3     20.480000\n",
              "4     20.110001\n",
              "        ...    \n",
              "17    19.340000\n",
              "18    19.620001\n",
              "19    19.670000\n",
              "20    19.770000\n",
              "21    19.740000\n",
              "Name: Open, Length: 1264, dtype: float64"
            ],
            "text/html": [
              "<div>\n",
              "<style scoped>\n",
              "    .dataframe tbody tr th:only-of-type {\n",
              "        vertical-align: middle;\n",
              "    }\n",
              "\n",
              "    .dataframe tbody tr th {\n",
              "        vertical-align: top;\n",
              "    }\n",
              "\n",
              "    .dataframe thead th {\n",
              "        text-align: right;\n",
              "    }\n",
              "</style>\n",
              "<table border=\"1\" class=\"dataframe\">\n",
              "  <thead>\n",
              "    <tr style=\"text-align: right;\">\n",
              "      <th></th>\n",
              "      <th>Open</th>\n",
              "    </tr>\n",
              "  </thead>\n",
              "  <tbody>\n",
              "    <tr>\n",
              "      <th>0</th>\n",
              "      <td>19.990000</td>\n",
              "    </tr>\n",
              "    <tr>\n",
              "      <th>1</th>\n",
              "      <td>19.809999</td>\n",
              "    </tr>\n",
              "    <tr>\n",
              "      <th>2</th>\n",
              "      <td>20.330000</td>\n",
              "    </tr>\n",
              "    <tr>\n",
              "      <th>3</th>\n",
              "      <td>20.480000</td>\n",
              "    </tr>\n",
              "    <tr>\n",
              "      <th>4</th>\n",
              "      <td>20.110001</td>\n",
              "    </tr>\n",
              "    <tr>\n",
              "      <th>...</th>\n",
              "      <td>...</td>\n",
              "    </tr>\n",
              "    <tr>\n",
              "      <th>17</th>\n",
              "      <td>19.340000</td>\n",
              "    </tr>\n",
              "    <tr>\n",
              "      <th>18</th>\n",
              "      <td>19.620001</td>\n",
              "    </tr>\n",
              "    <tr>\n",
              "      <th>19</th>\n",
              "      <td>19.670000</td>\n",
              "    </tr>\n",
              "    <tr>\n",
              "      <th>20</th>\n",
              "      <td>19.770000</td>\n",
              "    </tr>\n",
              "    <tr>\n",
              "      <th>21</th>\n",
              "      <td>19.740000</td>\n",
              "    </tr>\n",
              "  </tbody>\n",
              "</table>\n",
              "<p>1264 rows × 1 columns</p>\n",
              "</div><br><label><b>dtype:</b> float64</label>"
            ]
          },
          "metadata": {},
          "execution_count": 30
        }
      ]
    },
    {
      "cell_type": "code",
      "source": [
        "len(base_completa), len(base_teste), 1264 - 22 - 90"
      ],
      "metadata": {
        "colab": {
          "base_uri": "https://localhost:8080/"
        },
        "id": "71fnj6G-zHSO",
        "outputId": "a6751898-85b9-44ae-d070-5e17a33c0af6"
      },
      "execution_count": 31,
      "outputs": [
        {
          "output_type": "execute_result",
          "data": {
            "text/plain": [
              "(1264, 22, 1152)"
            ]
          },
          "metadata": {},
          "execution_count": 31
        }
      ]
    },
    {
      "cell_type": "code",
      "source": [
        "112 - 90"
      ],
      "metadata": {
        "colab": {
          "base_uri": "https://localhost:8080/"
        },
        "id": "3mzHTS1v1K9e",
        "outputId": "cd4bf1b4-2833-415c-b079-e528940bbd51"
      },
      "execution_count": 32,
      "outputs": [
        {
          "output_type": "execute_result",
          "data": {
            "text/plain": [
              "22"
            ]
          },
          "metadata": {},
          "execution_count": 32
        }
      ]
    },
    {
      "cell_type": "code",
      "source": [
        "base_completa[1152:]"
      ],
      "metadata": {
        "colab": {
          "base_uri": "https://localhost:8080/",
          "height": 458
        },
        "id": "Ym-Fb33UzuFE",
        "outputId": "6682df5a-a90f-4e3d-c4f8-4683b905509b"
      },
      "execution_count": 33,
      "outputs": [
        {
          "output_type": "execute_result",
          "data": {
            "text/plain": [
              "1155    13.930000\n",
              "1156    13.760000\n",
              "1157    13.790000\n",
              "1158    13.530000\n",
              "1159    13.850000\n",
              "          ...    \n",
              "17      19.340000\n",
              "18      19.620001\n",
              "19      19.670000\n",
              "20      19.770000\n",
              "21      19.740000\n",
              "Name: Open, Length: 112, dtype: float64"
            ],
            "text/html": [
              "<div>\n",
              "<style scoped>\n",
              "    .dataframe tbody tr th:only-of-type {\n",
              "        vertical-align: middle;\n",
              "    }\n",
              "\n",
              "    .dataframe tbody tr th {\n",
              "        vertical-align: top;\n",
              "    }\n",
              "\n",
              "    .dataframe thead th {\n",
              "        text-align: right;\n",
              "    }\n",
              "</style>\n",
              "<table border=\"1\" class=\"dataframe\">\n",
              "  <thead>\n",
              "    <tr style=\"text-align: right;\">\n",
              "      <th></th>\n",
              "      <th>Open</th>\n",
              "    </tr>\n",
              "  </thead>\n",
              "  <tbody>\n",
              "    <tr>\n",
              "      <th>1155</th>\n",
              "      <td>13.930000</td>\n",
              "    </tr>\n",
              "    <tr>\n",
              "      <th>1156</th>\n",
              "      <td>13.760000</td>\n",
              "    </tr>\n",
              "    <tr>\n",
              "      <th>1157</th>\n",
              "      <td>13.790000</td>\n",
              "    </tr>\n",
              "    <tr>\n",
              "      <th>1158</th>\n",
              "      <td>13.530000</td>\n",
              "    </tr>\n",
              "    <tr>\n",
              "      <th>1159</th>\n",
              "      <td>13.850000</td>\n",
              "    </tr>\n",
              "    <tr>\n",
              "      <th>...</th>\n",
              "      <td>...</td>\n",
              "    </tr>\n",
              "    <tr>\n",
              "      <th>17</th>\n",
              "      <td>19.340000</td>\n",
              "    </tr>\n",
              "    <tr>\n",
              "      <th>18</th>\n",
              "      <td>19.620001</td>\n",
              "    </tr>\n",
              "    <tr>\n",
              "      <th>19</th>\n",
              "      <td>19.670000</td>\n",
              "    </tr>\n",
              "    <tr>\n",
              "      <th>20</th>\n",
              "      <td>19.770000</td>\n",
              "    </tr>\n",
              "    <tr>\n",
              "      <th>21</th>\n",
              "      <td>19.740000</td>\n",
              "    </tr>\n",
              "  </tbody>\n",
              "</table>\n",
              "<p>112 rows × 1 columns</p>\n",
              "</div><br><label><b>dtype:</b> float64</label>"
            ]
          },
          "metadata": {},
          "execution_count": 33
        }
      ]
    },
    {
      "cell_type": "code",
      "source": [
        "entradas = base_completa[len(base_completa) - len(base_teste) - 90:].values"
      ],
      "metadata": {
        "id": "SkOYRXdJy_fB"
      },
      "execution_count": 34,
      "outputs": []
    },
    {
      "cell_type": "code",
      "source": [
        "entradas"
      ],
      "metadata": {
        "colab": {
          "base_uri": "https://localhost:8080/"
        },
        "id": "YxxkMLJU1U7N",
        "outputId": "8e94958e-21c6-43e3-e226-6bc77f136e90"
      },
      "execution_count": 35,
      "outputs": [
        {
          "output_type": "execute_result",
          "data": {
            "text/plain": [
              "array([13.93    , 13.76    , 13.79    , 13.53    , 13.85    , 13.96    ,\n",
              "       14.57    , 14.65    , 15.02    , 15.1     , 14.88    , 14.98    ,\n",
              "       14.94    , 15.03    , 15.07    , 15.02    , 15.1     , 15.25    ,\n",
              "       15.85    , 15.6     , 15.79    , 15.86    , 15.7     , 15.37    ,\n",
              "       15.5     , 15.19    , 15.6     , 15.9     , 15.88    , 15.66    ,\n",
              "       15.61    , 16.129999, 16.17    , 16.08    , 16.23    , 16.16    ,\n",
              "       16.139999, 16.219999, 16.      , 16.190001, 16.290001, 16.290001,\n",
              "       16.530001, 16.780001, 16.77    , 16.969999, 16.9     , 16.99    ,\n",
              "       16.9     , 16.959999, 17.049999, 17.309999, 16.690001, 16.889999,\n",
              "       16.709999, 16.690001, 16.639999, 15.35    , 15.62    , 15.92    ,\n",
              "       16.02    , 16.15    , 16.09    , 15.98    , 16.25    , 16.01    ,\n",
              "       15.93    , 15.87    , 15.3     , 15.34    , 15.65    , 15.5     ,\n",
              "       15.22    , 15.3     , 15.51    , 15.48    , 15.36    , 15.65    ,\n",
              "       15.1     , 15.05    , 15.16    , 15.18    , 15.21    , 15.31    ,\n",
              "       15.75    , 15.75    , 15.75    , 15.99    , 16.1     , 16.1     ,\n",
              "       16.190001, 16.49    , 16.780001, 16.700001, 16.74    , 17.030001,\n",
              "       16.92    , 16.879999, 17.040001, 17.32    , 17.35    , 17.92    ,\n",
              "       18.35    , 18.309999, 18.26    , 18.4     , 18.42    , 19.34    ,\n",
              "       19.620001, 19.67    , 19.77    , 19.74    ])"
            ]
          },
          "metadata": {},
          "execution_count": 35
        }
      ]
    },
    {
      "cell_type": "code",
      "source": [
        "entradas.shape"
      ],
      "metadata": {
        "colab": {
          "base_uri": "https://localhost:8080/"
        },
        "id": "XBqEm6hN1c-E",
        "outputId": "ac85a355-6318-410a-f9b4-b5ba04376511"
      },
      "execution_count": 36,
      "outputs": [
        {
          "output_type": "execute_result",
          "data": {
            "text/plain": [
              "(112,)"
            ]
          },
          "metadata": {},
          "execution_count": 36
        }
      ]
    },
    {
      "cell_type": "code",
      "source": [
        "entradas = entradas.reshape(-1, 1)\n",
        "entradas.shape"
      ],
      "metadata": {
        "colab": {
          "base_uri": "https://localhost:8080/"
        },
        "id": "sMTuVljk1fP6",
        "outputId": "566c493b-7da5-4d4d-fcdd-ffc6745ec6ed"
      },
      "execution_count": 37,
      "outputs": [
        {
          "output_type": "execute_result",
          "data": {
            "text/plain": [
              "(112, 1)"
            ]
          },
          "metadata": {},
          "execution_count": 37
        }
      ]
    },
    {
      "cell_type": "code",
      "source": [
        "entradas"
      ],
      "metadata": {
        "colab": {
          "base_uri": "https://localhost:8080/"
        },
        "id": "JDo4LVIP1oAn",
        "outputId": "d26fd9e7-3f16-44d3-ec1d-12024290102c"
      },
      "execution_count": 38,
      "outputs": [
        {
          "output_type": "execute_result",
          "data": {
            "text/plain": [
              "array([[13.93    ],\n",
              "       [13.76    ],\n",
              "       [13.79    ],\n",
              "       [13.53    ],\n",
              "       [13.85    ],\n",
              "       [13.96    ],\n",
              "       [14.57    ],\n",
              "       [14.65    ],\n",
              "       [15.02    ],\n",
              "       [15.1     ],\n",
              "       [14.88    ],\n",
              "       [14.98    ],\n",
              "       [14.94    ],\n",
              "       [15.03    ],\n",
              "       [15.07    ],\n",
              "       [15.02    ],\n",
              "       [15.1     ],\n",
              "       [15.25    ],\n",
              "       [15.85    ],\n",
              "       [15.6     ],\n",
              "       [15.79    ],\n",
              "       [15.86    ],\n",
              "       [15.7     ],\n",
              "       [15.37    ],\n",
              "       [15.5     ],\n",
              "       [15.19    ],\n",
              "       [15.6     ],\n",
              "       [15.9     ],\n",
              "       [15.88    ],\n",
              "       [15.66    ],\n",
              "       [15.61    ],\n",
              "       [16.129999],\n",
              "       [16.17    ],\n",
              "       [16.08    ],\n",
              "       [16.23    ],\n",
              "       [16.16    ],\n",
              "       [16.139999],\n",
              "       [16.219999],\n",
              "       [16.      ],\n",
              "       [16.190001],\n",
              "       [16.290001],\n",
              "       [16.290001],\n",
              "       [16.530001],\n",
              "       [16.780001],\n",
              "       [16.77    ],\n",
              "       [16.969999],\n",
              "       [16.9     ],\n",
              "       [16.99    ],\n",
              "       [16.9     ],\n",
              "       [16.959999],\n",
              "       [17.049999],\n",
              "       [17.309999],\n",
              "       [16.690001],\n",
              "       [16.889999],\n",
              "       [16.709999],\n",
              "       [16.690001],\n",
              "       [16.639999],\n",
              "       [15.35    ],\n",
              "       [15.62    ],\n",
              "       [15.92    ],\n",
              "       [16.02    ],\n",
              "       [16.15    ],\n",
              "       [16.09    ],\n",
              "       [15.98    ],\n",
              "       [16.25    ],\n",
              "       [16.01    ],\n",
              "       [15.93    ],\n",
              "       [15.87    ],\n",
              "       [15.3     ],\n",
              "       [15.34    ],\n",
              "       [15.65    ],\n",
              "       [15.5     ],\n",
              "       [15.22    ],\n",
              "       [15.3     ],\n",
              "       [15.51    ],\n",
              "       [15.48    ],\n",
              "       [15.36    ],\n",
              "       [15.65    ],\n",
              "       [15.1     ],\n",
              "       [15.05    ],\n",
              "       [15.16    ],\n",
              "       [15.18    ],\n",
              "       [15.21    ],\n",
              "       [15.31    ],\n",
              "       [15.75    ],\n",
              "       [15.75    ],\n",
              "       [15.75    ],\n",
              "       [15.99    ],\n",
              "       [16.1     ],\n",
              "       [16.1     ],\n",
              "       [16.190001],\n",
              "       [16.49    ],\n",
              "       [16.780001],\n",
              "       [16.700001],\n",
              "       [16.74    ],\n",
              "       [17.030001],\n",
              "       [16.92    ],\n",
              "       [16.879999],\n",
              "       [17.040001],\n",
              "       [17.32    ],\n",
              "       [17.35    ],\n",
              "       [17.92    ],\n",
              "       [18.35    ],\n",
              "       [18.309999],\n",
              "       [18.26    ],\n",
              "       [18.4     ],\n",
              "       [18.42    ],\n",
              "       [19.34    ],\n",
              "       [19.620001],\n",
              "       [19.67    ],\n",
              "       [19.77    ],\n",
              "       [19.74    ]])"
            ]
          },
          "metadata": {},
          "execution_count": 38
        }
      ]
    },
    {
      "cell_type": "code",
      "source": [
        "entradas = normalizador.transform(entradas)"
      ],
      "metadata": {
        "id": "5o47Hhqt1zsy"
      },
      "execution_count": 39,
      "outputs": []
    },
    {
      "cell_type": "code",
      "source": [
        "entradas"
      ],
      "metadata": {
        "colab": {
          "base_uri": "https://localhost:8080/"
        },
        "id": "8b9FmqMj12_t",
        "outputId": "a2148c3b-b810-4cc9-a0c9-a33be63c43f7"
      },
      "execution_count": 40,
      "outputs": [
        {
          "output_type": "execute_result",
          "data": {
            "text/plain": [
              "array([[0.47141473],\n",
              "       [0.46317829],\n",
              "       [0.46463178],\n",
              "       [0.45203488],\n",
              "       [0.46753876],\n",
              "       [0.47286822],\n",
              "       [0.50242248],\n",
              "       [0.50629845],\n",
              "       [0.52422481],\n",
              "       [0.52810078],\n",
              "       [0.51744186],\n",
              "       [0.52228682],\n",
              "       [0.52034884],\n",
              "       [0.5247093 ],\n",
              "       [0.52664729],\n",
              "       [0.52422481],\n",
              "       [0.52810078],\n",
              "       [0.53536822],\n",
              "       [0.56443798],\n",
              "       [0.55232558],\n",
              "       [0.56153101],\n",
              "       [0.56492248],\n",
              "       [0.55717054],\n",
              "       [0.54118217],\n",
              "       [0.54748062],\n",
              "       [0.53246124],\n",
              "       [0.55232558],\n",
              "       [0.56686047],\n",
              "       [0.56589147],\n",
              "       [0.55523256],\n",
              "       [0.55281008],\n",
              "       [0.57800383],\n",
              "       [0.57994186],\n",
              "       [0.5755814 ],\n",
              "       [0.58284884],\n",
              "       [0.57945736],\n",
              "       [0.57848832],\n",
              "       [0.58236429],\n",
              "       [0.57170543],\n",
              "       [0.5809109 ],\n",
              "       [0.58575586],\n",
              "       [0.58575586],\n",
              "       [0.59738377],\n",
              "       [0.60949617],\n",
              "       [0.60901163],\n",
              "       [0.6187015 ],\n",
              "       [0.61531008],\n",
              "       [0.61967054],\n",
              "       [0.61531008],\n",
              "       [0.61821701],\n",
              "       [0.62257747],\n",
              "       [0.63517437],\n",
              "       [0.60513571],\n",
              "       [0.61482553],\n",
              "       [0.6061046 ],\n",
              "       [0.60513571],\n",
              "       [0.60271313],\n",
              "       [0.54021318],\n",
              "       [0.55329457],\n",
              "       [0.56782946],\n",
              "       [0.57267442],\n",
              "       [0.57897287],\n",
              "       [0.57606589],\n",
              "       [0.57073643],\n",
              "       [0.58381783],\n",
              "       [0.57218992],\n",
              "       [0.56831395],\n",
              "       [0.56540698],\n",
              "       [0.5377907 ],\n",
              "       [0.53972868],\n",
              "       [0.55474806],\n",
              "       [0.54748062],\n",
              "       [0.53391473],\n",
              "       [0.5377907 ],\n",
              "       [0.54796512],\n",
              "       [0.54651163],\n",
              "       [0.54069767],\n",
              "       [0.55474806],\n",
              "       [0.52810078],\n",
              "       [0.52567829],\n",
              "       [0.53100775],\n",
              "       [0.53197674],\n",
              "       [0.53343023],\n",
              "       [0.53827519],\n",
              "       [0.55959302],\n",
              "       [0.55959302],\n",
              "       [0.55959302],\n",
              "       [0.57122093],\n",
              "       [0.57655039],\n",
              "       [0.57655039],\n",
              "       [0.5809109 ],\n",
              "       [0.59544574],\n",
              "       [0.60949617],\n",
              "       [0.6056202 ],\n",
              "       [0.60755814],\n",
              "       [0.62160858],\n",
              "       [0.61627907],\n",
              "       [0.61434104],\n",
              "       [0.62209307],\n",
              "       [0.63565891],\n",
              "       [0.6371124 ],\n",
              "       [0.66472868],\n",
              "       [0.68556202],\n",
              "       [0.68362398],\n",
              "       [0.68120155],\n",
              "       [0.6879845 ],\n",
              "       [0.68895349],\n",
              "       [0.73352713],\n",
              "       [0.74709307],\n",
              "       [0.7495155 ],\n",
              "       [0.75436047],\n",
              "       [0.75290698]])"
            ]
          },
          "metadata": {},
          "execution_count": 40
        }
      ]
    },
    {
      "cell_type": "code",
      "source": [
        "X_teste = []\n",
        "for i in range(90, 112):\n",
        "  #print(i)\n",
        "  X_teste.append(entradas[i - 90:i, 0])"
      ],
      "metadata": {
        "id": "3Akzz4jC2CUb"
      },
      "execution_count": 41,
      "outputs": []
    },
    {
      "cell_type": "code",
      "source": [
        "X_teste"
      ],
      "metadata": {
        "colab": {
          "base_uri": "https://localhost:8080/"
        },
        "id": "OTVS-H9X2YCD",
        "outputId": "be979ba5-778a-4c9b-e506-98866aa42a85"
      },
      "execution_count": 42,
      "outputs": [
        {
          "output_type": "execute_result",
          "data": {
            "text/plain": [
              "[array([0.47141473, 0.46317829, 0.46463178, 0.45203488, 0.46753876,\n",
              "        0.47286822, 0.50242248, 0.50629845, 0.52422481, 0.52810078,\n",
              "        0.51744186, 0.52228682, 0.52034884, 0.5247093 , 0.52664729,\n",
              "        0.52422481, 0.52810078, 0.53536822, 0.56443798, 0.55232558,\n",
              "        0.56153101, 0.56492248, 0.55717054, 0.54118217, 0.54748062,\n",
              "        0.53246124, 0.55232558, 0.56686047, 0.56589147, 0.55523256,\n",
              "        0.55281008, 0.57800383, 0.57994186, 0.5755814 , 0.58284884,\n",
              "        0.57945736, 0.57848832, 0.58236429, 0.57170543, 0.5809109 ,\n",
              "        0.58575586, 0.58575586, 0.59738377, 0.60949617, 0.60901163,\n",
              "        0.6187015 , 0.61531008, 0.61967054, 0.61531008, 0.61821701,\n",
              "        0.62257747, 0.63517437, 0.60513571, 0.61482553, 0.6061046 ,\n",
              "        0.60513571, 0.60271313, 0.54021318, 0.55329457, 0.56782946,\n",
              "        0.57267442, 0.57897287, 0.57606589, 0.57073643, 0.58381783,\n",
              "        0.57218992, 0.56831395, 0.56540698, 0.5377907 , 0.53972868,\n",
              "        0.55474806, 0.54748062, 0.53391473, 0.5377907 , 0.54796512,\n",
              "        0.54651163, 0.54069767, 0.55474806, 0.52810078, 0.52567829,\n",
              "        0.53100775, 0.53197674, 0.53343023, 0.53827519, 0.55959302,\n",
              "        0.55959302, 0.55959302, 0.57122093, 0.57655039, 0.57655039]),\n",
              " array([0.46317829, 0.46463178, 0.45203488, 0.46753876, 0.47286822,\n",
              "        0.50242248, 0.50629845, 0.52422481, 0.52810078, 0.51744186,\n",
              "        0.52228682, 0.52034884, 0.5247093 , 0.52664729, 0.52422481,\n",
              "        0.52810078, 0.53536822, 0.56443798, 0.55232558, 0.56153101,\n",
              "        0.56492248, 0.55717054, 0.54118217, 0.54748062, 0.53246124,\n",
              "        0.55232558, 0.56686047, 0.56589147, 0.55523256, 0.55281008,\n",
              "        0.57800383, 0.57994186, 0.5755814 , 0.58284884, 0.57945736,\n",
              "        0.57848832, 0.58236429, 0.57170543, 0.5809109 , 0.58575586,\n",
              "        0.58575586, 0.59738377, 0.60949617, 0.60901163, 0.6187015 ,\n",
              "        0.61531008, 0.61967054, 0.61531008, 0.61821701, 0.62257747,\n",
              "        0.63517437, 0.60513571, 0.61482553, 0.6061046 , 0.60513571,\n",
              "        0.60271313, 0.54021318, 0.55329457, 0.56782946, 0.57267442,\n",
              "        0.57897287, 0.57606589, 0.57073643, 0.58381783, 0.57218992,\n",
              "        0.56831395, 0.56540698, 0.5377907 , 0.53972868, 0.55474806,\n",
              "        0.54748062, 0.53391473, 0.5377907 , 0.54796512, 0.54651163,\n",
              "        0.54069767, 0.55474806, 0.52810078, 0.52567829, 0.53100775,\n",
              "        0.53197674, 0.53343023, 0.53827519, 0.55959302, 0.55959302,\n",
              "        0.55959302, 0.57122093, 0.57655039, 0.57655039, 0.5809109 ]),\n",
              " array([0.46463178, 0.45203488, 0.46753876, 0.47286822, 0.50242248,\n",
              "        0.50629845, 0.52422481, 0.52810078, 0.51744186, 0.52228682,\n",
              "        0.52034884, 0.5247093 , 0.52664729, 0.52422481, 0.52810078,\n",
              "        0.53536822, 0.56443798, 0.55232558, 0.56153101, 0.56492248,\n",
              "        0.55717054, 0.54118217, 0.54748062, 0.53246124, 0.55232558,\n",
              "        0.56686047, 0.56589147, 0.55523256, 0.55281008, 0.57800383,\n",
              "        0.57994186, 0.5755814 , 0.58284884, 0.57945736, 0.57848832,\n",
              "        0.58236429, 0.57170543, 0.5809109 , 0.58575586, 0.58575586,\n",
              "        0.59738377, 0.60949617, 0.60901163, 0.6187015 , 0.61531008,\n",
              "        0.61967054, 0.61531008, 0.61821701, 0.62257747, 0.63517437,\n",
              "        0.60513571, 0.61482553, 0.6061046 , 0.60513571, 0.60271313,\n",
              "        0.54021318, 0.55329457, 0.56782946, 0.57267442, 0.57897287,\n",
              "        0.57606589, 0.57073643, 0.58381783, 0.57218992, 0.56831395,\n",
              "        0.56540698, 0.5377907 , 0.53972868, 0.55474806, 0.54748062,\n",
              "        0.53391473, 0.5377907 , 0.54796512, 0.54651163, 0.54069767,\n",
              "        0.55474806, 0.52810078, 0.52567829, 0.53100775, 0.53197674,\n",
              "        0.53343023, 0.53827519, 0.55959302, 0.55959302, 0.55959302,\n",
              "        0.57122093, 0.57655039, 0.57655039, 0.5809109 , 0.59544574]),\n",
              " array([0.45203488, 0.46753876, 0.47286822, 0.50242248, 0.50629845,\n",
              "        0.52422481, 0.52810078, 0.51744186, 0.52228682, 0.52034884,\n",
              "        0.5247093 , 0.52664729, 0.52422481, 0.52810078, 0.53536822,\n",
              "        0.56443798, 0.55232558, 0.56153101, 0.56492248, 0.55717054,\n",
              "        0.54118217, 0.54748062, 0.53246124, 0.55232558, 0.56686047,\n",
              "        0.56589147, 0.55523256, 0.55281008, 0.57800383, 0.57994186,\n",
              "        0.5755814 , 0.58284884, 0.57945736, 0.57848832, 0.58236429,\n",
              "        0.57170543, 0.5809109 , 0.58575586, 0.58575586, 0.59738377,\n",
              "        0.60949617, 0.60901163, 0.6187015 , 0.61531008, 0.61967054,\n",
              "        0.61531008, 0.61821701, 0.62257747, 0.63517437, 0.60513571,\n",
              "        0.61482553, 0.6061046 , 0.60513571, 0.60271313, 0.54021318,\n",
              "        0.55329457, 0.56782946, 0.57267442, 0.57897287, 0.57606589,\n",
              "        0.57073643, 0.58381783, 0.57218992, 0.56831395, 0.56540698,\n",
              "        0.5377907 , 0.53972868, 0.55474806, 0.54748062, 0.53391473,\n",
              "        0.5377907 , 0.54796512, 0.54651163, 0.54069767, 0.55474806,\n",
              "        0.52810078, 0.52567829, 0.53100775, 0.53197674, 0.53343023,\n",
              "        0.53827519, 0.55959302, 0.55959302, 0.55959302, 0.57122093,\n",
              "        0.57655039, 0.57655039, 0.5809109 , 0.59544574, 0.60949617]),\n",
              " array([0.46753876, 0.47286822, 0.50242248, 0.50629845, 0.52422481,\n",
              "        0.52810078, 0.51744186, 0.52228682, 0.52034884, 0.5247093 ,\n",
              "        0.52664729, 0.52422481, 0.52810078, 0.53536822, 0.56443798,\n",
              "        0.55232558, 0.56153101, 0.56492248, 0.55717054, 0.54118217,\n",
              "        0.54748062, 0.53246124, 0.55232558, 0.56686047, 0.56589147,\n",
              "        0.55523256, 0.55281008, 0.57800383, 0.57994186, 0.5755814 ,\n",
              "        0.58284884, 0.57945736, 0.57848832, 0.58236429, 0.57170543,\n",
              "        0.5809109 , 0.58575586, 0.58575586, 0.59738377, 0.60949617,\n",
              "        0.60901163, 0.6187015 , 0.61531008, 0.61967054, 0.61531008,\n",
              "        0.61821701, 0.62257747, 0.63517437, 0.60513571, 0.61482553,\n",
              "        0.6061046 , 0.60513571, 0.60271313, 0.54021318, 0.55329457,\n",
              "        0.56782946, 0.57267442, 0.57897287, 0.57606589, 0.57073643,\n",
              "        0.58381783, 0.57218992, 0.56831395, 0.56540698, 0.5377907 ,\n",
              "        0.53972868, 0.55474806, 0.54748062, 0.53391473, 0.5377907 ,\n",
              "        0.54796512, 0.54651163, 0.54069767, 0.55474806, 0.52810078,\n",
              "        0.52567829, 0.53100775, 0.53197674, 0.53343023, 0.53827519,\n",
              "        0.55959302, 0.55959302, 0.55959302, 0.57122093, 0.57655039,\n",
              "        0.57655039, 0.5809109 , 0.59544574, 0.60949617, 0.6056202 ]),\n",
              " array([0.47286822, 0.50242248, 0.50629845, 0.52422481, 0.52810078,\n",
              "        0.51744186, 0.52228682, 0.52034884, 0.5247093 , 0.52664729,\n",
              "        0.52422481, 0.52810078, 0.53536822, 0.56443798, 0.55232558,\n",
              "        0.56153101, 0.56492248, 0.55717054, 0.54118217, 0.54748062,\n",
              "        0.53246124, 0.55232558, 0.56686047, 0.56589147, 0.55523256,\n",
              "        0.55281008, 0.57800383, 0.57994186, 0.5755814 , 0.58284884,\n",
              "        0.57945736, 0.57848832, 0.58236429, 0.57170543, 0.5809109 ,\n",
              "        0.58575586, 0.58575586, 0.59738377, 0.60949617, 0.60901163,\n",
              "        0.6187015 , 0.61531008, 0.61967054, 0.61531008, 0.61821701,\n",
              "        0.62257747, 0.63517437, 0.60513571, 0.61482553, 0.6061046 ,\n",
              "        0.60513571, 0.60271313, 0.54021318, 0.55329457, 0.56782946,\n",
              "        0.57267442, 0.57897287, 0.57606589, 0.57073643, 0.58381783,\n",
              "        0.57218992, 0.56831395, 0.56540698, 0.5377907 , 0.53972868,\n",
              "        0.55474806, 0.54748062, 0.53391473, 0.5377907 , 0.54796512,\n",
              "        0.54651163, 0.54069767, 0.55474806, 0.52810078, 0.52567829,\n",
              "        0.53100775, 0.53197674, 0.53343023, 0.53827519, 0.55959302,\n",
              "        0.55959302, 0.55959302, 0.57122093, 0.57655039, 0.57655039,\n",
              "        0.5809109 , 0.59544574, 0.60949617, 0.6056202 , 0.60755814]),\n",
              " array([0.50242248, 0.50629845, 0.52422481, 0.52810078, 0.51744186,\n",
              "        0.52228682, 0.52034884, 0.5247093 , 0.52664729, 0.52422481,\n",
              "        0.52810078, 0.53536822, 0.56443798, 0.55232558, 0.56153101,\n",
              "        0.56492248, 0.55717054, 0.54118217, 0.54748062, 0.53246124,\n",
              "        0.55232558, 0.56686047, 0.56589147, 0.55523256, 0.55281008,\n",
              "        0.57800383, 0.57994186, 0.5755814 , 0.58284884, 0.57945736,\n",
              "        0.57848832, 0.58236429, 0.57170543, 0.5809109 , 0.58575586,\n",
              "        0.58575586, 0.59738377, 0.60949617, 0.60901163, 0.6187015 ,\n",
              "        0.61531008, 0.61967054, 0.61531008, 0.61821701, 0.62257747,\n",
              "        0.63517437, 0.60513571, 0.61482553, 0.6061046 , 0.60513571,\n",
              "        0.60271313, 0.54021318, 0.55329457, 0.56782946, 0.57267442,\n",
              "        0.57897287, 0.57606589, 0.57073643, 0.58381783, 0.57218992,\n",
              "        0.56831395, 0.56540698, 0.5377907 , 0.53972868, 0.55474806,\n",
              "        0.54748062, 0.53391473, 0.5377907 , 0.54796512, 0.54651163,\n",
              "        0.54069767, 0.55474806, 0.52810078, 0.52567829, 0.53100775,\n",
              "        0.53197674, 0.53343023, 0.53827519, 0.55959302, 0.55959302,\n",
              "        0.55959302, 0.57122093, 0.57655039, 0.57655039, 0.5809109 ,\n",
              "        0.59544574, 0.60949617, 0.6056202 , 0.60755814, 0.62160858]),\n",
              " array([0.50629845, 0.52422481, 0.52810078, 0.51744186, 0.52228682,\n",
              "        0.52034884, 0.5247093 , 0.52664729, 0.52422481, 0.52810078,\n",
              "        0.53536822, 0.56443798, 0.55232558, 0.56153101, 0.56492248,\n",
              "        0.55717054, 0.54118217, 0.54748062, 0.53246124, 0.55232558,\n",
              "        0.56686047, 0.56589147, 0.55523256, 0.55281008, 0.57800383,\n",
              "        0.57994186, 0.5755814 , 0.58284884, 0.57945736, 0.57848832,\n",
              "        0.58236429, 0.57170543, 0.5809109 , 0.58575586, 0.58575586,\n",
              "        0.59738377, 0.60949617, 0.60901163, 0.6187015 , 0.61531008,\n",
              "        0.61967054, 0.61531008, 0.61821701, 0.62257747, 0.63517437,\n",
              "        0.60513571, 0.61482553, 0.6061046 , 0.60513571, 0.60271313,\n",
              "        0.54021318, 0.55329457, 0.56782946, 0.57267442, 0.57897287,\n",
              "        0.57606589, 0.57073643, 0.58381783, 0.57218992, 0.56831395,\n",
              "        0.56540698, 0.5377907 , 0.53972868, 0.55474806, 0.54748062,\n",
              "        0.53391473, 0.5377907 , 0.54796512, 0.54651163, 0.54069767,\n",
              "        0.55474806, 0.52810078, 0.52567829, 0.53100775, 0.53197674,\n",
              "        0.53343023, 0.53827519, 0.55959302, 0.55959302, 0.55959302,\n",
              "        0.57122093, 0.57655039, 0.57655039, 0.5809109 , 0.59544574,\n",
              "        0.60949617, 0.6056202 , 0.60755814, 0.62160858, 0.61627907]),\n",
              " array([0.52422481, 0.52810078, 0.51744186, 0.52228682, 0.52034884,\n",
              "        0.5247093 , 0.52664729, 0.52422481, 0.52810078, 0.53536822,\n",
              "        0.56443798, 0.55232558, 0.56153101, 0.56492248, 0.55717054,\n",
              "        0.54118217, 0.54748062, 0.53246124, 0.55232558, 0.56686047,\n",
              "        0.56589147, 0.55523256, 0.55281008, 0.57800383, 0.57994186,\n",
              "        0.5755814 , 0.58284884, 0.57945736, 0.57848832, 0.58236429,\n",
              "        0.57170543, 0.5809109 , 0.58575586, 0.58575586, 0.59738377,\n",
              "        0.60949617, 0.60901163, 0.6187015 , 0.61531008, 0.61967054,\n",
              "        0.61531008, 0.61821701, 0.62257747, 0.63517437, 0.60513571,\n",
              "        0.61482553, 0.6061046 , 0.60513571, 0.60271313, 0.54021318,\n",
              "        0.55329457, 0.56782946, 0.57267442, 0.57897287, 0.57606589,\n",
              "        0.57073643, 0.58381783, 0.57218992, 0.56831395, 0.56540698,\n",
              "        0.5377907 , 0.53972868, 0.55474806, 0.54748062, 0.53391473,\n",
              "        0.5377907 , 0.54796512, 0.54651163, 0.54069767, 0.55474806,\n",
              "        0.52810078, 0.52567829, 0.53100775, 0.53197674, 0.53343023,\n",
              "        0.53827519, 0.55959302, 0.55959302, 0.55959302, 0.57122093,\n",
              "        0.57655039, 0.57655039, 0.5809109 , 0.59544574, 0.60949617,\n",
              "        0.6056202 , 0.60755814, 0.62160858, 0.61627907, 0.61434104]),\n",
              " array([0.52810078, 0.51744186, 0.52228682, 0.52034884, 0.5247093 ,\n",
              "        0.52664729, 0.52422481, 0.52810078, 0.53536822, 0.56443798,\n",
              "        0.55232558, 0.56153101, 0.56492248, 0.55717054, 0.54118217,\n",
              "        0.54748062, 0.53246124, 0.55232558, 0.56686047, 0.56589147,\n",
              "        0.55523256, 0.55281008, 0.57800383, 0.57994186, 0.5755814 ,\n",
              "        0.58284884, 0.57945736, 0.57848832, 0.58236429, 0.57170543,\n",
              "        0.5809109 , 0.58575586, 0.58575586, 0.59738377, 0.60949617,\n",
              "        0.60901163, 0.6187015 , 0.61531008, 0.61967054, 0.61531008,\n",
              "        0.61821701, 0.62257747, 0.63517437, 0.60513571, 0.61482553,\n",
              "        0.6061046 , 0.60513571, 0.60271313, 0.54021318, 0.55329457,\n",
              "        0.56782946, 0.57267442, 0.57897287, 0.57606589, 0.57073643,\n",
              "        0.58381783, 0.57218992, 0.56831395, 0.56540698, 0.5377907 ,\n",
              "        0.53972868, 0.55474806, 0.54748062, 0.53391473, 0.5377907 ,\n",
              "        0.54796512, 0.54651163, 0.54069767, 0.55474806, 0.52810078,\n",
              "        0.52567829, 0.53100775, 0.53197674, 0.53343023, 0.53827519,\n",
              "        0.55959302, 0.55959302, 0.55959302, 0.57122093, 0.57655039,\n",
              "        0.57655039, 0.5809109 , 0.59544574, 0.60949617, 0.6056202 ,\n",
              "        0.60755814, 0.62160858, 0.61627907, 0.61434104, 0.62209307]),\n",
              " array([0.51744186, 0.52228682, 0.52034884, 0.5247093 , 0.52664729,\n",
              "        0.52422481, 0.52810078, 0.53536822, 0.56443798, 0.55232558,\n",
              "        0.56153101, 0.56492248, 0.55717054, 0.54118217, 0.54748062,\n",
              "        0.53246124, 0.55232558, 0.56686047, 0.56589147, 0.55523256,\n",
              "        0.55281008, 0.57800383, 0.57994186, 0.5755814 , 0.58284884,\n",
              "        0.57945736, 0.57848832, 0.58236429, 0.57170543, 0.5809109 ,\n",
              "        0.58575586, 0.58575586, 0.59738377, 0.60949617, 0.60901163,\n",
              "        0.6187015 , 0.61531008, 0.61967054, 0.61531008, 0.61821701,\n",
              "        0.62257747, 0.63517437, 0.60513571, 0.61482553, 0.6061046 ,\n",
              "        0.60513571, 0.60271313, 0.54021318, 0.55329457, 0.56782946,\n",
              "        0.57267442, 0.57897287, 0.57606589, 0.57073643, 0.58381783,\n",
              "        0.57218992, 0.56831395, 0.56540698, 0.5377907 , 0.53972868,\n",
              "        0.55474806, 0.54748062, 0.53391473, 0.5377907 , 0.54796512,\n",
              "        0.54651163, 0.54069767, 0.55474806, 0.52810078, 0.52567829,\n",
              "        0.53100775, 0.53197674, 0.53343023, 0.53827519, 0.55959302,\n",
              "        0.55959302, 0.55959302, 0.57122093, 0.57655039, 0.57655039,\n",
              "        0.5809109 , 0.59544574, 0.60949617, 0.6056202 , 0.60755814,\n",
              "        0.62160858, 0.61627907, 0.61434104, 0.62209307, 0.63565891]),\n",
              " array([0.52228682, 0.52034884, 0.5247093 , 0.52664729, 0.52422481,\n",
              "        0.52810078, 0.53536822, 0.56443798, 0.55232558, 0.56153101,\n",
              "        0.56492248, 0.55717054, 0.54118217, 0.54748062, 0.53246124,\n",
              "        0.55232558, 0.56686047, 0.56589147, 0.55523256, 0.55281008,\n",
              "        0.57800383, 0.57994186, 0.5755814 , 0.58284884, 0.57945736,\n",
              "        0.57848832, 0.58236429, 0.57170543, 0.5809109 , 0.58575586,\n",
              "        0.58575586, 0.59738377, 0.60949617, 0.60901163, 0.6187015 ,\n",
              "        0.61531008, 0.61967054, 0.61531008, 0.61821701, 0.62257747,\n",
              "        0.63517437, 0.60513571, 0.61482553, 0.6061046 , 0.60513571,\n",
              "        0.60271313, 0.54021318, 0.55329457, 0.56782946, 0.57267442,\n",
              "        0.57897287, 0.57606589, 0.57073643, 0.58381783, 0.57218992,\n",
              "        0.56831395, 0.56540698, 0.5377907 , 0.53972868, 0.55474806,\n",
              "        0.54748062, 0.53391473, 0.5377907 , 0.54796512, 0.54651163,\n",
              "        0.54069767, 0.55474806, 0.52810078, 0.52567829, 0.53100775,\n",
              "        0.53197674, 0.53343023, 0.53827519, 0.55959302, 0.55959302,\n",
              "        0.55959302, 0.57122093, 0.57655039, 0.57655039, 0.5809109 ,\n",
              "        0.59544574, 0.60949617, 0.6056202 , 0.60755814, 0.62160858,\n",
              "        0.61627907, 0.61434104, 0.62209307, 0.63565891, 0.6371124 ]),\n",
              " array([0.52034884, 0.5247093 , 0.52664729, 0.52422481, 0.52810078,\n",
              "        0.53536822, 0.56443798, 0.55232558, 0.56153101, 0.56492248,\n",
              "        0.55717054, 0.54118217, 0.54748062, 0.53246124, 0.55232558,\n",
              "        0.56686047, 0.56589147, 0.55523256, 0.55281008, 0.57800383,\n",
              "        0.57994186, 0.5755814 , 0.58284884, 0.57945736, 0.57848832,\n",
              "        0.58236429, 0.57170543, 0.5809109 , 0.58575586, 0.58575586,\n",
              "        0.59738377, 0.60949617, 0.60901163, 0.6187015 , 0.61531008,\n",
              "        0.61967054, 0.61531008, 0.61821701, 0.62257747, 0.63517437,\n",
              "        0.60513571, 0.61482553, 0.6061046 , 0.60513571, 0.60271313,\n",
              "        0.54021318, 0.55329457, 0.56782946, 0.57267442, 0.57897287,\n",
              "        0.57606589, 0.57073643, 0.58381783, 0.57218992, 0.56831395,\n",
              "        0.56540698, 0.5377907 , 0.53972868, 0.55474806, 0.54748062,\n",
              "        0.53391473, 0.5377907 , 0.54796512, 0.54651163, 0.54069767,\n",
              "        0.55474806, 0.52810078, 0.52567829, 0.53100775, 0.53197674,\n",
              "        0.53343023, 0.53827519, 0.55959302, 0.55959302, 0.55959302,\n",
              "        0.57122093, 0.57655039, 0.57655039, 0.5809109 , 0.59544574,\n",
              "        0.60949617, 0.6056202 , 0.60755814, 0.62160858, 0.61627907,\n",
              "        0.61434104, 0.62209307, 0.63565891, 0.6371124 , 0.66472868]),\n",
              " array([0.5247093 , 0.52664729, 0.52422481, 0.52810078, 0.53536822,\n",
              "        0.56443798, 0.55232558, 0.56153101, 0.56492248, 0.55717054,\n",
              "        0.54118217, 0.54748062, 0.53246124, 0.55232558, 0.56686047,\n",
              "        0.56589147, 0.55523256, 0.55281008, 0.57800383, 0.57994186,\n",
              "        0.5755814 , 0.58284884, 0.57945736, 0.57848832, 0.58236429,\n",
              "        0.57170543, 0.5809109 , 0.58575586, 0.58575586, 0.59738377,\n",
              "        0.60949617, 0.60901163, 0.6187015 , 0.61531008, 0.61967054,\n",
              "        0.61531008, 0.61821701, 0.62257747, 0.63517437, 0.60513571,\n",
              "        0.61482553, 0.6061046 , 0.60513571, 0.60271313, 0.54021318,\n",
              "        0.55329457, 0.56782946, 0.57267442, 0.57897287, 0.57606589,\n",
              "        0.57073643, 0.58381783, 0.57218992, 0.56831395, 0.56540698,\n",
              "        0.5377907 , 0.53972868, 0.55474806, 0.54748062, 0.53391473,\n",
              "        0.5377907 , 0.54796512, 0.54651163, 0.54069767, 0.55474806,\n",
              "        0.52810078, 0.52567829, 0.53100775, 0.53197674, 0.53343023,\n",
              "        0.53827519, 0.55959302, 0.55959302, 0.55959302, 0.57122093,\n",
              "        0.57655039, 0.57655039, 0.5809109 , 0.59544574, 0.60949617,\n",
              "        0.6056202 , 0.60755814, 0.62160858, 0.61627907, 0.61434104,\n",
              "        0.62209307, 0.63565891, 0.6371124 , 0.66472868, 0.68556202]),\n",
              " array([0.52664729, 0.52422481, 0.52810078, 0.53536822, 0.56443798,\n",
              "        0.55232558, 0.56153101, 0.56492248, 0.55717054, 0.54118217,\n",
              "        0.54748062, 0.53246124, 0.55232558, 0.56686047, 0.56589147,\n",
              "        0.55523256, 0.55281008, 0.57800383, 0.57994186, 0.5755814 ,\n",
              "        0.58284884, 0.57945736, 0.57848832, 0.58236429, 0.57170543,\n",
              "        0.5809109 , 0.58575586, 0.58575586, 0.59738377, 0.60949617,\n",
              "        0.60901163, 0.6187015 , 0.61531008, 0.61967054, 0.61531008,\n",
              "        0.61821701, 0.62257747, 0.63517437, 0.60513571, 0.61482553,\n",
              "        0.6061046 , 0.60513571, 0.60271313, 0.54021318, 0.55329457,\n",
              "        0.56782946, 0.57267442, 0.57897287, 0.57606589, 0.57073643,\n",
              "        0.58381783, 0.57218992, 0.56831395, 0.56540698, 0.5377907 ,\n",
              "        0.53972868, 0.55474806, 0.54748062, 0.53391473, 0.5377907 ,\n",
              "        0.54796512, 0.54651163, 0.54069767, 0.55474806, 0.52810078,\n",
              "        0.52567829, 0.53100775, 0.53197674, 0.53343023, 0.53827519,\n",
              "        0.55959302, 0.55959302, 0.55959302, 0.57122093, 0.57655039,\n",
              "        0.57655039, 0.5809109 , 0.59544574, 0.60949617, 0.6056202 ,\n",
              "        0.60755814, 0.62160858, 0.61627907, 0.61434104, 0.62209307,\n",
              "        0.63565891, 0.6371124 , 0.66472868, 0.68556202, 0.68362398]),\n",
              " array([0.52422481, 0.52810078, 0.53536822, 0.56443798, 0.55232558,\n",
              "        0.56153101, 0.56492248, 0.55717054, 0.54118217, 0.54748062,\n",
              "        0.53246124, 0.55232558, 0.56686047, 0.56589147, 0.55523256,\n",
              "        0.55281008, 0.57800383, 0.57994186, 0.5755814 , 0.58284884,\n",
              "        0.57945736, 0.57848832, 0.58236429, 0.57170543, 0.5809109 ,\n",
              "        0.58575586, 0.58575586, 0.59738377, 0.60949617, 0.60901163,\n",
              "        0.6187015 , 0.61531008, 0.61967054, 0.61531008, 0.61821701,\n",
              "        0.62257747, 0.63517437, 0.60513571, 0.61482553, 0.6061046 ,\n",
              "        0.60513571, 0.60271313, 0.54021318, 0.55329457, 0.56782946,\n",
              "        0.57267442, 0.57897287, 0.57606589, 0.57073643, 0.58381783,\n",
              "        0.57218992, 0.56831395, 0.56540698, 0.5377907 , 0.53972868,\n",
              "        0.55474806, 0.54748062, 0.53391473, 0.5377907 , 0.54796512,\n",
              "        0.54651163, 0.54069767, 0.55474806, 0.52810078, 0.52567829,\n",
              "        0.53100775, 0.53197674, 0.53343023, 0.53827519, 0.55959302,\n",
              "        0.55959302, 0.55959302, 0.57122093, 0.57655039, 0.57655039,\n",
              "        0.5809109 , 0.59544574, 0.60949617, 0.6056202 , 0.60755814,\n",
              "        0.62160858, 0.61627907, 0.61434104, 0.62209307, 0.63565891,\n",
              "        0.6371124 , 0.66472868, 0.68556202, 0.68362398, 0.68120155]),\n",
              " array([0.52810078, 0.53536822, 0.56443798, 0.55232558, 0.56153101,\n",
              "        0.56492248, 0.55717054, 0.54118217, 0.54748062, 0.53246124,\n",
              "        0.55232558, 0.56686047, 0.56589147, 0.55523256, 0.55281008,\n",
              "        0.57800383, 0.57994186, 0.5755814 , 0.58284884, 0.57945736,\n",
              "        0.57848832, 0.58236429, 0.57170543, 0.5809109 , 0.58575586,\n",
              "        0.58575586, 0.59738377, 0.60949617, 0.60901163, 0.6187015 ,\n",
              "        0.61531008, 0.61967054, 0.61531008, 0.61821701, 0.62257747,\n",
              "        0.63517437, 0.60513571, 0.61482553, 0.6061046 , 0.60513571,\n",
              "        0.60271313, 0.54021318, 0.55329457, 0.56782946, 0.57267442,\n",
              "        0.57897287, 0.57606589, 0.57073643, 0.58381783, 0.57218992,\n",
              "        0.56831395, 0.56540698, 0.5377907 , 0.53972868, 0.55474806,\n",
              "        0.54748062, 0.53391473, 0.5377907 , 0.54796512, 0.54651163,\n",
              "        0.54069767, 0.55474806, 0.52810078, 0.52567829, 0.53100775,\n",
              "        0.53197674, 0.53343023, 0.53827519, 0.55959302, 0.55959302,\n",
              "        0.55959302, 0.57122093, 0.57655039, 0.57655039, 0.5809109 ,\n",
              "        0.59544574, 0.60949617, 0.6056202 , 0.60755814, 0.62160858,\n",
              "        0.61627907, 0.61434104, 0.62209307, 0.63565891, 0.6371124 ,\n",
              "        0.66472868, 0.68556202, 0.68362398, 0.68120155, 0.6879845 ]),\n",
              " array([0.53536822, 0.56443798, 0.55232558, 0.56153101, 0.56492248,\n",
              "        0.55717054, 0.54118217, 0.54748062, 0.53246124, 0.55232558,\n",
              "        0.56686047, 0.56589147, 0.55523256, 0.55281008, 0.57800383,\n",
              "        0.57994186, 0.5755814 , 0.58284884, 0.57945736, 0.57848832,\n",
              "        0.58236429, 0.57170543, 0.5809109 , 0.58575586, 0.58575586,\n",
              "        0.59738377, 0.60949617, 0.60901163, 0.6187015 , 0.61531008,\n",
              "        0.61967054, 0.61531008, 0.61821701, 0.62257747, 0.63517437,\n",
              "        0.60513571, 0.61482553, 0.6061046 , 0.60513571, 0.60271313,\n",
              "        0.54021318, 0.55329457, 0.56782946, 0.57267442, 0.57897287,\n",
              "        0.57606589, 0.57073643, 0.58381783, 0.57218992, 0.56831395,\n",
              "        0.56540698, 0.5377907 , 0.53972868, 0.55474806, 0.54748062,\n",
              "        0.53391473, 0.5377907 , 0.54796512, 0.54651163, 0.54069767,\n",
              "        0.55474806, 0.52810078, 0.52567829, 0.53100775, 0.53197674,\n",
              "        0.53343023, 0.53827519, 0.55959302, 0.55959302, 0.55959302,\n",
              "        0.57122093, 0.57655039, 0.57655039, 0.5809109 , 0.59544574,\n",
              "        0.60949617, 0.6056202 , 0.60755814, 0.62160858, 0.61627907,\n",
              "        0.61434104, 0.62209307, 0.63565891, 0.6371124 , 0.66472868,\n",
              "        0.68556202, 0.68362398, 0.68120155, 0.6879845 , 0.68895349]),\n",
              " array([0.56443798, 0.55232558, 0.56153101, 0.56492248, 0.55717054,\n",
              "        0.54118217, 0.54748062, 0.53246124, 0.55232558, 0.56686047,\n",
              "        0.56589147, 0.55523256, 0.55281008, 0.57800383, 0.57994186,\n",
              "        0.5755814 , 0.58284884, 0.57945736, 0.57848832, 0.58236429,\n",
              "        0.57170543, 0.5809109 , 0.58575586, 0.58575586, 0.59738377,\n",
              "        0.60949617, 0.60901163, 0.6187015 , 0.61531008, 0.61967054,\n",
              "        0.61531008, 0.61821701, 0.62257747, 0.63517437, 0.60513571,\n",
              "        0.61482553, 0.6061046 , 0.60513571, 0.60271313, 0.54021318,\n",
              "        0.55329457, 0.56782946, 0.57267442, 0.57897287, 0.57606589,\n",
              "        0.57073643, 0.58381783, 0.57218992, 0.56831395, 0.56540698,\n",
              "        0.5377907 , 0.53972868, 0.55474806, 0.54748062, 0.53391473,\n",
              "        0.5377907 , 0.54796512, 0.54651163, 0.54069767, 0.55474806,\n",
              "        0.52810078, 0.52567829, 0.53100775, 0.53197674, 0.53343023,\n",
              "        0.53827519, 0.55959302, 0.55959302, 0.55959302, 0.57122093,\n",
              "        0.57655039, 0.57655039, 0.5809109 , 0.59544574, 0.60949617,\n",
              "        0.6056202 , 0.60755814, 0.62160858, 0.61627907, 0.61434104,\n",
              "        0.62209307, 0.63565891, 0.6371124 , 0.66472868, 0.68556202,\n",
              "        0.68362398, 0.68120155, 0.6879845 , 0.68895349, 0.73352713]),\n",
              " array([0.55232558, 0.56153101, 0.56492248, 0.55717054, 0.54118217,\n",
              "        0.54748062, 0.53246124, 0.55232558, 0.56686047, 0.56589147,\n",
              "        0.55523256, 0.55281008, 0.57800383, 0.57994186, 0.5755814 ,\n",
              "        0.58284884, 0.57945736, 0.57848832, 0.58236429, 0.57170543,\n",
              "        0.5809109 , 0.58575586, 0.58575586, 0.59738377, 0.60949617,\n",
              "        0.60901163, 0.6187015 , 0.61531008, 0.61967054, 0.61531008,\n",
              "        0.61821701, 0.62257747, 0.63517437, 0.60513571, 0.61482553,\n",
              "        0.6061046 , 0.60513571, 0.60271313, 0.54021318, 0.55329457,\n",
              "        0.56782946, 0.57267442, 0.57897287, 0.57606589, 0.57073643,\n",
              "        0.58381783, 0.57218992, 0.56831395, 0.56540698, 0.5377907 ,\n",
              "        0.53972868, 0.55474806, 0.54748062, 0.53391473, 0.5377907 ,\n",
              "        0.54796512, 0.54651163, 0.54069767, 0.55474806, 0.52810078,\n",
              "        0.52567829, 0.53100775, 0.53197674, 0.53343023, 0.53827519,\n",
              "        0.55959302, 0.55959302, 0.55959302, 0.57122093, 0.57655039,\n",
              "        0.57655039, 0.5809109 , 0.59544574, 0.60949617, 0.6056202 ,\n",
              "        0.60755814, 0.62160858, 0.61627907, 0.61434104, 0.62209307,\n",
              "        0.63565891, 0.6371124 , 0.66472868, 0.68556202, 0.68362398,\n",
              "        0.68120155, 0.6879845 , 0.68895349, 0.73352713, 0.74709307]),\n",
              " array([0.56153101, 0.56492248, 0.55717054, 0.54118217, 0.54748062,\n",
              "        0.53246124, 0.55232558, 0.56686047, 0.56589147, 0.55523256,\n",
              "        0.55281008, 0.57800383, 0.57994186, 0.5755814 , 0.58284884,\n",
              "        0.57945736, 0.57848832, 0.58236429, 0.57170543, 0.5809109 ,\n",
              "        0.58575586, 0.58575586, 0.59738377, 0.60949617, 0.60901163,\n",
              "        0.6187015 , 0.61531008, 0.61967054, 0.61531008, 0.61821701,\n",
              "        0.62257747, 0.63517437, 0.60513571, 0.61482553, 0.6061046 ,\n",
              "        0.60513571, 0.60271313, 0.54021318, 0.55329457, 0.56782946,\n",
              "        0.57267442, 0.57897287, 0.57606589, 0.57073643, 0.58381783,\n",
              "        0.57218992, 0.56831395, 0.56540698, 0.5377907 , 0.53972868,\n",
              "        0.55474806, 0.54748062, 0.53391473, 0.5377907 , 0.54796512,\n",
              "        0.54651163, 0.54069767, 0.55474806, 0.52810078, 0.52567829,\n",
              "        0.53100775, 0.53197674, 0.53343023, 0.53827519, 0.55959302,\n",
              "        0.55959302, 0.55959302, 0.57122093, 0.57655039, 0.57655039,\n",
              "        0.5809109 , 0.59544574, 0.60949617, 0.6056202 , 0.60755814,\n",
              "        0.62160858, 0.61627907, 0.61434104, 0.62209307, 0.63565891,\n",
              "        0.6371124 , 0.66472868, 0.68556202, 0.68362398, 0.68120155,\n",
              "        0.6879845 , 0.68895349, 0.73352713, 0.74709307, 0.7495155 ]),\n",
              " array([0.56492248, 0.55717054, 0.54118217, 0.54748062, 0.53246124,\n",
              "        0.55232558, 0.56686047, 0.56589147, 0.55523256, 0.55281008,\n",
              "        0.57800383, 0.57994186, 0.5755814 , 0.58284884, 0.57945736,\n",
              "        0.57848832, 0.58236429, 0.57170543, 0.5809109 , 0.58575586,\n",
              "        0.58575586, 0.59738377, 0.60949617, 0.60901163, 0.6187015 ,\n",
              "        0.61531008, 0.61967054, 0.61531008, 0.61821701, 0.62257747,\n",
              "        0.63517437, 0.60513571, 0.61482553, 0.6061046 , 0.60513571,\n",
              "        0.60271313, 0.54021318, 0.55329457, 0.56782946, 0.57267442,\n",
              "        0.57897287, 0.57606589, 0.57073643, 0.58381783, 0.57218992,\n",
              "        0.56831395, 0.56540698, 0.5377907 , 0.53972868, 0.55474806,\n",
              "        0.54748062, 0.53391473, 0.5377907 , 0.54796512, 0.54651163,\n",
              "        0.54069767, 0.55474806, 0.52810078, 0.52567829, 0.53100775,\n",
              "        0.53197674, 0.53343023, 0.53827519, 0.55959302, 0.55959302,\n",
              "        0.55959302, 0.57122093, 0.57655039, 0.57655039, 0.5809109 ,\n",
              "        0.59544574, 0.60949617, 0.6056202 , 0.60755814, 0.62160858,\n",
              "        0.61627907, 0.61434104, 0.62209307, 0.63565891, 0.6371124 ,\n",
              "        0.66472868, 0.68556202, 0.68362398, 0.68120155, 0.6879845 ,\n",
              "        0.68895349, 0.73352713, 0.74709307, 0.7495155 , 0.75436047])]"
            ]
          },
          "metadata": {},
          "execution_count": 42
        }
      ]
    },
    {
      "cell_type": "code",
      "source": [
        "X_teste = np.array(X_teste)\n",
        "X_teste = np.reshape(X_teste, (X_teste.shape[0], X_teste.shape[1], 1))"
      ],
      "metadata": {
        "id": "g1HXJKfB2tmz"
      },
      "execution_count": 43,
      "outputs": []
    },
    {
      "cell_type": "code",
      "source": [
        "X_teste.shape"
      ],
      "metadata": {
        "colab": {
          "base_uri": "https://localhost:8080/"
        },
        "id": "igPFGTTL2485",
        "outputId": "5e03b03d-236d-4ab9-e11c-bad4392d1967"
      },
      "execution_count": 44,
      "outputs": [
        {
          "output_type": "execute_result",
          "data": {
            "text/plain": [
              "(22, 90, 1)"
            ]
          },
          "metadata": {},
          "execution_count": 44
        }
      ]
    },
    {
      "cell_type": "code",
      "source": [
        "previsoes = regressor.predict(X_teste)"
      ],
      "metadata": {
        "colab": {
          "base_uri": "https://localhost:8080/"
        },
        "id": "-7FGBgFN3F4h",
        "outputId": "96d1986d-13ed-420f-da77-b19e7fe2027c"
      },
      "execution_count": 45,
      "outputs": [
        {
          "output_type": "stream",
          "name": "stdout",
          "text": [
            "\u001b[1m1/1\u001b[0m \u001b[32m━━━━━━━━━━━━━━━━━━━━\u001b[0m\u001b[37m\u001b[0m \u001b[1m0s\u001b[0m 342ms/step\n"
          ]
        }
      ]
    },
    {
      "cell_type": "code",
      "source": [
        "previsoes"
      ],
      "metadata": {
        "colab": {
          "base_uri": "https://localhost:8080/"
        },
        "id": "Rz4FEcI03KbI",
        "outputId": "0315dbaa-f1d4-4921-c3e0-7fefda6ee4e1"
      },
      "execution_count": 46,
      "outputs": [
        {
          "output_type": "execute_result",
          "data": {
            "text/plain": [
              "array([[0.5619104 ],\n",
              "       [0.5650929 ],\n",
              "       [0.57136065],\n",
              "       [0.58292323],\n",
              "       [0.5910646 ],\n",
              "       [0.5926565 ],\n",
              "       [0.5959419 ],\n",
              "       [0.59957355],\n",
              "       [0.6002379 ],\n",
              "       [0.601296  ],\n",
              "       [0.60821056],\n",
              "       [0.6166028 ],\n",
              "       [0.63068044],\n",
              "       [0.650787  ],\n",
              "       [0.6638943 ],\n",
              "       [0.66446483],\n",
              "       [0.6625391 ],\n",
              "       [0.6642167 ],\n",
              "       [0.68497765],\n",
              "       [0.7129688 ],\n",
              "       [0.726789  ],\n",
              "       [0.72670317]], dtype=float32)"
            ]
          },
          "metadata": {},
          "execution_count": 46
        }
      ]
    },
    {
      "cell_type": "code",
      "source": [
        "previsoes = normalizador.inverse_transform(previsoes)"
      ],
      "metadata": {
        "id": "XDpRnNbn3Pzb"
      },
      "execution_count": 47,
      "outputs": []
    },
    {
      "cell_type": "code",
      "source": [
        "previsoes.shape"
      ],
      "metadata": {
        "colab": {
          "base_uri": "https://localhost:8080/"
        },
        "id": "CLJMYQ6W3VxK",
        "outputId": "5e7b29e1-93d1-4e62-92eb-85bd4d283538"
      },
      "execution_count": 48,
      "outputs": [
        {
          "output_type": "execute_result",
          "data": {
            "text/plain": [
              "(22, 1)"
            ]
          },
          "metadata": {},
          "execution_count": 48
        }
      ]
    },
    {
      "cell_type": "code",
      "source": [
        "y_teste"
      ],
      "metadata": {
        "colab": {
          "base_uri": "https://localhost:8080/"
        },
        "id": "itjBhto93d2N",
        "outputId": "6b1ff876-4118-4524-af05-f89c60a64410"
      },
      "execution_count": 49,
      "outputs": [
        {
          "output_type": "execute_result",
          "data": {
            "text/plain": [
              "array([[16.190001],\n",
              "       [16.49    ],\n",
              "       [16.780001],\n",
              "       [16.700001],\n",
              "       [16.74    ],\n",
              "       [17.030001],\n",
              "       [16.92    ],\n",
              "       [16.879999],\n",
              "       [17.040001],\n",
              "       [17.32    ],\n",
              "       [17.35    ],\n",
              "       [17.92    ],\n",
              "       [18.35    ],\n",
              "       [18.309999],\n",
              "       [18.26    ],\n",
              "       [18.4     ],\n",
              "       [18.42    ],\n",
              "       [19.34    ],\n",
              "       [19.620001],\n",
              "       [19.67    ],\n",
              "       [19.77    ],\n",
              "       [19.74    ]])"
            ]
          },
          "metadata": {},
          "execution_count": 49
        }
      ]
    },
    {
      "cell_type": "code",
      "source": [
        "previsoes.mean()"
      ],
      "metadata": {
        "colab": {
          "base_uri": "https://localhost:8080/"
        },
        "id": "q2CkXQSu3oxI",
        "outputId": "5003b5d6-cae9-4574-e0ff-646ec164b107"
      },
      "execution_count": 50,
      "outputs": [
        {
          "output_type": "execute_result",
          "data": {
            "text/plain": [
              "np.float32(17.217173)"
            ]
          },
          "metadata": {},
          "execution_count": 50
        }
      ]
    },
    {
      "cell_type": "code",
      "source": [
        "y_teste.mean()"
      ],
      "metadata": {
        "colab": {
          "base_uri": "https://localhost:8080/"
        },
        "id": "DCOiJyvw3qcZ",
        "outputId": "c97dc9bb-2304-40a5-9fdb-c7114e0791f5"
      },
      "execution_count": 51,
      "outputs": [
        {
          "output_type": "execute_result",
          "data": {
            "text/plain": [
              "np.float64(17.87454563636364)"
            ]
          },
          "metadata": {},
          "execution_count": 51
        }
      ]
    },
    {
      "cell_type": "code",
      "source": [
        "from sklearn.metrics import mean_absolute_error\n",
        "mean_absolute_error(y_teste, previsoes)"
      ],
      "metadata": {
        "colab": {
          "base_uri": "https://localhost:8080/"
        },
        "id": "jvQjFZPs3ulh",
        "outputId": "3e624b4a-e221-4876-920f-420e38f3977e"
      },
      "execution_count": 52,
      "outputs": [
        {
          "output_type": "execute_result",
          "data": {
            "text/plain": [
              "0.6573747909851075"
            ]
          },
          "metadata": {},
          "execution_count": 52
        }
      ]
    },
    {
      "cell_type": "code",
      "source": [
        "plt.plot(y_teste, color = \"red\", label = \"Preço real\")\n",
        "plt.plot(previsoes, color = \"blue\", label = \"Previsões\")\n",
        "plt.title(\"Previsão do preço das ações\")\n",
        "plt.xlabel(\"Tempo\")\n",
        "plt.ylabel(\"Valor\")\n",
        "plt.legend();"
      ],
      "metadata": {
        "colab": {
          "base_uri": "https://localhost:8080/",
          "height": 472
        },
        "id": "cJ1Z6kWL36yz",
        "outputId": "1241eeb4-181c-4739-ce7c-5056e7c448e6"
      },
      "execution_count": 53,
      "outputs": [
        {
          "output_type": "display_data",
          "data": {
            "text/plain": [
              "<Figure size 640x480 with 1 Axes>"
            ],
            "image/png": "[encoded data removed]"
          },
          "metadata": {}
        }
      ]
    }
  ]
}