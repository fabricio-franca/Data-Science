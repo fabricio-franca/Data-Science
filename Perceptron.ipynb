{
  "cells": [
    {
      "cell_type": "markdown",
      "metadata": {
        "id": "view-in-github",
        "colab_type": "text"
      },
      "source": [
        "<a href=\"https://colab.research.google.com/github/fabricio-franca/Data_Science/blob/main/Perceptron.ipynb\" target=\"_parent\"><img src=\"https://colab.research.google.com/assets/colab-badge.svg\" alt=\"Open In Colab\"/></a>"
      ]
    },
    {
      "cell_type": "markdown",
      "metadata": {
        "id": "rAFzbrggx1c2"
      },
      "source": [
        "FIAP - Redes Neurais Artificiais, Deep Learning e Algoritmos Genéticos\n",
        "\n",
        "# Aula 03 - Trabalhando com Perceptron\n",
        "\n",
        "## Implementação de um Perceptron simples"
      ]
    },
    {
      "cell_type": "code",
      "execution_count": null,
      "metadata": {
        "id": "LN4r4U_Cx1dA"
      },
      "outputs": [],
      "source": [
        "# Definir a função de agregação de informação (soma poderada)\n"
      ]
    },
    {
      "cell_type": "code",
      "execution_count": null,
      "metadata": {
        "id": "fqsLOvR_x1dG"
      },
      "outputs": [],
      "source": [
        "# Definir a função de ativação: FUNÇÃO DEGRAU\n"
      ]
    },
    {
      "cell_type": "code",
      "execution_count": 11,
      "metadata": {
        "id": "DRcG6eV-x1dJ"
      },
      "outputs": [],
      "source": [
        "x = [1,2,3]\n",
        "w = [0.1,0.2,0.3]\n",
        "b = 0\n",
        "u = 0"
      ]
    },
    {
      "cell_type": "code",
      "execution_count": 12,
      "metadata": {
        "id": "yNoqh-yjx1dM"
      },
      "outputs": [],
      "source": [
        "def perceptron(x, w, b):\n",
        "  u = 0\n",
        "  for i in range(len(x)):\n",
        "    u += x[i] * w[i]\n",
        "  u += b\n",
        "  if u >= 0:\n",
        "    f = 1\n",
        "  else:\n",
        "    f = 0\n",
        "  return f"
      ]
    },
    {
      "cell_type": "code",
      "source": [
        "print(f'Função degrau: {perceptron(x,w,b)}')"
      ],
      "metadata": {
        "id": "DpXRDR5RFRkl",
        "outputId": "2d218696-37be-49b9-e344-354c6885bd42",
        "colab": {
          "base_uri": "https://localhost:8080/"
        }
      },
      "execution_count": 15,
      "outputs": [
        {
          "output_type": "stream",
          "name": "stdout",
          "text": [
            "Função degrau: 1\n"
          ]
        }
      ]
    },
    {
      "cell_type": "markdown",
      "metadata": {
        "id": "0tje9NEcx1dS"
      },
      "source": [
        "## Casos de aplicação do perceptron\n",
        "\n",
        "Vamos analisar a base `escolha_faculdade.xlsx` com exemplos de faculdades identificadas pelo ID e com um conjunto de variáveis que as descrevem. As variáveis são:\n",
        "\n",
        "- reconhecida_MEC: a faculdade é reconhecida pelo MEC? 1=sim ; 0=não\n",
        "- facilidade_pagamento: a faculdade apresenta facilidades para pagamento? 1=sim ; 0=não\n",
        "- flexibilidade_ensino: o quão flexível é o método de ensino? 1=somente presencial ; 2=somente EAD ; 3=misto\n",
        "- entrada_mercado: o que a faculdade oferece para facilitar a entrada do aluno no mercado de trabalho? 0=sem suporte ; 1=feiras ; 2=feiras e estágios ; 3=feiras, estágios e convênios com empresas\n",
        "- score_infraestrutura: qual nota de 0 a 100 a escola possui para sua infraestrutura?\n",
        "- empregabilidade: qual a porcentagem de alunos egressos empregados?\n",
        "- acesso_facil: a localização possui fácil acesso, como metrô, ônibus, estacionamento? 1=sim ; 0=não"
      ]
    },
    {
      "cell_type": "code",
      "execution_count": 17,
      "metadata": {
        "id": "j4eSjwmXx1dW"
      },
      "outputs": [],
      "source": [
        "# Pesos já fornecidos\n",
        "pesos = [ 0.10, 0.05, 0.05, 0.2, 0.25, 0.3, 0.05 ]"
      ]
    },
    {
      "cell_type": "code",
      "execution_count": 18,
      "metadata": {
        "id": "nwF3sxTfx1dY"
      },
      "outputs": [],
      "source": [
        "import pandas as pd\n",
        "import math"
      ]
    },
    {
      "cell_type": "code",
      "execution_count": 20,
      "metadata": {
        "id": "mvm9x_zVx1da"
      },
      "outputs": [],
      "source": [
        "df = pd.read_excel(\"escolha_faculdade.xlsx\", index_col=\"ID\")"
      ]
    },
    {
      "cell_type": "code",
      "execution_count": 22,
      "metadata": {
        "id": "DHt4l-2Rx1dc"
      },
      "outputs": [],
      "source": [
        "def perceptron(x, w, b):\n",
        "  u = 0\n",
        "  for i in range(len(x)):\n",
        "    u += x[i] * w[i]\n",
        "  u += b\n",
        "  if u >= 0:\n",
        "    f = 1\n",
        "  else:\n",
        "    f = 0\n",
        "  return f"
      ]
    },
    {
      "cell_type": "code",
      "execution_count": 26,
      "metadata": {
        "id": "KAwdaIDAx1de",
        "outputId": "8e631f5a-0a84-4ca4-dd27-9c4a3dd69e4b",
        "colab": {
          "base_uri": "https://localhost:8080/"
        }
      },
      "outputs": [
        {
          "output_type": "stream",
          "name": "stdout",
          "text": [
            "ID\n",
            "1     1\n",
            "2     0\n",
            "3     1\n",
            "4     1\n",
            "5     0\n",
            "6     0\n",
            "7     1\n",
            "8     1\n",
            "9     0\n",
            "10    1\n",
            "Name: acesso_facil, dtype: int64\n"
          ]
        }
      ],
      "source": [
        "print(df['acesso_facil'])"
      ]
    },
    {
      "cell_type": "code",
      "execution_count": null,
      "metadata": {
        "id": "e2sxlSJ9x1dg"
      },
      "outputs": [],
      "source": []
    },
    {
      "cell_type": "code",
      "execution_count": null,
      "metadata": {
        "id": "gHRgaGTqx1di"
      },
      "outputs": [],
      "source": []
    },
    {
      "cell_type": "code",
      "execution_count": null,
      "metadata": {
        "id": "WyiMDAXax1dj"
      },
      "outputs": [],
      "source": []
    },
    {
      "cell_type": "code",
      "execution_count": null,
      "metadata": {
        "id": "WZpBvxu1x1dk"
      },
      "outputs": [],
      "source": []
    },
    {
      "cell_type": "code",
      "execution_count": null,
      "metadata": {
        "id": "5-8ISP1Hx1dl"
      },
      "outputs": [],
      "source": []
    },
    {
      "cell_type": "code",
      "execution_count": null,
      "metadata": {
        "id": "KMnJ_n_Ox1dm"
      },
      "outputs": [],
      "source": []
    },
    {
      "cell_type": "code",
      "execution_count": null,
      "metadata": {
        "id": "qVrZ0JUex1dn"
      },
      "outputs": [],
      "source": []
    }
  ],
  "metadata": {
    "kernelspec": {
      "display_name": "Python 3",
      "language": "python",
      "name": "python3"
    },
    "language_info": {
      "codemirror_mode": {
        "name": "ipython",
        "version": 3
      },
      "file_extension": ".py",
      "mimetype": "text/x-python",
      "name": "python",
      "nbconvert_exporter": "python",
      "pygments_lexer": "ipython3",
      "version": "3.7.3"
    },
    "colab": {
      "provenance": [],
      "include_colab_link": true
    }
  },
  "nbformat": 4,
  "nbformat_minor": 0
}