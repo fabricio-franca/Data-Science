{
  "cells": [
    {
      "cell_type": "markdown",
      "metadata": {
        "id": "view-in-github",
        "colab_type": "text"
      },
      "source": [
        "<a href=\"https://colab.research.google.com/github/fabricio-franca/Data_Science/blob/main/KNN.ipynb\" target=\"_parent\"><img src=\"https://colab.research.google.com/assets/colab-badge.svg\" alt=\"Open In Colab\"/></a>"
      ]
    },
    {
      "cell_type": "markdown",
      "source": [
        "Para este projeto, escolhemos a tecnologia de Machine Learning, especificamente o algoritmo K-Nearest Neighbors (KNN), por várias razões:\n",
        "\n",
        "\n",
        "\n",
        "*   Simplicidade e Eficiência: O KNN é um algoritmo simples e intuitivo que não faz suposições fortes sobre a distribuição dos dados. Isso é particularmente útil em cenários onde a relação entre as variáveis independentes e a variável dependente não é linear ou não é bem compreendida.\n",
        "*   Capacidade de Adaptar-se a Dados Multidimensionais: O KNN pode facilmente lidar com múltiplas variáveis de entrada, permitindo que incorporemos várias características dos imóveis (como área, número de quartos, e se é mobiliado) para melhorar a precisão das previsões.\n",
        "*   Flexibilidade: O KNN é um algoritmo não paramétrico, o que significa que ele pode ser aplicado a uma ampla variedade de problemas sem a necessidade de ajustar muitos parâmetros. Isso o torna uma escolha robusta para o nosso problema de previsão de aluguel, onde as características dos imóveis podem variar significativamente.\n",
        "*   Facilidade de Implementação: Com bibliotecas como Scikit-learn, implementar e ajustar modelos de KNN é direto e eficiente, permitindo experimentação rápida com diferentes configurações (como o número de vizinhos, K) para otimizar o modelo.\n",
        "\n",
        "\n",
        "Para construir um modelo preditivo de KNN para prever o valor do aluguel dos imóveis cadastrados na plataforma da \"Sexto Andar\", vamos seguir uma pipeline de Machine Learning que inclui introdução, coleta e análise de dados, pré-processamento, modelagem, validação e conclusão. Vamos usar Python e bibliotecas como Pandas, NumPy, Scikit-learn e Matplotlib para essa tarefa.\n",
        "\n",
        "\n",
        "1. Introdução\n",
        "O objetivo deste projeto é desenvolver um modelo de KNN para prever o valor do aluguel de imóveis com base em suas características. A métrica alvo para avaliar o modelo será o Mean Square Error (MSE).\n",
        "\n",
        "2. Coleta e Análise de Dados\n",
        "Vamos começar carregando os dados fornecidos e analisando-os para entender melhor as variáveis disponíveis."
      ],
      "metadata": {
        "id": "oGtYW0WYuPdv"
      }
    },
    {
      "cell_type": "code",
      "source": [
        "import pandas as pd\n",
        "import numpy as np\n",
        "import matplotlib.pyplot as plt\n",
        "from sklearn.model_selection import train_test_split\n",
        "from sklearn.neighbors import KNeighborsRegressor\n",
        "from sklearn.metrics import mean_squared_error\n",
        "\n",
        "# Carregar os dados\n",
        "data = pd.read_csv('/content/aluguel.csv', sep=';')\n",
        "\n",
        "# Visualizar as primeiras linhas do dataset\n",
        "print(data.head())\n",
        "\n",
        "# Descrição estatística dos dados\n",
        "print(data.describe())\n",
        "\n",
        "# Verificar valores nulos\n",
        "print(data.isnull().sum())\n"
      ],
      "metadata": {
        "colab": {
          "base_uri": "https://localhost:8080/"
        },
        "id": "q0xlVSCmuSxC",
        "outputId": "3a30ba47-70b7-4d58-a64f-bf7b7baaf8d7"
      },
      "execution_count": 7,
      "outputs": [
        {
          "output_type": "stream",
          "name": "stdout",
          "text": [
            "         cidade  area  quartos  banheiros  vagas_garagem  andar  \\\n",
            "0     São Paulo    70        2          1              1      7   \n",
            "1     São Paulo   320        4          4              0     20   \n",
            "2  Porto Alegre    80        1          1              1      6   \n",
            "3  Porto Alegre    51        2          1              0      2   \n",
            "4     São Paulo    25        1          1              0      1   \n",
            "\n",
            "   aceita_animal  mobiliaria  valor_condominio  valor_aluguel  valor_iptu  \\\n",
            "0              1           1              2065           3300         211   \n",
            "1              1           0              1200           4960        1750   \n",
            "2              1           0              1000           2800           0   \n",
            "3              1           0               270           1112          22   \n",
            "4              0           0                 0            800          25   \n",
            "\n",
            "   valor_seguro  valor_total  \n",
            "0            42         5618  \n",
            "1            63         7973  \n",
            "2            41         3841  \n",
            "3            17         1421  \n",
            "4            11          836  \n",
            "               area      quartos     banheiros  vagas_garagem         andar  \\\n",
            "count  10685.000000  10685.00000  10685.000000   10685.000000  10685.000000   \n",
            "mean     149.155452      2.50613      2.235751       1.608797      5.043332   \n",
            "std      537.159483      1.17086      1.406287       1.588426      5.358497   \n",
            "min       11.000000      1.00000      1.000000       0.000000      0.000000   \n",
            "25%       56.000000      2.00000      1.000000       0.000000      1.000000   \n",
            "50%       90.000000      2.00000      2.000000       1.000000      3.000000   \n",
            "75%      182.000000      3.00000      3.000000       2.000000      8.000000   \n",
            "max    46335.000000     13.00000     10.000000      12.000000     51.000000   \n",
            "\n",
            "       aceita_animal    mobiliaria  valor_condominio  valor_aluguel  \\\n",
            "count   10685.000000  10685.000000      10685.000000   10685.000000   \n",
            "mean        0.777913      0.243706        918.745905    3890.416004   \n",
            "std         0.415669      0.429338       1166.977706    3381.827918   \n",
            "min         0.000000      0.000000          0.000000     450.000000   \n",
            "25%         1.000000      0.000000        170.000000    1530.000000   \n",
            "50%         1.000000      0.000000        560.000000    2650.000000   \n",
            "75%         1.000000      0.000000       1235.000000    5000.000000   \n",
            "max         1.000000      1.000000      32000.000000   30000.000000   \n",
            "\n",
            "         valor_iptu  valor_seguro   valor_total  \n",
            "count  10685.000000  10685.000000  10685.000000  \n",
            "mean     335.563032     53.218811   5198.132616  \n",
            "std      677.795945     47.350550   4473.376271  \n",
            "min        0.000000      3.000000    499.000000  \n",
            "25%       38.000000     21.000000   2061.000000  \n",
            "50%      125.000000     36.000000   3578.000000  \n",
            "75%      375.000000     68.000000   6758.000000  \n",
            "max    28120.000000    451.000000  32750.000000  \n",
            "cidade              0\n",
            "area                0\n",
            "quartos             0\n",
            "banheiros           0\n",
            "vagas_garagem       0\n",
            "andar               0\n",
            "aceita_animal       0\n",
            "mobiliaria          0\n",
            "valor_condominio    0\n",
            "valor_aluguel       0\n",
            "valor_iptu          0\n",
            "valor_seguro        0\n",
            "valor_total         0\n",
            "dtype: int64\n"
          ]
        }
      ]
    },
    {
      "cell_type": "markdown",
      "source": [
        "3. Pré-processamento\n",
        "Vamos tratar os valores nulos (se houver), normalizar os dados e converter variáveis categóricas para numéricas."
      ],
      "metadata": {
        "id": "Vkny4Uivu_Sn"
      }
    },
    {
      "cell_type": "code",
      "source": [
        "# Tratar valores nulos\n",
        "data = data.dropna()\n",
        "\n",
        "# Converter variáveis categóricas para numéricas\n",
        "# Nesse caso, já está tratado.\n",
        "\n",
        "# Normalizar os dados\n",
        "#Já normalizados...\n"
      ],
      "metadata": {
        "id": "Qe1Qj5i1vDax"
      },
      "execution_count": 17,
      "outputs": []
    },
    {
      "cell_type": "markdown",
      "source": [
        "4. Modelagem\n",
        "Vamos desenvolver o modelo de KNN inicialmente com a variável de entrada \"Área\" e a variável resposta \"Valor do Aluguel\"."
      ],
      "metadata": {
        "id": "gNVPVPwjviV1"
      }
    },
    {
      "cell_type": "code",
      "source": [
        "# Separar variáveis de entrada e resposta\n",
        "X = data[['area']]\n",
        "y = data['valor_aluguel']\n",
        "\n",
        "# Dividir os dados em treino e teste usando Hold-Out\n",
        "X_train, X_test, y_train, y_test = train_test_split(X, y, test_size=0.3, random_state=42)\n",
        "\n",
        "# Treinar o modelo de KNN com K=5 (valor inicial)\n",
        "knn = KNeighborsRegressor(n_neighbors=5)\n",
        "knn.fit(X_train, y_train)\n",
        "\n",
        "# Prever no conjunto de teste\n",
        "y_pred = knn.predict(X_test)\n",
        "\n",
        "# Calcular o EQM\n",
        "mse = mean_squared_error(y_test, y_pred)\n",
        "print(f'MSE com variável \"Área\": {mse}')\n"
      ],
      "metadata": {
        "colab": {
          "base_uri": "https://localhost:8080/"
        },
        "id": "4PvqbdfivjYE",
        "outputId": "7f4d2489-2457-4047-e9fc-65cc631579d4"
      },
      "execution_count": 18,
      "outputs": [
        {
          "output_type": "stream",
          "name": "stdout",
          "text": [
            "MSE com variável \"Área\": 6001398.986388023\n"
          ]
        }
      ]
    },
    {
      "cell_type": "markdown",
      "source": [
        "5. Validação e Inclusão de Novas Variáveis\n",
        "\n",
        "Vamos incluir as variáveis \"Mobiliado\" e \"Números de Quartos\" e verificar se o EQM melhora."
      ],
      "metadata": {
        "id": "UMLsZaCFvn_Z"
      }
    },
    {
      "cell_type": "code",
      "source": [
        "# Incluir variáveis adicionais\n",
        "X = data[['area', 'mobiliaria', 'quartos']]\n",
        "\n",
        "# Dividir os dados em treino e teste\n",
        "X_train, X_test, y_train, y_test = train_test_split(X, y, test_size=0.3, random_state=42)\n",
        "\n",
        "# Treinar o modelo de KNN com K=5\n",
        "knn = KNeighborsRegressor(n_neighbors=5)\n",
        "knn.fit(X_train, y_train)\n",
        "\n",
        "# Prever no conjunto de teste\n",
        "y_pred = knn.predict(X_test)\n",
        "\n",
        "# Calcular o EQM\n",
        "mse = mean_squared_error(y_test, y_pred)\n",
        "print(f'MSE com variáveis \"Área\", \"Mobiliado\" e \"Números de Quartos\": {mse}')\n"
      ],
      "metadata": {
        "colab": {
          "base_uri": "https://localhost:8080/"
        },
        "id": "a8ZGuXU_vrfZ",
        "outputId": "f1472317-cbd8-4ef3-dead-c362a3a3dc61"
      },
      "execution_count": 19,
      "outputs": [
        {
          "output_type": "stream",
          "name": "stdout",
          "text": [
            "MSE com variáveis \"Área\", \"Mobiliado\" e \"Números de Quartos\": 5829989.223144106\n"
          ]
        }
      ]
    },
    {
      "cell_type": "markdown",
      "source": [
        "6. Análise do Melhor K\n",
        "Vamos testar diferentes valores de K para encontrar o que retorna o menor EQM."
      ],
      "metadata": {
        "id": "ArXNB2tcv6QD"
      }
    },
    {
      "cell_type": "code",
      "source": [
        "# Testar diferentes valores de K\n",
        "errors = []\n",
        "for k in range(1, 21):\n",
        "    knn = KNeighborsRegressor(n_neighbors=k)\n",
        "    knn.fit(X_train, y_train)\n",
        "    y_pred = knn.predict(X_test)\n",
        "    mse = mean_squared_error(y_test, y_pred)\n",
        "    errors.append(mse)\n",
        "    print(f'K={k}, MSE={mse}')\n",
        "\n",
        "# Plotar os resultados\n",
        "plt.plot(range(1, 21), errors)\n",
        "plt.xlabel('K')\n",
        "plt.ylabel('Mean Squared Error')\n",
        "plt.title('MSE para diferentes valores de K')\n",
        "plt.show()\n"
      ],
      "metadata": {
        "colab": {
          "base_uri": "https://localhost:8080/",
          "height": 835
        },
        "id": "_B38PZ30v89Z",
        "outputId": "50cde7a4-f254-4aad-eee7-4a36b126bd25"
      },
      "execution_count": 20,
      "outputs": [
        {
          "output_type": "stream",
          "name": "stdout",
          "text": [
            "K=1, MSE=9524491.836244542\n",
            "K=2, MSE=7196902.105505303\n",
            "K=3, MSE=6405749.0590559365\n",
            "K=4, MSE=5972167.087667654\n",
            "K=5, MSE=5829989.223144106\n",
            "K=6, MSE=5637918.743735705\n",
            "K=7, MSE=5506171.044826665\n",
            "K=8, MSE=5458044.518636931\n",
            "K=9, MSE=5429340.204577835\n",
            "K=10, MSE=5359260.158300063\n",
            "K=11, MSE=5322187.332145821\n",
            "K=12, MSE=5288602.374382667\n",
            "K=13, MSE=5287512.6143953465\n",
            "K=14, MSE=5272099.9573662905\n",
            "K=15, MSE=5213992.189634712\n",
            "K=16, MSE=5212420.261496997\n",
            "K=17, MSE=5161684.336287714\n",
            "K=18, MSE=5176465.878606278\n",
            "K=19, MSE=5192984.0498528555\n",
            "K=20, MSE=5164948.449727074\n"
          ]
        },
        {
          "output_type": "display_data",
          "data": {
            "text/plain": [
              "<Figure size 640x480 with 1 Axes>"
            ],
            "image/png": "[encoded data removed]"
          },
          "metadata": {}
        }
      ]
    },
    {
      "cell_type": "markdown",
      "source": [
        "7. Conclusão\n",
        "Baseado nos resultados obtidos, podemos concluir qual o melhor valor de K para o nosso modelo de KNN e quais variáveis contribuem para uma melhor previsão do valor do aluguel."
      ],
      "metadata": {
        "id": "dHqDin7BwPWO"
      }
    },
    {
      "cell_type": "code",
      "source": [
        "# Melhor valor de K\n",
        "best_k = np.argmin(errors) + 1\n",
        "print(f'O melhor valor de K é {best_k} com MSE={min(errors)}')\n"
      ],
      "metadata": {
        "colab": {
          "base_uri": "https://localhost:8080/"
        },
        "id": "bOqHJoN-wS09",
        "outputId": "0fbcfe3b-1a03-4435-a049-959b221cdd85"
      },
      "execution_count": 16,
      "outputs": [
        {
          "output_type": "stream",
          "name": "stdout",
          "text": [
            "O melhor valor de K é 17 com MSE=5161684.336287714\n"
          ]
        }
      ]
    }
  ],
  "metadata": {
    "colab": {
      "name": "Welcome To Colab",
      "provenance": [],
      "include_colab_link": true
    },
    "kernelspec": {
      "display_name": "Python 3",
      "name": "python3"
    }
  },
  "nbformat": 4,
  "nbformat_minor": 0
}