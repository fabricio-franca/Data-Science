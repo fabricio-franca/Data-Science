{
  "cells": [
    {
      "cell_type": "markdown",
      "metadata": {
        "id": "view-in-github",
        "colab_type": "text"
      },
      "source": [
        "<a href=\"https://colab.research.google.com/github/fabricio-franca/Data_Science/blob/main/1TIAR_RN_Aula03_Perceptron_ALUNO.ipynb\" target=\"_parent\"><img src=\"https://colab.research.google.com/assets/colab-badge.svg\" alt=\"Open In Colab\"/></a>"
      ]
    },
    {
      "cell_type": "markdown",
      "metadata": {
        "id": "rAFzbrggx1c2"
      },
      "source": [
        "FIAP - Redes Neurais Artificiais, Deep Learning e Algoritmos Genéticos\n",
        "\n",
        "# Aula 03 - Trabalhando com Perceptron\n",
        "\n",
        "## Implementação de um Perceptron simples"
      ]
    },
    {
      "cell_type": "code",
      "execution_count": null,
      "metadata": {
        "id": "LN4r4U_Cx1dA"
      },
      "outputs": [],
      "source": [
        "# Definir a função de agregação de informação (soma poderada)\n"
      ]
    },
    {
      "cell_type": "code",
      "execution_count": null,
      "metadata": {
        "id": "fqsLOvR_x1dG"
      },
      "outputs": [],
      "source": [
        "# Definir a função de ativação: FUNÇÃO DEGRAU\n"
      ]
    },
    {
      "cell_type": "code",
      "execution_count": 30,
      "metadata": {
        "id": "DRcG6eV-x1dJ"
      },
      "outputs": [],
      "source": [
        "x = [1,2,3]\n",
        "w = [0.1,0.2,0.3]\n",
        "b = 0\n",
        "u = 0"
      ]
    },
    {
      "cell_type": "code",
      "execution_count": 38,
      "metadata": {
        "id": "yNoqh-yjx1dM"
      },
      "outputs": [],
      "source": [
        "def perceptron(x, w, b):\n",
        "  u = 0\n",
        "  for i in range(len(x)):\n",
        "    u += x[i] * w[i]\n",
        "  u += b\n",
        "  return u\n",
        "\n",
        "def funcaodegrau(u):\n",
        "  if u >= 0:\n",
        "    return 1\n",
        "  return 0"
      ]
    },
    {
      "cell_type": "code",
      "source": [
        "print(f'Função degrau: {perceptron(x,w,b)}')"
      ],
      "metadata": {
        "colab": {
          "base_uri": "https://localhost:8080/"
        },
        "id": "DpXRDR5RFRkl",
        "outputId": "e60cff00-fd53-4bcd-98b5-74d19e2fc2ee"
      },
      "execution_count": 39,
      "outputs": [
        {
          "output_type": "stream",
          "name": "stdout",
          "text": [
            "Função degrau: 1.4\n"
          ]
        }
      ]
    },
    {
      "cell_type": "markdown",
      "metadata": {
        "id": "0tje9NEcx1dS"
      },
      "source": [
        "## Casos de aplicação do perceptron\n",
        "\n",
        "Vamos analisar a base `escolha_faculdade.xlsx` com exemplos de faculdades identificadas pelo ID e com um conjunto de variáveis que as descrevem. As variáveis são:\n",
        "\n",
        "- reconhecida_MEC: a faculdade é reconhecida pelo MEC? 1=sim ; 0=não\n",
        "- facilidade_pagamento: a faculdade apresenta facilidades para pagamento? 1=sim ; 0=não\n",
        "- flexibilidade_ensino: o quão flexível é o método de ensino? 1=somente presencial ; 2=somente EAD ; 3=misto\n",
        "- entrada_mercado: o que a faculdade oferece para facilitar a entrada do aluno no mercado de trabalho? 0=sem suporte ; 1=feiras ; 2=feiras e estágios ; 3=feiras, estágios e convênios com empresas\n",
        "- score_infraestrutura: qual nota de 0 a 100 a escola possui para sua infraestrutura?\n",
        "- empregabilidade: qual a porcentagem de alunos egressos empregados?\n",
        "- acesso_facil: a localização possui fácil acesso, como metrô, ônibus, estacionamento? 1=sim ; 0=não"
      ]
    },
    {
      "cell_type": "code",
      "execution_count": 40,
      "metadata": {
        "id": "j4eSjwmXx1dW"
      },
      "outputs": [],
      "source": [
        "# Pesos já fornecidos\n",
        "pesos = [ 0.10, 0.05, 0.05, 0.2, 0.25, 0.3, 0.05 ]"
      ]
    },
    {
      "cell_type": "code",
      "execution_count": 41,
      "metadata": {
        "id": "nwF3sxTfx1dY"
      },
      "outputs": [],
      "source": [
        "import pandas as pd\n",
        "import math"
      ]
    },
    {
      "cell_type": "code",
      "execution_count": 42,
      "metadata": {
        "id": "mvm9x_zVx1da"
      },
      "outputs": [],
      "source": [
        "escolas = df.T"
      ]
    },
    {
      "cell_type": "code",
      "execution_count": 43,
      "metadata": {
        "id": "DHt4l-2Rx1dc",
        "colab": {
          "base_uri": "https://localhost:8080/",
          "height": 304
        },
        "outputId": "bffc8657-adbf-4315-f786-52b497e8bdf0"
      },
      "outputs": [
        {
          "output_type": "execute_result",
          "data": {
            "text/plain": [
              "reconhecida_MEC          1\n",
              "facilidade_pagamento     0\n",
              "flexibilidade_ensino     3\n",
              "entrada_mercado          3\n",
              "score_infraestrutura    89\n",
              "empregabilidade         89\n",
              "acesso_facil             0\n",
              "Name: 9, dtype: int64"
            ],
            "text/html": [
              "<div>\n",
              "<style scoped>\n",
              "    .dataframe tbody tr th:only-of-type {\n",
              "        vertical-align: middle;\n",
              "    }\n",
              "\n",
              "    .dataframe tbody tr th {\n",
              "        vertical-align: top;\n",
              "    }\n",
              "\n",
              "    .dataframe thead th {\n",
              "        text-align: right;\n",
              "    }\n",
              "</style>\n",
              "<table border=\"1\" class=\"dataframe\">\n",
              "  <thead>\n",
              "    <tr style=\"text-align: right;\">\n",
              "      <th></th>\n",
              "      <th>9</th>\n",
              "    </tr>\n",
              "  </thead>\n",
              "  <tbody>\n",
              "    <tr>\n",
              "      <th>reconhecida_MEC</th>\n",
              "      <td>1</td>\n",
              "    </tr>\n",
              "    <tr>\n",
              "      <th>facilidade_pagamento</th>\n",
              "      <td>0</td>\n",
              "    </tr>\n",
              "    <tr>\n",
              "      <th>flexibilidade_ensino</th>\n",
              "      <td>3</td>\n",
              "    </tr>\n",
              "    <tr>\n",
              "      <th>entrada_mercado</th>\n",
              "      <td>3</td>\n",
              "    </tr>\n",
              "    <tr>\n",
              "      <th>score_infraestrutura</th>\n",
              "      <td>89</td>\n",
              "    </tr>\n",
              "    <tr>\n",
              "      <th>empregabilidade</th>\n",
              "      <td>89</td>\n",
              "    </tr>\n",
              "    <tr>\n",
              "      <th>acesso_facil</th>\n",
              "      <td>0</td>\n",
              "    </tr>\n",
              "  </tbody>\n",
              "</table>\n",
              "</div><br><label><b>dtype:</b> int64</label>"
            ]
          },
          "metadata": {},
          "execution_count": 43
        }
      ],
      "source": [
        "escolas[9]"
      ]
    },
    {
      "cell_type": "code",
      "execution_count": 44,
      "metadata": {
        "id": "KAwdaIDAx1de",
        "colab": {
          "base_uri": "https://localhost:8080/"
        },
        "outputId": "a42cd443-344e-48a2-bf4d-e861beb90123"
      },
      "outputs": [
        {
          "output_type": "stream",
          "name": "stderr",
          "text": [
            "<ipython-input-38-83cc39634c23>:4: FutureWarning: Series.__getitem__ treating keys as positions is deprecated. In a future version, integer keys will always be treated as labels (consistent with DataFrame behavior). To access a value by position, use `ser.iloc[pos]`\n",
            "  u += x[i] * w[i]\n"
          ]
        },
        {
          "output_type": "execute_result",
          "data": {
            "text/plain": [
              "49.8"
            ]
          },
          "metadata": {},
          "execution_count": 44
        }
      ],
      "source": [
        "perceptron(escolas[9], pesos, 0)"
      ]
    },
    {
      "cell_type": "code",
      "execution_count": null,
      "metadata": {
        "id": "e2sxlSJ9x1dg"
      },
      "outputs": [],
      "source": []
    },
    {
      "cell_type": "code",
      "execution_count": null,
      "metadata": {
        "id": "gHRgaGTqx1di"
      },
      "outputs": [],
      "source": []
    },
    {
      "cell_type": "code",
      "execution_count": null,
      "metadata": {
        "id": "WyiMDAXax1dj"
      },
      "outputs": [],
      "source": []
    },
    {
      "cell_type": "code",
      "execution_count": null,
      "metadata": {
        "id": "WZpBvxu1x1dk"
      },
      "outputs": [],
      "source": []
    },
    {
      "cell_type": "code",
      "execution_count": null,
      "metadata": {
        "id": "5-8ISP1Hx1dl"
      },
      "outputs": [],
      "source": []
    },
    {
      "cell_type": "code",
      "execution_count": null,
      "metadata": {
        "id": "KMnJ_n_Ox1dm"
      },
      "outputs": [],
      "source": []
    },
    {
      "cell_type": "code",
      "execution_count": null,
      "metadata": {
        "id": "qVrZ0JUex1dn"
      },
      "outputs": [],
      "source": []
    }
  ],
  "metadata": {
    "kernelspec": {
      "display_name": "Python 3",
      "language": "python",
      "name": "python3"
    },
    "language_info": {
      "codemirror_mode": {
        "name": "ipython",
        "version": 3
      },
      "file_extension": ".py",
      "mimetype": "text/x-python",
      "name": "python",
      "nbconvert_exporter": "python",
      "pygments_lexer": "ipython3",
      "version": "3.7.3"
    },
    "colab": {
      "provenance": [],
      "include_colab_link": true
    }
  },
  "nbformat": 4,
  "nbformat_minor": 0
}