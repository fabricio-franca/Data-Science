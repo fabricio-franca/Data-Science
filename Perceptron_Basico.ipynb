{
  "nbformat": 4,
  "nbformat_minor": 0,
  "metadata": {
    "colab": {
      "provenance": [],
      "authorship_tag": "ABX9TyPQDdScaP/aJ17JRBrpVulH",
      "include_colab_link": true
    },
    "kernelspec": {
      "name": "python3",
      "display_name": "Python 3"
    },
    "language_info": {
      "name": "python"
    }
  },
  "cells": [
    {
      "cell_type": "markdown",
      "metadata": {
        "id": "view-in-github",
        "colab_type": "text"
      },
      "source": [
        "<a href=\"https://colab.research.google.com/github/fabricio-franca/Data_Science/blob/main/Perceptron_Basico.ipynb\" target=\"_parent\"><img src=\"https://colab.research.google.com/assets/colab-badge.svg\" alt=\"Open In Colab\"/></a>"
      ]
    },
    {
      "cell_type": "code",
      "source": [
        "import numpy as np"
      ],
      "metadata": {
        "id": "Ac4ofOjULFm1"
      },
      "execution_count": 1,
      "outputs": []
    },
    {
      "cell_type": "markdown",
      "source": [
        "Definir inputs, resultado e peso"
      ],
      "metadata": {
        "id": "ZFXjW_4ZG4A3"
      }
    },
    {
      "cell_type": "code",
      "execution_count": 2,
      "metadata": {
        "id": "zkDpXXi5G11z"
      },
      "outputs": [],
      "source": [
        "entradas = np.array([[0,0],[0,1],[1,0],[1,1]])\n",
        "saidas = np.array([0,0,0,1])\n",
        "pesos = np.array([0,0])"
      ]
    },
    {
      "cell_type": "markdown",
      "source": [
        "Taxa de Aprendizagem"
      ],
      "metadata": {
        "id": "YfM-zawaIdRv"
      }
    },
    {
      "cell_type": "code",
      "source": [
        "tx_aprendizagem = 0.1\n",
        "bias = 0\n",
        "epocas = 5"
      ],
      "metadata": {
        "id": "0HKwxTY-Ii2D"
      },
      "execution_count": 17,
      "outputs": []
    },
    {
      "cell_type": "markdown",
      "source": [
        "Função de Ativação"
      ],
      "metadata": {
        "id": "B7at5PFSMo9m"
      }
    },
    {
      "cell_type": "code",
      "source": [
        "def funcao_ativacao(soma):\n",
        "    if soma >= 1:\n",
        "        return 1\n",
        "    return 0"
      ],
      "metadata": {
        "id": "1oq45RuyMtH5"
      },
      "execution_count": 7,
      "outputs": []
    },
    {
      "cell_type": "markdown",
      "source": [
        "Função Soma"
      ],
      "metadata": {
        "id": "hNuji2_INN1p"
      }
    },
    {
      "cell_type": "code",
      "source": [
        "# prompt: criar uma função que multiplique a entrada com o peso e some com a outra entrada vezes o peso\n",
        "\n",
        "def calculosaida(e, p):\n",
        "  s = e.dot(p) + bias\n",
        "  return funcao_ativacao(s)\n"
      ],
      "metadata": {
        "id": "2hLOdQjNNNFw"
      },
      "execution_count": 9,
      "outputs": []
    },
    {
      "cell_type": "markdown",
      "source": [
        "Função Perceptron"
      ],
      "metadata": {
        "id": "IuYGHRuxTea5"
      }
    },
    {
      "cell_type": "code",
      "source": [
        "# prompt: crie uma função para treinar um perceptron e ajustar os pesos. bias sempre 0\n",
        "\n",
        "def treinar_perceptron(entradas, saidas, pesos, tx_aprendizagem, epocas):\n",
        "    for epoca in range(epocas):\n",
        "      for i in range(len(entradas)):\n",
        "        saida_calculada = calculosaida(entradas[i], pesos)\n",
        "        erro = saidas[i] - saida_calculada\n",
        "        if erro != 0:\n",
        "          pesos = pesos + tx_aprendizagem * erro * entradas[i]\n",
        "          print(f'Peso atualizado: {pesos}')\n",
        "        else:\n",
        "          print('Nenhum peso atualizado')\n",
        "    return pesos\n"
      ],
      "metadata": {
        "id": "qYGqghEdQVsN"
      },
      "execution_count": 25,
      "outputs": []
    },
    {
      "cell_type": "code",
      "source": [
        "treinar_perceptron(entradas,saidas, pesos, tx_aprendizagem, epocas)"
      ],
      "metadata": {
        "colab": {
          "base_uri": "https://localhost:8080/"
        },
        "id": "ySWf4utCQ7EO",
        "outputId": "7a236289-2aab-4789-d55f-b8741ade583f"
      },
      "execution_count": 26,
      "outputs": [
        {
          "output_type": "stream",
          "name": "stdout",
          "text": [
            "Nenhum peso atualizado\n",
            "Nenhum peso atualizado\n",
            "Nenhum peso atualizado\n",
            "Peso atualizado: [0.1 0.1]\n",
            "Nenhum peso atualizado\n",
            "Nenhum peso atualizado\n",
            "Nenhum peso atualizado\n",
            "Peso atualizado: [0.2 0.2]\n",
            "Nenhum peso atualizado\n",
            "Nenhum peso atualizado\n",
            "Nenhum peso atualizado\n",
            "Peso atualizado: [0.3 0.3]\n",
            "Nenhum peso atualizado\n",
            "Nenhum peso atualizado\n",
            "Nenhum peso atualizado\n",
            "Nenhum peso atualizado\n",
            "Nenhum peso atualizado\n",
            "Nenhum peso atualizado\n",
            "Nenhum peso atualizado\n",
            "Nenhum peso atualizado\n"
          ]
        },
        {
          "output_type": "execute_result",
          "data": {
            "text/plain": [
              "array([0.3, 0.3])"
            ]
          },
          "metadata": {},
          "execution_count": 26
        }
      ]
    }
  ]
}